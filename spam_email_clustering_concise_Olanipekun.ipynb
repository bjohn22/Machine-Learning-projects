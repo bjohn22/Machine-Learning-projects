{
 "cells": [
  {
   "cell_type": "markdown",
   "id": "e6a7f116",
   "metadata": {},
   "source": [
    "## Case study 3.  Spam or Ham\n",
    "More than 8500 email messages has been provided. These email messages have spam or ham labels.  \n",
    "And the primary objective is to build a classification model that can predict an unknown email as spam or no spam.  "
   ]
  },
  {
   "cell_type": "code",
   "execution_count": 1,
   "id": "fdcaea70",
   "metadata": {},
   "outputs": [],
   "source": [
    "import os\n",
    "import email\n",
    "from html.parser import HTMLParser\n",
    "from bs4 import BeautifulSoup\n",
    "import numpy as np\n",
    "import pandas as pd"
   ]
  },
  {
   "cell_type": "markdown",
   "id": "e58bf577",
   "metadata": {},
   "source": [
    "### Email Parser.  \n",
    "- Here we build an email parser that will take a folder path. \n",
    "- it will check the mailtype and then append the content to an initialized list.  \n",
    "- If the email contains hyper link and html tags, we will use BeautifulSoup library to filter those out.\n",
    "- Python library 'email' will be used to parse the emails and its .getpayload() method will be used to extract the main body of the email messages.  \n",
    "\n"
   ]
  },
  {
   "cell_type": "code",
   "execution_count": 2,
   "id": "6d4ace81",
   "metadata": {},
   "outputs": [],
   "source": [
    "import codecs\n",
    "types_of_encoding = [\"utf8\", \"cp1252\"]\n",
    "counter=0\n",
    "\n",
    "\n",
    "def email_prep(folder_path=\" \"):\n",
    "    targets = []\n",
    "    data = []\n",
    "    count = 0\n",
    "    #not_spamList = os.listdir(\"./easy_ham/\")\n",
    "    #spamList = os.listdir(\"./spam/\")  \n",
    "    \n",
    "\n",
    "    for i in os.listdir(folder_path):\n",
    "        file = os.path.join(folder_path, i)\n",
    "        \n",
    "        for encoding_type in types_of_encoding:\n",
    "            with open(file, encoding = encoding_type, errors ='replace') as f:\n",
    "                x = email.message_from_file(f)\n",
    "        mailType = x.get_content_type()\n",
    "        if mailType == \"text/plain\":\n",
    "            #data.append(nlp(x.get_payload()).vector)\n",
    "            data.append(x.get_payload())\n",
    "            targets.append(0)\n",
    "        elif mailType == \"text/html\":\n",
    "            tmp = BeautifulSoup(x.get_payload(), 'html.parser')\n",
    "            tmp = tmp.text.replace(\"\\n\",\" \")\n",
    "            #tmp = nlp(tmp)\n",
    "            data.append(tmp)\n",
    "            targets.append(0)\n",
    "#         elif mailType == \"multipart/alternative\": #This loop did not work for me.\n",
    "#             for x_ in x:\n",
    "#                 data.append(x_.get_payload())\n",
    "#                 targets.append(0)\n",
    "        else:\n",
    "            print(f\"msg {i} not parsed\")\n",
    "            print(x.get_content_type())\n",
    "#         if count % 100 == 0:\n",
    "#             print(count)\n",
    "        count = count + 1\n",
    "#         if count == 1000:\n",
    "#             break\n",
    "    return targets, data, count"
   ]
  },
  {
   "cell_type": "code",
   "execution_count": 3,
   "id": "9f1612cb",
   "metadata": {},
   "outputs": [
    {
     "data": {
      "text/plain": [
       "'C:\\\\Users\\\\olani\\\\OneDrive\\\\Documents\\\\Data Science\\\\SMU-Data Science\\\\Quantifying the world'"
      ]
     },
     "execution_count": 3,
     "metadata": {},
     "output_type": "execute_result"
    }
   ],
   "source": [
    "os.getcwd()"
   ]
  },
  {
   "cell_type": "markdown",
   "id": "1210b84a",
   "metadata": {},
   "source": [
    "## 1 Parse the Spam messages and store them in a list"
   ]
  },
  {
   "cell_type": "code",
   "execution_count": 4,
   "id": "d0ca5887",
   "metadata": {},
   "outputs": [
    {
     "name": "stdout",
     "output_type": "stream",
     "text": [
      "msg 00022.8203cdf03888f656dc0381701148f73d not parsed\n",
      "multipart/mixed\n",
      "msg 00023.b6d27c684f5fc803cfa1060adb2d0805 not parsed\n",
      "multipart/mixed\n",
      "msg 00024.6b5437b14d403176c3f046c871b5b52f not parsed\n",
      "multipart/alternative\n",
      "msg 00038.8d93819b95ff90bf2e2b141c2909bfc9 not parsed\n",
      "multipart/alternative\n",
      "msg 00039.889d785885f092c269741b11f2124dce not parsed\n",
      "multipart/mixed\n",
      "msg 00074.51aab41b27a9ba7736803318a2e4c8de not parsed\n",
      "multipart/mixed\n",
      "msg 00078.6944f51ce9c0586d8f9137d2d2207df0 not parsed\n",
      "multipart/mixed\n",
      "msg 00080.5a7386cb47846dfef68429241ad80354 not parsed\n",
      "multipart/alternative\n",
      "msg 00082.0341a767bbaca01fd89b6236ef681257 not parsed\n",
      "multipart/mixed\n",
      "msg 00087.f09438ca6392721e63696f4f753effbb not parsed\n",
      "multipart/mixed\n",
      "msg 00090.52630c4c07cd069c7bc7658c1a7a7253 not parsed\n",
      "multipart/alternative\n",
      "msg 00092.8ca54ce0c31e6149b5ef05c0108743be not parsed\n",
      "multipart/mixed\n",
      "msg 00095.17594a58d6736a8f6a1990b0b92090cd not parsed\n",
      "multipart/mixed\n",
      "msg 00096.a791864be5f1205bf2cea0adf241b25a not parsed\n",
      "multipart/alternative\n",
      "msg 00105.00951a21b8464f4eb4e106d6b14c68b6 not parsed\n",
      "multipart/alternative\n",
      "msg 00115.c97af50ef7ccd816f95bbdc6f4d226b2 not parsed\n",
      "multipart/mixed\n",
      "msg 00120.58579af867ff9a702cff23e7b8818a59 not parsed\n",
      "multipart/alternative\n",
      "msg 00124.db848e36f1b4c2705cbc16ef33a302d4 not parsed\n",
      "multipart/alternative\n",
      "msg 00126.e98e1ba87a38e0cceeb55f3b86dbd4dd not parsed\n",
      "multipart/mixed\n",
      "msg 00128.721b6b20d5834d490662e2ae8c5c0684 not parsed\n",
      "multipart/mixed\n",
      "msg 00135.00e388e3b23df6278a8845047ca25160 not parsed\n",
      "multipart/mixed\n",
      "msg 00137.09969121c8540730f1020b5a700b4c42 not parsed\n",
      "multipart/alternative\n",
      "msg 00150.f97c73fa56460a6afc6d9418ad76b5b5 not parsed\n",
      "multipart/alternative\n",
      "msg 00180.13a95a2542a0fd01ff24303561cca949 not parsed\n",
      "multipart/mixed\n",
      "msg 00186.a66b4fc4ab114c9cb37e1a31d1ea1aeb not parsed\n",
      "multipart/alternative\n",
      "msg 00187.efd97ab2034b3384606e21db00014ecb not parsed\n",
      "multipart/mixed\n",
      "msg 00191.9ff80a41f015b7a6c409732e41c0df07 not parsed\n",
      "multipart/alternative\n",
      "msg 00192.e5a6bb15ae1e965f3b823c75e435651a not parsed\n",
      "multipart/alternative\n",
      "msg 00194.767c323b4ae7a4909397e42cbd0c56a4 not parsed\n",
      "multipart/mixed\n",
      "msg 00198.aad7df5b8be674a0ce09c8040ef53f1e not parsed\n",
      "multipart/mixed\n",
      "msg 00203.3956f8506171ffd90a0060cafad4fdea not parsed\n",
      "multipart/alternative\n",
      "msg 00206.0c8362d7e86ddcaf39829800ac40e2ca not parsed\n",
      "multipart/mixed\n",
      "msg 00207.0b71ac81a360455c1514f5872564b1e1 not parsed\n",
      "multipart/mixed\n",
      "msg 00208.369921416af87a0b70f133632131b184 not parsed\n",
      "multipart/alternative\n",
      "msg 00209.5276f967533f2ce0209c1eff631a86ff not parsed\n",
      "multipart/alternative\n",
      "msg 00214.1367039e50dc6b7adb0f2aa8aba83216 not parsed\n",
      "multipart/alternative\n",
      "msg 00216.89c1ede0b81fb09f7334f47a5183410a not parsed\n",
      "multipart/alternative\n",
      "msg 00219.eaf6c0ff67706c784f67f5c1225028a1 not parsed\n",
      "multipart/mixed\n",
      "msg 00223.349b9b0748ee72bad60729ffaae2cc00 not parsed\n",
      "multipart/alternative\n",
      "msg 0023.4299adbda55862876440ecbc2fce6a67 not parsed\n",
      "multipart/mixed\n",
      "msg 00232.2d55046b9cf0b192ad6332545ef2a334 not parsed\n",
      "multipart/alternative\n",
      "msg 00237.9cee6fd8bdd653d21d92158e702adf50 not parsed\n",
      "multipart/related\n",
      "msg 00238.e3e16467d10137fa9a99b1701d76ae94 not parsed\n",
      "multipart/alternative\n",
      "msg 00239.2f1370f9cba5ab21297eadb2af40b051 not parsed\n",
      "multipart/related\n",
      "msg 0024.fc4bd0b22cd7907e99f8a35b74655b15 not parsed\n",
      "multipart/mixed\n",
      "msg 00241.c28ade5771085a8fddd054a219566b7c not parsed\n",
      "multipart/mixed\n",
      "msg 00248.b243bca51ee69d6e428ca2f45f0fe41b not parsed\n",
      "multipart/alternative\n",
      "msg 0025.97302502dc8e20ab7e7eb05f926e1bab not parsed\n",
      "multipart/alternative\n",
      "msg 00252.7e355e0c5fd1de609684544262435579 not parsed\n",
      "multipart/related\n",
      "msg 00256.edd9bfb44729edf3c4f177814fd8c9e1 not parsed\n",
      "multipart/mixed\n",
      "msg 00260.c75ce8b8d8bfc55723426979d260bf61 not parsed\n",
      "multipart/mixed\n",
      "msg 00261.12b64e557e52daf5fc5a52e47df2f4e3 not parsed\n",
      "multipart/alternative\n",
      "msg 00262.678598cbe253f19239da03b65dac7392 not parsed\n",
      "multipart/alternative\n",
      "msg 00264.02b614f34aa0d5970959123b9386b285 not parsed\n",
      "multipart/alternative\n",
      "msg 00265.d2acd28cf29d90c9b7a1297b219187b3 not parsed\n",
      "multipart/alternative\n",
      "msg 00269.e85c3ef79a5cf21ee1ef7b8df17760e1 not parsed\n",
      "multipart/alternative\n",
      "msg 00271.85110ef4815c81ccea879857b0b062ed not parsed\n",
      "multipart/mixed\n",
      "msg 00273.0c7d73771d79e84e2aab8c909c5bb210 not parsed\n",
      "multipart/alternative\n",
      "msg 00275.4675c4cce2bf27adaafeef693d562f8b not parsed\n",
      "multipart/mixed\n",
      "msg 00283.e8e42ee52f919afd2a453983f1256b1d not parsed\n",
      "multipart/alternative\n",
      "msg 00287.b0495a4dbdff36654c3b3ee2f92bdbf3 not parsed\n",
      "multipart/alternative\n",
      "msg 00291.7aa227e74e89bdd529a3875459d0d5a2 not parsed\n",
      "multipart/alternative\n",
      "msg 00293.f4e9fd5549f9063ad5559c094edf08f2 not parsed\n",
      "multipart/related\n",
      "msg 00298.90b548a0816ca0783f012bb9c69166cc not parsed\n",
      "multipart/alternative\n",
      "msg 00299.f786faed64bef7134e52fafa17ea861f not parsed\n",
      "multipart/mixed\n",
      "msg 00303.22239f1393297a691eb5df3dfe7a5001 not parsed\n",
      "multipart/mixed\n",
      "msg 00307.7ed50c6d80c6e37c8cc1b132f4a19e4d not parsed\n",
      "multipart/related\n",
      "msg 00308.c80d7cb2a6981efac408b429d42d2b89 not parsed\n",
      "multipart/alternative\n",
      "msg 00309.d9efb4713f45f4e1237d3f9b757d0916 not parsed\n",
      "multipart/alternative\n",
      "msg 00311.9797029f3ee441b00f3b7521e573cb96 not parsed\n",
      "multipart/related\n",
      "msg 00315.0ee82a2e087ffcf6efbd30b36499ead6 not parsed\n",
      "multipart/mixed\n",
      "msg 00330.c5f7346dec1e6fe6ed324d8e78a2b46e not parsed\n",
      "multipart/mixed\n",
      "msg 00332.580b62752adefb845db173e375271cb5 not parsed\n",
      "multipart/mixed\n",
      "msg 00333.4bb36a535cb3d738f30f985f1e10a786 not parsed\n",
      "multipart/mixed\n",
      "msg 00334.a1038f98abb76b403d068afb57bfb290 not parsed\n",
      "multipart/mixed\n",
      "msg 00335.f71c6e9b23487811a44e6aeaa50e73a5 not parsed\n",
      "multipart/mixed\n",
      "msg 00338.a595ffbb6cbcf3a5058293051ebaabf4 not parsed\n",
      "multipart/related\n",
      "msg 00339.16bd110d8aa11e7d9398287c27b1b389 not parsed\n",
      "multipart/mixed\n",
      "msg 00340.520783fd73bb73df88d6effd04e1f55d not parsed\n",
      "multipart/mixed\n",
      "msg 00341.99b463b92346291f5848137f4a253966 not parsed\n",
      "multipart/mixed\n",
      "msg 00344.17882edad13c2c761e6d8d99eef5a346 not parsed\n",
      "multipart/alternative\n",
      "msg 00352.19a8ba03f566612e0b9e124609d9dbd0 not parsed\n",
      "multipart/alternative\n",
      "msg 00365.da6795d02b44e4d5e168d62718f3e7c9 not parsed\n",
      "multipart/alternative\n",
      "msg 00366.f0bfcc3c84da11ae1154c6c593362f69 not parsed\n",
      "multipart/alternative\n",
      "msg 00370.549e569ab1b84fb13a4ea7d61f98f86d not parsed\n",
      "multipart/mixed\n",
      "msg 00384.2054d62f06fd10e4018a43e156b32acf not parsed\n",
      "multipart/alternative\n",
      "msg 00389.6222f886a2658f890c49f1853beea193 not parsed\n",
      "multipart/mixed\n",
      "msg 00390.ce19abc8034db9e6b435d494a91db87a not parsed\n",
      "multipart/mixed\n",
      "msg 00399.cd1239166aa4d43f7c3127c3b48b3f18 not parsed\n",
      "multipart/alternative\n",
      "msg 00403.46d0face754b6bb7dce8b3ea560f75fb not parsed\n",
      "multipart/mixed\n",
      "msg 00421.ca2fe949a956845a9ba81c649a7db6c0 not parsed\n",
      "multipart/alternative\n",
      "msg 0043.8d93819b95ff90bf2e2b141c2909bfc9 not parsed\n",
      "multipart/alternative\n",
      "msg 00435.69467ebbdbdd2d891624bf8fccda579f not parsed\n",
      "multipart/alternative\n",
      "msg 00436.4ef1bd17d9202e4229485da7a47afd6c not parsed\n",
      "multipart/alternative\n",
      "msg 0044.889d785885f092c269741b11f2124dce not parsed\n",
      "multipart/mixed\n",
      "msg 00440.647d9eb44fd0cb069ea92be204966a8e not parsed\n",
      "multipart/mixed\n",
      "msg 00454.1bb460b3ade9801644e4eb60e18d1f8d not parsed\n",
      "multipart/alternative\n",
      "msg 00467.5b733c506b7165424a0d4a298e67970f not parsed\n",
      "multipart/alternative\n",
      "msg 00468.77534696791a755fb0fb8be8c2704ed8 not parsed\n",
      "multipart/related\n",
      "msg 00472.713268dfca421e165c1ac59bab045e00 not parsed\n",
      "multipart/mixed\n",
      "msg 00475.71f75afb1960d619af86e1c64dcb11fc not parsed\n",
      "multipart/alternative\n",
      "msg 00479.a2cd6780001042d8203b05a6ab0f34ac not parsed\n",
      "multipart/mixed\n",
      "msg 00486.c0a2036a3da75d6d5ac6d19ab4b3d6ec not parsed\n",
      "multipart/alternative\n",
      "msg 00498.48c3098854d339353f1a28a13b196017 not parsed\n",
      "multipart/related\n",
      "msg 0081.3309521659461b743e1bfc3dc688a5f1 not parsed\n",
      "multipart/mixed\n",
      "msg 0085.6e7b1a983ab05445a7eaffcbb6811d3f not parsed\n",
      "multipart/mixed\n",
      "msg 0087.1cbd88a0c1564cb5d6c9b12c8c4175d8 not parsed\n",
      "multipart/alternative\n",
      "msg 0089.51c746428bb5e2793a1c04ce1e0c72c1 not parsed\n",
      "multipart/mixed\n",
      "msg 0094.3ba780eac7dce1c2b063cd1fc12738be not parsed\n",
      "multipart/mixed\n",
      "msg 0097.dce08392ba6bc552d13394fa73974b62 not parsed\n",
      "multipart/alternative\n",
      "msg 0099.c4ff6dba0a5177d3c7d8ef54c8920496 not parsed\n",
      "multipart/mixed\n",
      "msg 0102.2e3969075728dde7a328e05d19b35976 not parsed\n",
      "multipart/mixed\n",
      "msg 0103.8c39bfed2079f865e9dfb75f4416a468 not parsed\n",
      "multipart/alternative\n",
      "msg 0112.ec411d26d1f4decc16af7ef73e69a227 not parsed\n",
      "multipart/alternative\n",
      "msg 0122.21b041c1ad2be417102d7f5d3f0b7045 not parsed\n",
      "multipart/mixed\n",
      "msg 0127.2923761a91d13d3522d8bd077eedc7b7 not parsed\n",
      "multipart/alternative\n",
      "msg 0131.0b7281078874ca88f95d6fdf5d905d50 not parsed\n",
      "multipart/alternative\n",
      "msg 0133.95454d70cc62190c0e167d4c3cb591af not parsed\n",
      "multipart/mixed\n",
      "msg 0135.73d44c9405f00110ae76a3addcb4eed6 not parsed\n",
      "multipart/mixed\n",
      "msg 0142.1fd05cffaba260b9ecd3e75b6dddaf73 not parsed\n",
      "multipart/mixed\n",
      "msg 0144.58d3de25279e1938f24502d70dfa9754 not parsed\n",
      "multipart/alternative\n"
     ]
    },
    {
     "name": "stdout",
     "output_type": "stream",
     "text": [
      "msg 0158.ff5dce5446d2ec91f0caffeffdd48852 not parsed\n",
      "multipart/alternative\n",
      "msg 0189.3d89383221aa3fb155a099838ce9c40a not parsed\n",
      "multipart/mixed\n",
      "msg 0195.8b276e08dd05b0131faa8fb24764f205 not parsed\n",
      "multipart/alternative\n",
      "msg 0196.16da0dc3452b7407d4f89a0b2efcff0c not parsed\n",
      "multipart/mixed\n",
      "msg 0200.a56926c058fa84b0ea031b5774e5dcfa not parsed\n",
      "multipart/alternative\n",
      "msg 0201.9da0b5702a864a8ffd06cfb4c724f9c8 not parsed\n",
      "multipart/alternative\n",
      "msg 0203.beb1b157fc74672074061434cc7bad3c not parsed\n",
      "multipart/mixed\n",
      "msg 0207.3adcb1a14977a49cac8f6e10f64ac6f7 not parsed\n",
      "multipart/mixed\n",
      "msg 0212.9a9f009a6d601e2e34c1b95353983352 not parsed\n",
      "multipart/alternative\n",
      "msg 0215.57c4f4d8e2f582088f8aca38239059f7 not parsed\n",
      "multipart/mixed\n",
      "msg 0216.feb2a8df9887bc2d84e80c9d2a8faf56 not parsed\n",
      "multipart/mixed\n",
      "msg 0217.2a937e0b9912e1e40dbf17bad6026372 not parsed\n",
      "multipart/alternative\n",
      "msg 0218.e3fc04cbcfdf224a5fa652779c01029c not parsed\n",
      "multipart/alternative\n",
      "msg 0223.8ab642208d33d7f9ac50bc2e42c02732 not parsed\n",
      "multipart/alternative\n",
      "msg 0225.7082ef8585280a42940bf98f9be50e55 not parsed\n",
      "multipart/alternative\n",
      "msg 0228.23fc5aadfceb81d121d77dfe37f6929a not parsed\n",
      "multipart/mixed\n",
      "msg 0232.0edc8786183135557c0f2da5a4460508 not parsed\n",
      "multipart/alternative\n",
      "msg 0242.a8ba01c4d998005e3ad3495293582bb6 not parsed\n",
      "multipart/alternative\n",
      "msg 0247.aee6d7984b3dab9a6b0eed524e7a3686 not parsed\n",
      "multipart/related\n",
      "msg 0248.b639977f45a5b1e39b5aa3c4abc2edf6 not parsed\n",
      "multipart/alternative\n",
      "msg 0249.c429ab5c1413c4386bf64b228a68e768 not parsed\n",
      "multipart/related\n",
      "msg 0251.d542591a25f8fe8c4accd692113a0554 not parsed\n",
      "multipart/mixed\n",
      "msg 0258.1d61b380a23168881253ed86bb4f79ac not parsed\n",
      "multipart/alternative\n",
      "msg 0262.c996a3709ca616fce1bfc6d50cf5bda3 not parsed\n",
      "multipart/related\n",
      "msg 0266.99e95dc7251843f7a2015cb602775694 not parsed\n",
      "multipart/mixed\n",
      "msg 0270.d50e186af7a00114ad967b8f77b70338 not parsed\n",
      "multipart/mixed\n",
      "msg 0271.24302cf2e759401d1f9975fe4fc1def9 not parsed\n",
      "multipart/alternative\n",
      "msg 0272.97ecf97bd5f1563ac88d9eb4c8a51062 not parsed\n",
      "multipart/alternative\n",
      "msg 0274.85756abb8d0bcfe267e464a2f33ce686 not parsed\n",
      "multipart/alternative\n",
      "msg 0275.0404a07cd99e27d569958716f392082b not parsed\n",
      "multipart/alternative\n",
      "msg 0279.4ef122899a70a2225ffb9b5c54fde1fc not parsed\n",
      "multipart/alternative\n",
      "msg 0281.7e8c08897b61b9b008238efec9ca8d15 not parsed\n",
      "multipart/mixed\n",
      "msg 0283.04856c4a6fa4393e976c5aaa2c0533d5 not parsed\n",
      "multipart/alternative\n",
      "msg 0285.b44ae825681c0f28db2e742ab790b191 not parsed\n",
      "multipart/mixed\n",
      "msg 0293.ef3561f8707f7fcd1de291d4c2ae9609 not parsed\n",
      "multipart/alternative\n",
      "msg 0297.9e6095368b4e8258e967798cea8fe40e not parsed\n",
      "multipart/alternative\n",
      "msg 0301.ad155a30cca1f9d16e75e8934030edae not parsed\n",
      "multipart/alternative\n",
      "msg 0303.c18c1a0222b07f2b2250fbda5a961b7e not parsed\n",
      "multipart/related\n",
      "msg 0308.1245e8fa9e6092687b535e36b367d8fb not parsed\n",
      "multipart/alternative\n",
      "msg 0309.2a74113b0330ea76cecd28571fc6f7fe not parsed\n",
      "multipart/mixed\n",
      "msg 0313.5126f820bf11ba460e2c1611cee632c1 not parsed\n",
      "multipart/mixed\n",
      "msg 0317.0bea188e5bd639ae421f07b3ad68c5e0 not parsed\n",
      "multipart/related\n",
      "msg 0318.da63a8488410932cf780238ec0ba59eb not parsed\n",
      "multipart/alternative\n",
      "msg 0319.e4a20802d12937998f3b3bf805362a3f not parsed\n",
      "multipart/alternative\n",
      "msg 0321.89f41bbace08275ee298ed419e22bc9a not parsed\n",
      "multipart/related\n",
      "msg 0325.78b93ee9713b6594d03c86993286e6c5 not parsed\n",
      "multipart/mixed\n",
      "msg 0341.7c13df68bb4feae35d9ea86001a3ecad not parsed\n",
      "multipart/mixed\n",
      "msg 0343.0630afbe4ee1ffd0db0ffb81c6de98de not parsed\n",
      "multipart/mixed\n",
      "msg 0344.8bbe5c7c8269a039761968a1b10a936a not parsed\n",
      "multipart/mixed\n",
      "msg 0345.b8ba4d6a115368132d1d580c4c9e0307 not parsed\n",
      "multipart/mixed\n",
      "msg 0346.8c8e3c5107bf6bf30b940f79d598c1b9 not parsed\n",
      "multipart/mixed\n",
      "msg 0349.d87df6b95f0ee4e36364e9d71223485a not parsed\n",
      "multipart/related\n",
      "msg 0350.0f2ef01282cb99a4eeb9a19923597b3f not parsed\n",
      "multipart/mixed\n",
      "msg 0351.517e785af43ffb3f9e66ab25b3ab162c not parsed\n",
      "multipart/mixed\n",
      "msg 0352.f7adb4aa267e50a8db1e4bcacfe863f3 not parsed\n",
      "multipart/mixed\n",
      "msg 0355.94ebf637e4bd3db8a81c8ce68ecf681d not parsed\n",
      "multipart/alternative\n",
      "msg 0363.bafc8f5920a1e35acb4b06d6f6daa74c not parsed\n",
      "multipart/alternative\n",
      "msg 0376.d87b4313e6c43a986060d57a0b8515a6 not parsed\n",
      "multipart/alternative\n",
      "msg 0377.31267c80e042b22be0436c044c13513a not parsed\n",
      "multipart/alternative\n",
      "msg 0381.492ed1e5eed1b631560e2009be5b8c9a not parsed\n",
      "multipart/mixed\n",
      "msg 0395.bb934e8b4c39d5eab38f828a26f760b4 not parsed\n",
      "multipart/alternative\n",
      "msg 0400.a152ca3d2735f5dfe48601331471c591 not parsed\n",
      "multipart/mixed\n",
      "msg 0401.450b38785db348f7d8c83c64304dd6e3 not parsed\n",
      "multipart/mixed\n",
      "msg 0410.be908008e0e27722a177b289227f5fc1 not parsed\n",
      "multipart/alternative\n",
      "msg 0414.4b85e87c5b9235c72f189bf044057f15 not parsed\n",
      "multipart/mixed\n",
      "msg 0432.a2fa136962969f603b363e7509668b49 not parsed\n",
      "multipart/alternative\n",
      "msg 0446.d971f234fa00ed94e18f5ce8f5c0f852 not parsed\n",
      "multipart/alternative\n",
      "msg 0447.badf14ca8ec589b0b2d25369573ffe84 not parsed\n",
      "multipart/alternative\n",
      "msg 0451.588b22df28f4036ff3895447afbcb7f3 not parsed\n",
      "multipart/mixed\n",
      "msg 0465.5d27c24cf1797e87a346c02f9bc42587 not parsed\n",
      "multipart/alternative\n",
      "msg 0478.16f274ffd3e884a574c9461012cadea6 not parsed\n",
      "multipart/alternative\n",
      "msg 0479.558d7491db4238443bc549ec06021bae not parsed\n",
      "multipart/related\n",
      "msg 0483.488a059db4a731caae8143bf298d6ac4 not parsed\n",
      "multipart/mixed\n",
      "msg 0486.348918a564335556b4fdd8b82f939918 not parsed\n",
      "multipart/alternative\n",
      "msg 0490.5fc0d6e9adcaf702bb7dd303ff2d59e2 not parsed\n",
      "multipart/mixed\n",
      "msg 0497.9307bd1fb5347f9fbf1f54ebe95b1d20 not parsed\n",
      "multipart/alternative\n",
      "msg 00009.1e1a8cb4b57532ab38aa23287523659d not parsed\n",
      "multipart/mixed\n",
      "msg 00117.9f0ba9c35b1fe59307e32b7c2c0d4e61 not parsed\n",
      "multipart/alternative\n",
      "msg 00145.b6788a48c1eace0b7c34ff7de32766f6 not parsed\n",
      "multipart/alternative\n",
      "msg 00164.272880ebd1f1f93cf0cd9800842a24bd not parsed\n",
      "multipart/mixed\n",
      "msg 00166.806d5398d7a37c080641a2d62e2d2b94 not parsed\n",
      "multipart/related\n",
      "msg 00168.a9dd80bb0934b67fd00b4f0a99966369 not parsed\n",
      "multipart/alternative\n",
      "msg 00169.86268e75abd1bd4bda4d6c129681df34 not parsed\n",
      "multipart/mixed\n",
      "msg 00170.5e4c7668564952d8bfbf106d32fa9e5e not parsed\n",
      "multipart/alternative\n",
      "msg 00171.8d972e393ba7c05bfcbf55b3591ce5f3 not parsed\n",
      "multipart/mixed\n",
      "msg 00176.644d65f0ab0d19f706a493bd5c3dc5df not parsed\n",
      "multipart/alternative\n",
      "msg 00179.ef2f7cf60806a96b59f4477b025580ee not parsed\n",
      "multipart/alternative\n",
      "msg 00182.5561cb1b6f968e83afabe21d7a28bb37 not parsed\n",
      "multipart/related\n",
      "msg 00200.2fcabc2b58baa0ebc051e3ea3dfafd8f not parsed\n",
      "multipart/related\n",
      "msg 00201.e74734c7cd89b7c55989d585f72b358a not parsed\n",
      "multipart/alternative\n",
      "msg 00204.4cf15f97b8ea08bfafab7d5091b8fbe7 not parsed\n",
      "text/plain charset=us-ascii\n",
      "msg 00207.47d129a97b8ce8572c9efb4c18a74192 not parsed\n",
      "multipart/alternative\n",
      "msg 00208.c9e30fc9044cdc50682c2e2d2be4c466 not parsed\n",
      "multipart/alternative\n",
      "msg 00209.983df148f8b7d7e5d678f1ea6297cad1 not parsed\n",
      "multipart/mixed\n",
      "msg 00215.0378888fa9823523e61a6b922a4e3b55 not parsed\n",
      "multipart/related\n",
      "msg 00216.c07de35b7e7f659e3c0c071b30053afa not parsed\n",
      "multipart/related\n",
      "msg 00217.f56a722e95d0b6ea580f1b4e9e2e013a not parsed\n",
      "multipart/related\n",
      "msg 00219.b1e53bdc90b763f8073f3270e3f6e811 not parsed\n",
      "multipart/related\n",
      "msg 00220.b599bb1ef610ba40d9becc965c0c0da3 not parsed\n",
      "multipart/related\n",
      "msg 00221.775c9348b935d966a9afec954f1e9c27 not parsed\n",
      "multipart/related\n",
      "msg 00222.3ac65af6304056a15115076b1bcc8f69 not parsed\n",
      "multipart/related\n",
      "msg 00223.b2ab59fb979b4e3d266f15a580d86619 not parsed\n",
      "multipart/related\n",
      "msg 00224.1b3430b101a8a8b22493c4948fcbe9cc not parsed\n",
      "multipart/related\n",
      "msg 00225.a4a58f288601a7e965b358c6e7c6741f not parsed\n",
      "multipart/related\n",
      "msg 00232.b5eb658434a4099746a0977a0e6cd084 not parsed\n",
      "multipart/alternative\n",
      "msg 00233.3c32285387ebc0675adb029b9e20e581 not parsed\n",
      "multipart/alternative\n",
      "msg 00238.1bc0944812aa14bc789ff565710dc0b5 not parsed\n",
      "multipart/alternative\n",
      "msg 00242.745749df8cd0da174fd64afc55db4222 not parsed\n",
      "multipart/alternative\n",
      "msg 00256.ea7bc226396ae0cc08004265b5c2eb02 not parsed\n",
      "multipart/alternative\n",
      "msg 00258.eb914ca569df16b9e969cc1ff646033f not parsed\n",
      "multipart/mixed\n",
      "msg 00259.c5dcbd525138d61d828298225a61aeab not parsed\n",
      "multipart/mixed\n",
      "msg 00276.a8792b1d4591c269b9234f3a39f846d8 not parsed\n",
      "multipart/mixed\n",
      "msg 00277.feeedd0a9e052b05e350e93ff7889f0a not parsed\n",
      "multipart/alternative\n",
      "msg 00279.d3516102dd7d49480923c6cf3252a216 not parsed\n",
      "multipart/alternative\n",
      "msg 00280.3432009813aa8a8683c72ad31ce7e0e0 not parsed\n",
      "multipart/alternative\n"
     ]
    },
    {
     "name": "stdout",
     "output_type": "stream",
     "text": [
      "msg 00284.227c1ebb961320cd2086d904d698c49b not parsed\n",
      "multipart/alternative\n",
      "msg 00296.85aa16f800e0aaf8755cdf23d7e035ff not parsed\n",
      "multipart/alternative\n",
      "msg 00308.fc90f8aab51648329b9e705c9021b204 not parsed\n",
      "multipart/alternative\n",
      "msg 00309.514ba73d47cc5668a2afdef0a25b400c not parsed\n",
      "multipart/alternative\n",
      "msg 00314.ce1926a9815415807e51b80930bffdb8 not parsed\n",
      "multipart/related\n",
      "msg 00316.6127940652124130611907ee0c20ab5e not parsed\n",
      "multipart/alternative\n",
      "msg 00325.7e5ac4e91fba8111cce0e8dcc721912c not parsed\n",
      "multipart/alternative\n",
      "msg 00335.52db5097040b2b36c0d19047c5617621 not parsed\n",
      "multipart/alternative\n",
      "msg 00337.dfbe7fc9aaf905bd538635d72cbba975 not parsed\n",
      "multipart/alternative\n",
      "msg 00351.44bc5f6d0afcb67a469191ef2a38fea7 not parsed\n",
      "multipart/alternative\n",
      "msg 00361.59907896afb539ce9bc9c6e74c439206 not parsed\n",
      "multipart/alternative\n",
      "msg 00373.a2e4ba80486fdff8084086d447e01d17 not parsed\n",
      "multipart/alternative\n",
      "msg 00376.8d9a34535bac5fbccdbb8ea5392c82d8 not parsed\n",
      "multipart/mixed\n",
      "msg 00378.958f8c0f9d486c1e18f835ab65664b4d not parsed\n",
      "multipart/alternative\n",
      "msg 00379.b2ab58d60315cdc423cd8640466092ed not parsed\n",
      "multipart/mixed\n",
      "msg 00396.bb9671c94f0061c7f2a74cde8a507c1f not parsed\n",
      "multipart/alternative\n",
      "msg 00398.64f68a9650595170b0e10cc493020a0a not parsed\n",
      "multipart/mixed\n",
      "msg 00410.fb7b31cdd9d053f8b446da7ce89383fa not parsed\n",
      "multipart/alternative\n",
      "msg 00415.4af357c0282481dba8f1765f0bf09c09 not parsed\n",
      "multipart/alternative\n",
      "msg 00423.41a02b6bb464b0bd04ac8a40e6001c3e not parsed\n",
      "multipart/related\n",
      "msg 00424.762694cd4e29f39d544e03cd3c974a25 not parsed\n",
      "multipart/alternative\n",
      "msg 00425.529f44cda59588d37959083c93a79764 not parsed\n",
      "multipart/mixed\n",
      "msg 00430.d3915a3e7a9cbd8f9a7e6221eb40253d not parsed\n",
      "multipart/mixed\n",
      "msg 00436.9fc1d953c6a282c5b66e4ed1cf1b866f not parsed\n",
      "multipart/alternative\n",
      "msg 00440.cefb7176fea7baf69c5e9d8b2f1a2b54 not parsed\n",
      "multipart/mixed\n",
      "msg 00441.3b9c3055e08bda4c0f7eea43749e324c not parsed\n",
      "multipart/mixed\n",
      "msg 00446.dbbe3d81a19420ba8c135ac7f044319c not parsed\n",
      "multipart/mixed\n",
      "msg 00447.32e588c3a1d8888d737f360f825713b8 not parsed\n",
      "multipart/alternative\n",
      "msg 00457.f4325a4aa30dce61bf6c442b887733dd not parsed\n",
      "multipart/mixed\n",
      "msg 00466.936900f20aa2c6aa724d2f6d6af53b9b not parsed\n",
      "multipart/mixed\n",
      "msg 00467.3748c927c32a9c4e8988dad52a843b5c not parsed\n",
      "multipart/alternative\n",
      "msg 00481.b6fbd76bcc24999350ae6a3188f3809f not parsed\n",
      "multipart/alternative\n",
      "msg 00484.602c7afb217663a43dd5fa24d97d1ca4 not parsed\n",
      "multipart/mixed\n",
      "msg 00490.09cc8eacfd07338802c3ea0e7f07fe26 not parsed\n",
      "multipart/mixed\n",
      "msg 00497.353a61b265f11dd0bae116c0149abbe1 not parsed\n",
      "multipart/alternative\n",
      "msg 00504.0a250a54cc14771c55105d9cfdf39151 not parsed\n",
      "multipart/alternative\n",
      "msg 00512.8a8d03da14819f83a8936f224cd9c9cc not parsed\n",
      "multipart/alternative\n",
      "msg 00520.892a859ed7b0c96d56ae83e4f6ee6b11 not parsed\n",
      "multipart/alternative\n",
      "msg 00527.692952717b3f63cd2964ff2ff73ed91d not parsed\n",
      "multipart/alternative\n",
      "msg 00538.46858b6122a85685022250db2f25b32a not parsed\n",
      "multipart/mixed\n",
      "msg 00543.e69bd0a0effd4a12537fb358d79ea337 not parsed\n",
      "multipart/alternative\n",
      "msg 00565.a1a4b8367b5c7f5e865df0539b52969a not parsed\n",
      "multipart/alternative\n",
      "msg 00570.cc1a4d6cf41350cf10e2b588dacb2dff not parsed\n",
      "multipart/alternative\n",
      "msg 00574.66c2cbfe0151a4a658cec4e67d6cab14 not parsed\n",
      "multipart/alternative\n",
      "msg 00583.b780ea187746d4722e9a684fe34f0cc9 not parsed\n",
      "multipart/alternative\n",
      "msg 00598.55751466eb0cbc307da570a603daa3d6 not parsed\n",
      "multipart/alternative\n",
      "msg 00605.8a2e83e442d0052a2b2e9cff1ef0793c not parsed\n",
      "multipart/mixed\n",
      "msg 00610.d78eda68ed03fa6890077bd4b805e16d not parsed\n",
      "multipart/alternative\n",
      "msg 00613.047cf0bcc74950bd9e1eaf8d336c385c not parsed\n",
      "multipart/alternative\n",
      "msg 00615.e47bff6118d4ff6d98581fa6f40ab871 not parsed\n",
      "multipart/mixed\n",
      "msg 00616.1e86f2d3478f10a3a413844bba74f450 not parsed\n",
      "multipart/mixed\n",
      "msg 00633.60e6bd78b497893f8b33650bd1c2c0b0 not parsed\n",
      "multipart/alternative\n",
      "msg 00640.564b03520087bb4595384ae024ceb929 not parsed\n",
      "multipart/mixed\n",
      "msg 00641.b3c1c440f7940c86ab5d1e4f9fa3518b not parsed\n",
      "multipart/mixed\n",
      "msg 00643.d177c04238b4299813b7d8cca9fb2f18 not parsed\n",
      "multipart/alternative\n",
      "msg 00667.6bf743b1b5bdfe9340d438c0661e4bff not parsed\n",
      "multipart/alternative\n",
      "msg 00669.790cde659c7d18535eb46cfa4398458d not parsed\n",
      "multipart/mixed\n",
      "msg 00673.89b0df1a8a6e1a95c48f1f63e48648f4 not parsed\n",
      "multipart/alternative\n",
      "msg 00675.233738762477d382d3954e043f866842 not parsed\n",
      "multipart/mixed\n",
      "msg 00678.7c54f6e0fac3e7d26a9513d2c60e2b98 not parsed\n",
      "multipart/alternative\n",
      "msg 00682.0160e510bf19faa60f78d415d4b9a3ee not parsed\n",
      "multipart/mixed\n",
      "msg 00690.5dd358321ab2f5139ccf636223251d1f not parsed\n",
      "multipart/alternative\n",
      "msg 00695.f79afe1f94217d0a2e6f983caf011b49 not parsed\n",
      "multipart/alternative\n",
      "msg 00704.30306e2e506ca198fe8dea2b3c11346a not parsed\n",
      "multipart/related\n",
      "msg 00713.8d1b1c5afc226377ec951564ad402b9c not parsed\n",
      "multipart/alternative\n",
      "msg 00714.cd13d8db12cc1f661d6b2eb6fcbb5156 not parsed\n",
      "multipart/alternative\n",
      "msg 00723.7d2f1e26ae8cbab862459e33db405be1 not parsed\n",
      "multipart/mixed\n",
      "msg 00729.b4b709ee7cb85908bdec0b050a11e518 not parsed\n",
      "multipart/alternative\n",
      "msg 00734.0c1975b8c2b17fd6c665827706f89eaf not parsed\n",
      "multipart/mixed\n",
      "msg 00738.10deb784a63c0bdc5e78b019720f3e9f not parsed\n",
      "multipart/alternative\n",
      "msg 00739.150e80f7508e247fa15d43697e80ed30 not parsed\n",
      "multipart/mixed\n",
      "msg 00740.ce4777381c2bc6bee30bef6bd274233f not parsed\n",
      "multipart/alternative\n",
      "msg 00753.c3032ff8329006ec6b39b6c821185b1c not parsed\n",
      "multipart/mixed\n",
      "msg 00755.4280e5603d66801661cbd0fe0b33eec8 not parsed\n",
      "multipart/alternative\n",
      "msg 00756.b68f9bcfd782a01a2ece132eccdcbbe9 not parsed\n",
      "multipart/alternative\n",
      "msg 00773.1ef75674804a6206f957afddcb5ed0c1 not parsed\n",
      "multipart/related\n",
      "msg 00774.bb00990ae11efeabd677cc2935f2281f not parsed\n",
      "multipart/alternative\n",
      "msg 00777.284d3dc66b4f1bdedb5a5eba41d18d14 not parsed\n",
      "multipart/related\n",
      "msg 00784.daac746f35f3bc27817777fa48673781 not parsed\n",
      "multipart/alternative\n",
      "msg 00806.0595ba2c9bfae214645880fe39e17f4e not parsed\n",
      "multipart/mixed\n",
      "msg 00818.3939063d91d49a0c8e7d01efb2fb95a1 not parsed\n",
      "multipart/mixed\n",
      "msg 00831.630c53b642a54592bd4fb097ba4e88b0 not parsed\n",
      "multipart/alternative\n",
      "msg 00838.a9f6a5bc71c83bd73764f3945b5b9074 not parsed\n",
      "multipart/alternative\n",
      "msg 00843.92ef4b70e051724249f825731dfc456a not parsed\n",
      "multipart/alternative\n",
      "msg 00849.a1bd18d80b0531de33b9e83cd14f79f2 not parsed\n",
      "multipart/alternative\n",
      "msg 00865.5021e39ed3259477237997ff88595997 not parsed\n",
      "multipart/mixed\n",
      "msg 00876.f61ec69c2872eb398ba3860a13a17b15 not parsed\n",
      "multipart/mixed\n",
      "msg 00879.ef1461ca38091f6d494c58d09b0627f0 not parsed\n",
      "multipart/alternative\n",
      "msg 00882.28bbc4ccfb80f32d4fe7df3ab77afb41 not parsed\n",
      "multipart/alternative\n",
      "msg 00884.2fef7c7ca7dc3fadaa84d7bbfddd6324 not parsed\n",
      "multipart/mixed\n",
      "msg 00894.f54f07418fc8e677fe0fe5ac60a251ab not parsed\n",
      "multipart/alternative\n",
      "msg 00903.1b151e48aafed20229a1880c1d558992 not parsed\n",
      "multipart/alternative\n",
      "msg 00908.718f913e615b66df1c33cfb0af8e8885 not parsed\n",
      "multipart/alternative\n",
      "msg 00909.be44baf9966a96b2154b207cc56fe558 not parsed\n",
      "multipart/mixed\n",
      "msg 00942.657397d701fe92368dd144bec09d7812 not parsed\n",
      "multipart/mixed\n",
      "msg 00949.690398fb3aa163317614dc81757c23ef not parsed\n",
      "multipart/related\n",
      "msg 00950.e81e3e0c71ce03c260550662a5e740c3 not parsed\n",
      "multipart/related\n",
      "msg 00951.f7044a1b178dc3dcff44932f840b8805 not parsed\n",
      "multipart/alternative\n",
      "msg 00968.d86fe0eb3bc78b724306380b63f82073 not parsed\n",
      "multipart/alternative\n",
      "msg 00971.6d8acd89e1b2e699acc6a3443c6d2d6d not parsed\n",
      "multipart/alternative\n",
      "msg 00975.5e2e7c9d8b2c04929ff41e010163e5e8 not parsed\n",
      "multipart/related\n",
      "msg 00977.6b7587a392363b73c8312b72b4972c24 not parsed\n",
      "multipart/related\n",
      "msg 00982.2bd2b529b2df97e4e6c47edc6a272115 not parsed\n",
      "multipart/related\n",
      "msg 00984.9521bd4c46b37f795efb665266cf5ab5 not parsed\n",
      "multipart/alternative\n",
      "msg 01015.814d23a39e0a68a8706ef9b1ce2c7791 not parsed\n",
      "multipart/related\n",
      "msg 01021.8e30e6b936bfbdc8528c50d4a3ca378c not parsed\n",
      "multipart/alternative\n",
      "msg 01029.d08161f9c60d767804dd9b5148a82025 not parsed\n",
      "multipart/alternative\n",
      "msg 01035.9fc118cfb7ee6b9d5fc08fa324f57827 not parsed\n",
      "multipart/alternative\n",
      "msg 01041.1ece6e061e80e648c8156d52decd0610 not parsed\n",
      "multipart/mixed\n",
      "msg 01069.a8cdf944083398c026db401b13908ef9 not parsed\n",
      "multipart/alternative\n",
      "msg 01074.d22922a762aea4d5a5aa2615e144585a not parsed\n",
      "multipart/mixed\n",
      "msg 01077.526ad4ce12f3ef73a4b4eae0f211e2c9 not parsed\n",
      "multipart/alternative\n",
      "msg 01084.c0005822ea0294c6eb9143276b93eb41 not parsed\n",
      "multipart/alternative\n",
      "msg 01085.0deb0d9335e8db6cbf1021ae3c62198c not parsed\n",
      "multipart/alternative\n",
      "msg 01086.158c29f51d36d79ababf4377b5b3f1d2 not parsed\n",
      "multipart/alternative\n"
     ]
    },
    {
     "name": "stdout",
     "output_type": "stream",
     "text": [
      "msg 01094.91779ec04e5e6b27e84297c28fc7369f not parsed\n",
      "multipart/alternative\n",
      "msg 01095.520dcad6e0ebb4d30222292f51ee76ab not parsed\n",
      "multipart/alternative\n",
      "msg 01096.ccf870cba7e6618b610f8a2f2c2f08f6 not parsed\n",
      "multipart/mixed\n",
      "msg 01097.98d732b93866d13b0c13589ae2acc383 not parsed\n",
      "multipart/mixed\n",
      "msg 01108.0a4bf099b98c488b65e8d6ca685d6867 not parsed\n",
      "multipart/alternative\n",
      "msg 01118.db60fc08987ac4bdaf96ab4e1c83eafe not parsed\n",
      "multipart/alternative\n",
      "msg 01142.1d5b741cdc5cb3c026d678a4c8f613d6 not parsed\n",
      "multipart/alternative\n",
      "msg 01146.f8a114b8bf65962ec02a1bcc2241e5d7 not parsed\n",
      "multipart/mixed\n",
      "msg 01155.e8634e51df914973d548076958ed90b2 not parsed\n",
      "multipart/mixed\n",
      "msg 01160.13829f56f0b8eb2d461ad8602a94a80e not parsed\n",
      "multipart/alternative\n",
      "msg 01165.8c661bf07a1a7a5fe8a9efc2439d17a1 not parsed\n",
      "multipart/alternative\n",
      "msg 01172.cc7a00858cafd43ad994a3f1a42a5434 not parsed\n",
      "multipart/alternative\n",
      "msg 01175.345310fe11adb25711a3f95d1c88aa5c not parsed\n",
      "multipart/mixed\n",
      "msg 01188.67d69a8d6e5c899914556488c8cbd2c9 not parsed\n",
      "multipart/related\n",
      "msg 01191.3a3ed1eb843a56504a4b40a25a63f97f not parsed\n",
      "multipart/mixed\n",
      "msg 01192.ae36c1ea662d5daa57777838507cceef not parsed\n",
      "multipart/alternative\n",
      "msg 01193.7c4b9a0e900fdb7cafb86c1131f79a48 not parsed\n",
      "multipart/alternative\n",
      "msg 01199.5a219c9b3e55a0136d8039fd74675570 not parsed\n",
      "multipart/alternative\n",
      "msg 01205.47d139ac094945ae2630efb896dc4b43 not parsed\n",
      "multipart/mixed\n",
      "msg 01209.01df2f8f68a70062085ef787973f9ba0 not parsed\n",
      "multipart/mixed\n",
      "msg 01214.973b4598b630a989967ff69b19f95d4a not parsed\n",
      "multipart/alternative\n",
      "msg 01218.4bb5c5746d9f19d8551437c242bfd79e not parsed\n",
      "multipart/alternative\n",
      "msg 01230.0589bade8df0c343a49c6712f62dfca0 not parsed\n",
      "multipart/alternative\n",
      "msg 01231.2a56f1f52d4da9f83870deb4b7e68acb not parsed\n",
      "multipart/mixed\n",
      "msg 01232.2c1fbf4d9cb31dd039c1bbb078225b5a not parsed\n",
      "multipart/alternative\n",
      "msg 01240.7d6ae3682a3dd3fe457516b188eb105c not parsed\n",
      "multipart/mixed\n",
      "msg 01245.ce437204a2dfc9109003491e7812fc7f not parsed\n",
      "multipart/related\n",
      "msg 01246.d0ee9c7ebf9d953b21de9414cc96c2f9 not parsed\n",
      "multipart/alternative\n",
      "msg 01250.2bfc033f9ced1c70e480ec75b0094431 not parsed\n",
      "multipart/alternative\n",
      "msg 01261.0d7a6fa74b73f80f62fe11267eeaa956 not parsed\n",
      "multipart/alternative\n",
      "msg 01262.24bce3d7a8a92bc6d970cf80f0d21660 not parsed\n",
      "multipart/related\n",
      "msg 01264.52c303d4e65ae6c83bedb1dc8db0d0c7 not parsed\n",
      "multipart/mixed\n",
      "msg 01269.aa905c10b8358328fb77d2f900e4491f not parsed\n",
      "multipart/alternative\n",
      "msg 01271.c74d2888efc2f1897ee890001abf05e7 not parsed\n",
      "multipart/alternative\n",
      "msg 01277.6763a79fad1f1b39cb7d5b7faf92ea98 not parsed\n",
      "multipart/alternative\n",
      "msg 01281.889130eed8c0fabfe29f7ffe62d1afe1 not parsed\n",
      "multipart/alternative\n",
      "msg 01285.4bc4cabd8d963b1e33bb56aaaf191328 not parsed\n",
      "multipart/alternative\n",
      "msg 01288.ffe370e3a92a1861533330da51edcb49 not parsed\n",
      "multipart/related\n",
      "msg 01292.3cfdacd938c6a4a7544581399e28e81c not parsed\n",
      "multipart/alternative\n",
      "msg 01293.1073233e92a1fb8808e384cbc0d60e58 not parsed\n",
      "multipart/alternative\n",
      "msg 01300.74283a1a03062473904cd6f9965df1d5 not parsed\n",
      "multipart/alternative\n",
      "msg 01304.114140cd4c51e9795559b974964aa043 not parsed\n",
      "multipart/related\n",
      "msg 01306.d37be8871ac501758c6854fbef9cbdd2 not parsed\n",
      "multipart/mixed\n",
      "msg 01310.39e7167813c411d9163ceedcba3b3702 not parsed\n",
      "multipart/alternative\n",
      "msg 01316.80287bffff0da77d7b22a538aefdbd01 not parsed\n",
      "multipart/related\n",
      "msg 01317.2fb1c15091162a0a83cb7020e45e8de6 not parsed\n",
      "multipart/related\n",
      "msg 01322.ff3e699f59f732ca886de5873eef313e not parsed\n",
      "multipart/alternative\n",
      "msg 01326.32e7912cae22a40e7b27f7d020de08fe not parsed\n",
      "multipart/alternative\n",
      "msg 01345.436954c32bbf82773e33853ac26ef881 not parsed\n",
      "multipart/alternative\n",
      "msg 01351.e960056da1502c90d40d598cdf37f359 not parsed\n",
      "multipart/mixed\n",
      "msg 01359.deafa1d42658c6624c6809a446b7f369 not parsed\n",
      "multipart/mixed\n",
      "msg 01363.85518bca7c7cb9f35e57f3adda762ac9 not parsed\n",
      "multipart/alternative\n",
      "msg 01377.17adb34fc692245ce301d3db0a3e80c8 not parsed\n",
      "multipart/alternative\n",
      "msg 01379.0d39498608cd170bbbc8cd33ffd18e35 not parsed\n",
      "multipart/alternative\n",
      "msg 01384.e23f94030a4393f0825eacd9de99eb31 not parsed\n",
      "multipart/alternative\n",
      "msg 01397.f75f0dd0dd923faefa3e9cc5ecb8c906 not parsed\n",
      "multipart/alternative\n"
     ]
    }
   ],
   "source": [
    "import re\n",
    "root = \"../Quantifying the world/SpamAssassinMessages\"\n",
    "targets_spam_all, data_spam_all, count_spam_all = [], [], []\n",
    "for folder in os.listdir(root):\n",
    "    if re.match(r'spam', folder):\n",
    "        spam_folder = os.path.join(root, folder)\n",
    "        targets_spam, data_spam, count_spam = email_prep(spam_folder)\n",
    "        targets_spam_all.append(targets_spam)\n",
    "        data_spam_all.append(data_spam)\n",
    "        count_spam_all.append(count_spam)"
   ]
  },
  {
   "cell_type": "code",
   "execution_count": 7,
   "id": "58b063ad",
   "metadata": {},
   "outputs": [
    {
     "data": {
      "text/plain": [
       "(2, 2, [1001, 1398])"
      ]
     },
     "execution_count": 7,
     "metadata": {},
     "output_type": "execute_result"
    }
   ],
   "source": [
    "#sanity check.\n",
    "len(targets_spam_all), len(data_spam_all), count_spam_all"
   ]
  },
  {
   "cell_type": "code",
   "execution_count": 8,
   "id": "c278f9c5",
   "metadata": {},
   "outputs": [
    {
     "data": {
      "text/plain": [
       "(804, 1188)"
      ]
     },
     "execution_count": 8,
     "metadata": {},
     "output_type": "execute_result"
    }
   ],
   "source": [
    "len(data_spam_all[0]), len(data_spam_all[1])"
   ]
  },
  {
   "cell_type": "markdown",
   "id": "722be7d5",
   "metadata": {},
   "source": [
    "####  Merge all the spam messages.  \n",
    "Comment off the extend operation after call to prevent multiple append**"
   ]
  },
  {
   "cell_type": "code",
   "execution_count": 9,
   "id": "576c4c49",
   "metadata": {},
   "outputs": [
    {
     "data": {
      "text/plain": [
       "1992"
      ]
     },
     "execution_count": 9,
     "metadata": {},
     "output_type": "execute_result"
    }
   ],
   "source": [
    "spam_target_ = []\n",
    "[spam_target_.extend(part) for part in targets_spam_all]\n",
    "len(spam_target_)"
   ]
  },
  {
   "cell_type": "code",
   "execution_count": 10,
   "id": "8a3b6d26",
   "metadata": {},
   "outputs": [
    {
     "data": {
      "text/plain": [
       "1992"
      ]
     },
     "execution_count": 10,
     "metadata": {},
     "output_type": "execute_result"
    }
   ],
   "source": [
    "spam_data_ = []\n",
    "[spam_data_.extend(part) for part in data_spam_all]\n",
    "len(spam_data_)"
   ]
  },
  {
   "cell_type": "code",
   "execution_count": null,
   "id": "a524deb0",
   "metadata": {},
   "outputs": [],
   "source": []
  },
  {
   "cell_type": "markdown",
   "id": "eb84488e",
   "metadata": {},
   "source": [
    "### Parse the ham messages  \n",
    "- The ham messages are assigned code '1'.  "
   ]
  },
  {
   "cell_type": "code",
   "execution_count": 11,
   "id": "cd637d45",
   "metadata": {},
   "outputs": [],
   "source": [
    "import codecs\n",
    "types_of_encoding = [\"utf8\", \"cp1252\"]\n",
    "counter=0\n",
    "\n",
    "\n",
    "def email_prep_ham(folder_path=\" \"):\n",
    "    targets = []\n",
    "    data = []\n",
    "    count = 0\n",
    "    #not_spamList = os.listdir(\"./easy_ham/\")\n",
    "    #spamList = os.listdir(\"./spam/\")  \n",
    "    \n",
    "\n",
    "    for i in os.listdir(folder_path):\n",
    "        file = os.path.join(folder_path, i)\n",
    "        \n",
    "        for encoding_type in types_of_encoding:\n",
    "            with open(file, encoding = encoding_type, errors ='replace') as f:\n",
    "                x = email.message_from_file(f)\n",
    "        mailType = x.get_content_type()\n",
    "        if mailType == \"text/plain\":\n",
    "            #data.append(nlp(x.get_payload()).vector)\n",
    "            data.append(x.get_payload())\n",
    "            targets.append(1)\n",
    "        elif mailType == \"text/html\":\n",
    "            tmp = BeautifulSoup(x.get_payload(), 'html.parser')\n",
    "            tmp = tmp.text.replace(\"\\n\",\" \")\n",
    "            #tmp = nlp(tmp)\n",
    "            data.append(tmp)\n",
    "            targets.append(0)\n",
    "#         elif mailType == \"multipart/alternative\":\n",
    "#             for x_ in x:\n",
    "#                 data.append(x_.get_payload())\n",
    "#                 targets.append(0)\n",
    "        else:\n",
    "            print(f\"msg {i} not parsed\")\n",
    "            print(x.get_content_type())\n",
    "#         if count % 100 == 0:\n",
    "#             print(count)\n",
    "        count = count + 1\n",
    "#         if count == 1000:\n",
    "#             break\n",
    "    return targets, data, count"
   ]
  },
  {
   "cell_type": "code",
   "execution_count": 12,
   "id": "b9200226",
   "metadata": {},
   "outputs": [
    {
     "name": "stdout",
     "output_type": "stream",
     "text": [
      "msg 00014.cb20e10b2bfcb8210a1c310798532a57 not parsed\n",
      "multipart/signed\n",
      "msg 00062.009f5a1a8fa88f0b38299ad01562bb37 not parsed\n",
      "multipart/alternative\n",
      "msg 00063.0acbc484a73f0e0b727e06c100d8df7b not parsed\n",
      "multipart/alternative\n",
      "msg 00067.23813c5ac6ce66fd892ee5501fd5dbd2 not parsed\n",
      "multipart/mixed\n",
      "msg 00070.c62a036deb1de40aa32cabc761b0861c not parsed\n",
      "multipart/related\n",
      "msg 0011.07b11073b53634cff892a7988289a72e not parsed\n",
      "multipart/signed\n",
      "msg 00166.8feace9f17d092d9532e62c35c37ce95 not parsed\n",
      "multipart/alternative\n",
      "msg 0018.ba70ecbeea6f427b951067f34e23bae6 not parsed\n",
      "multipart/signed\n",
      "msg 0030.77828e31de08ebb58b583688b87524cc not parsed\n",
      "multipart/signed\n",
      "msg 00368.f86324a03e7ae7070cc40f302385f5d3 not parsed\n",
      "multipart/related\n",
      "msg 00386.d929d7bb175845f6eaa3549dedd8a1e6 not parsed\n",
      "multipart/signed\n",
      "msg 00387.1a5243d401fec09abe374e77ad201d79 not parsed\n",
      "multipart/signed\n",
      "msg 00388.18e2a6069150c2c9139f760fda7668ac not parsed\n",
      "multipart/signed\n",
      "msg 00389.8606961eaeef7b921ce1c53773248d69 not parsed\n",
      "multipart/signed\n",
      "msg 0047.5c3e049737a2813d4ac6f13f02362fb1 not parsed\n",
      "multipart/signed\n",
      "msg 0053.71bcb179e702d98e88fd0bc081ba0f52 not parsed\n",
      "multipart/signed\n",
      "msg 00578.8c710aa944374d631b9969a806e32a30 not parsed\n",
      "multipart/alternative\n",
      "msg 00704.e077ad131955ba1fa3b9ba7a68b78f62 not parsed\n",
      "multipart/related\n",
      "msg 00775.0e012f373467846510d9db297e99a008 not parsed\n",
      "multipart/mixed\n",
      "msg 00849.5ff774a5add00c6739307f6950b4ddf5 not parsed\n",
      "multipart/alternative\n",
      "msg 00883.c44a035e7589e83076b7f1fed8fa97d5 not parsed\n",
      "multipart/alternative\n",
      "msg 0092.a1560d2416687b2db8204c2fa69163f2 not parsed\n",
      "multipart/alternative\n",
      "msg 0093.0c71febfdf6f3acbc4d0c76b777a8530 not parsed\n",
      "multipart/alternative\n",
      "msg 00944.4c4f3aa0e543af3cab4859ad1b1b16be not parsed\n",
      "multipart/signed\n",
      "msg 00945.e6eb589db145071f678c95f19b162b9b not parsed\n",
      "multipart/signed\n",
      "msg 00947.488310e3c7ba27ec9d99d390007b8c53 not parsed\n",
      "multipart/signed\n",
      "msg 00948.12717d1c7815c5e226f5b4324220dcd8 not parsed\n",
      "multipart/signed\n",
      "msg 00949.5a860f580179b99a227c4064ac28724c not parsed\n",
      "multipart/signed\n",
      "msg 00952.61bd88dce9acd2fd68dfd2c2e2d9b675 not parsed\n",
      "multipart/signed\n",
      "msg 00961.509b19e210cc3cda4ae6615a47663d68 not parsed\n",
      "multipart/signed\n",
      "msg 00963.0cc9003be43ed6a642376156e98f5fb1 not parsed\n",
      "multipart/signed\n",
      "msg 00964.4c5e48c8c2668559fbc379616893f3a7 not parsed\n",
      "multipart/signed\n",
      "msg 00966.2a4fb2559839748a35516c870f765211 not parsed\n",
      "multipart/signed\n",
      "msg 00968.747f6cb40f4a18a2e7185454549d06c2 not parsed\n",
      "multipart/signed\n",
      "msg 0097.39badf2fea6bcebc640bea05ced59b59 not parsed\n",
      "multipart/mixed\n",
      "msg 00975.23aa3095e145bf342502ee60bc602c28 not parsed\n",
      "multipart/signed\n",
      "msg 00986.93b7eb74f26330872be1d58ec9d2b64c not parsed\n",
      "multipart/mixed\n",
      "msg 00988.2154210bb53f94daded7a622e26225a1 not parsed\n",
      "multipart/signed\n",
      "msg 00993.041d0d8e108657fd1ba5c605a10e2bfa not parsed\n",
      "multipart/mixed\n",
      "msg 00997.3e7c9ac060fb43183adc891520f41ce0 not parsed\n",
      "multipart/signed\n",
      "msg 01003.56ffd3c6ad3dcb0598cb3b79a1e2dc11 not parsed\n",
      "multipart/signed\n",
      "msg 0101.48557f7f38d947eab77aefc03d0520a3 not parsed\n",
      "multipart/related\n",
      "msg 01029.2daa3bd281a583d4044a97d591e5155d not parsed\n",
      "multipart/signed\n",
      "msg 01045.5f6b92624699ddf883fc56e9b158c031 not parsed\n",
      "multipart/mixed\n",
      "msg 01053.9f4c2fea143d25bf2680c444e547df55 not parsed\n",
      "multipart/mixed\n",
      "msg 01065.b1ad1862ff2ceeb1bfc9cbdf3f87ebee not parsed\n",
      "multipart/signed\n",
      "msg 01067.960ee297ebec4e02bf924cdbccb893d4 not parsed\n",
      "multipart/signed\n",
      "msg 01069.a94a9df489c4da9bf8cf3cbca70b3e53 not parsed\n",
      "multipart/signed\n",
      "msg 01094.f14bc2edd6fc45fa7b09c0a4ad5b82e3 not parsed\n",
      "multipart/signed\n",
      "msg 01096.0ecf28b2697d77f7039d82f8838bcf8d not parsed\n",
      "multipart/signed\n",
      "msg 01127.979ce598c5cb0d3d68705e15040f5799 not parsed\n",
      "multipart/signed\n",
      "msg 01129.f7613b6d091c77280226d622f866dd9c not parsed\n",
      "multipart/signed\n",
      "msg 01130.616ad0cc28de13b6deabe9dd13d0dfe0 not parsed\n",
      "multipart/signed\n",
      "msg 01131.f0a4fc8a86ce5529ae7e96e86de6ad2f not parsed\n",
      "multipart/signed\n",
      "msg 01132.2755d7d8107be0b804bb1f3f5ce29e83 not parsed\n",
      "multipart/signed\n",
      "msg 01136.994c27928a3ef2d69d08453c49c95f7a not parsed\n",
      "multipart/signed\n",
      "msg 01137.862bf0c202b134ec11c965d1a46a43a0 not parsed\n",
      "multipart/signed\n",
      "msg 01148.a8dd7b8896c5c7966bbc52e4f4b0a164 not parsed\n",
      "multipart/signed\n",
      "msg 01149.a3ac28c8860e0beffc8ace0ff49b4532 not parsed\n",
      "multipart/signed\n",
      "msg 01152.94d97f41bdf572892508e21b3906aa3b not parsed\n",
      "multipart/signed\n",
      "msg 01159.722f7cc3779f8b3d075043e2174378e1 not parsed\n",
      "multipart/signed\n",
      "msg 01162.526ce617b7abacafecf4fc1729c49516 not parsed\n",
      "multipart/signed\n",
      "msg 01168.83677f30f1d1c95b863e4e464396e7d7 not parsed\n",
      "multipart/signed\n",
      "msg 01170.ff1eb252e91b1481ee0a2887eb862c16 not parsed\n",
      "multipart/signed\n",
      "msg 01181.a1a32438921904f88c7c78f1fea03a8f not parsed\n",
      "multipart/signed\n",
      "msg 01183.36c29b5d6d19a328c9928a157019a49c not parsed\n",
      "multipart/signed\n",
      "msg 01216.e30b39890b41cf8740b3315f79521f59 not parsed\n",
      "multipart/mixed\n",
      "msg 01225.394c24658bf3f9f8f741bcbc94ca017c not parsed\n",
      "multipart/mixed\n",
      "msg 01233.e83467b2f6c65830f00860df89f3b0c5 not parsed\n",
      "multipart/signed\n",
      "msg 01294.8c242aa8998042dd666b7f9db56a6a3e not parsed\n",
      "multipart/mixed\n",
      "msg 01314.ba7b992d372c23964b8b4a1de885a095 not parsed\n",
      "multipart/signed\n",
      "msg 01336.82adb611b4bea7ae97c57911d3152cee not parsed\n",
      "multipart/signed\n",
      "msg 01353.cf72da836d8b771bea4110c8f9b5599b not parsed\n",
      "multipart/signed\n",
      "msg 01358.856ab1787169df5216c2c426392cbfbd not parsed\n",
      "multipart/signed\n",
      "msg 01392.775dfd40216f19a11446aa0a3d8d1e73 not parsed\n",
      "multipart/signed\n",
      "msg 01397.53c38cd7bcd8f13b0d6b784c9265cec1 not parsed\n",
      "multipart/signed\n",
      "msg 01403.240c78274ebf62c726f214797242b409 not parsed\n",
      "multipart/signed\n",
      "msg 01406.73967a202d2dbbc9651d0828f3fea38f not parsed\n",
      "multipart/signed\n",
      "msg 01425.c6c34c1234e8b04e01326868202110fd not parsed\n",
      "multipart/signed\n",
      "msg 01436.dc449ba377210e77d84647619e49c872 not parsed\n",
      "multipart/report\n",
      "msg 01446.2bc1d074ad6e9bc83adf861ccbf0c498 not parsed\n",
      "multipart/signed\n",
      "msg 01448.335343826f0aef0c176f3aebe3c1806a not parsed\n",
      "multipart/signed\n",
      "msg 01468.a68ebe03295c662d692e89930e88d07e not parsed\n",
      "multipart/alternative\n",
      "msg 01469.c15d5afb7a49819feadf6c4f3f40c224 not parsed\n",
      "multipart/signed\n",
      "msg 01473.1b15dc3174af070411cb9f2bd16add15 not parsed\n",
      "multipart/signed\n",
      "msg 01474.87ab36335ec20ae5f4f60955a1c07c5f not parsed\n",
      "multipart/signed\n",
      "msg 01476.63631b2e613c4c2cafa59a581e2f620b not parsed\n",
      "multipart/signed\n",
      "msg 01491.870d988a32a3c80dd577625de0f2b708 not parsed\n",
      "multipart/alternative\n",
      "msg 01509.e13d579ab7ecc89514b343c16ea37ecc not parsed\n",
      "multipart/signed\n",
      "msg 01542.ed72bf2cd81ccd4c076533fb0af004e5 not parsed\n",
      "multipart/report\n",
      "msg 01558.72508aead37c2c8073e32f9e33e62532 not parsed\n",
      "multipart/signed\n",
      "msg 01561.4d9ed1a0103b1a90cfd91921b9014124 not parsed\n",
      "multipart/mixed\n",
      "msg 01565.c10c0b0e0c9903345e28f9c17fc84400 not parsed\n",
      "multipart/signed\n",
      "msg 01567.451fa9142ae23a1c09dbbc87a09c557d not parsed\n",
      "multipart/signed\n",
      "msg 01570.8328542217bef2e4eb7ee644609efdbb not parsed\n",
      "multipart/alternative\n",
      "msg 01571.a12d989267cd61ed856ebc41cc9075bc not parsed\n",
      "multipart/signed\n",
      "msg 01591.7504f83163aa1c627354192d452a43e3 not parsed\n",
      "multipart/signed\n",
      "msg 01605.41b0a44d660334296aa720bb40b1c405 not parsed\n",
      "multipart/signed\n",
      "msg 01609.9e95ea932d2a0d804e7f53bb8d551fa4 not parsed\n",
      "multipart/signed\n",
      "msg 01610.b932de9054af897c91eb2296e8be689c not parsed\n",
      "multipart/signed\n",
      "msg 01623.e4e8861a3bb3e57547fddbaba4b76f3f not parsed\n",
      "multipart/signed\n",
      "msg 0208.0577aa26cbb2382d8789377d351ca8bf not parsed\n",
      "multipart/alternative\n",
      "msg 0423.353c3de8f5c7114179771f9b44e70b9e not parsed\n",
      "multipart/related\n",
      "msg 0441.ceab9dcbd4892de96af3e38b96205f54 not parsed\n",
      "multipart/signed\n",
      "msg 0442.91893de42b92445e8dc40a3900809439 not parsed\n",
      "multipart/signed\n",
      "msg 0443.9a9e4c025d607ce0c5d103c02ca3c178 not parsed\n",
      "multipart/signed\n",
      "msg 0444.58dd409fb0fc0d853c6b9042560c6ae1 not parsed\n",
      "multipart/signed\n",
      "msg 0635.9df0cec793507fcd3cab877c7d7616be not parsed\n",
      "multipart/alternative\n",
      "msg 0764.ba8f49f7a4dd4d9a9bb28e5c96e46463 not parsed\n",
      "multipart/related\n",
      "msg 0836.249730de164ba4999f1ab6ec2d3cb2d1 not parsed\n",
      "multipart/mixed\n",
      "msg 0910.1c60142bded401b4c9921b2c48600619 not parsed\n",
      "multipart/alternative\n",
      "msg 0946.eb5e7c2de78b6fec81e509923689a7a4 not parsed\n",
      "multipart/alternative\n",
      "msg 1024.2ec2a5954337a9a35a3c169caa5d947a not parsed\n",
      "multipart/signed\n",
      "msg 1025.77dcf4ff92802ab3af94b9516d25b02a not parsed\n",
      "multipart/signed\n",
      "msg 1027.35033a975b9979f1a2eb34db590b32ac not parsed\n",
      "multipart/signed\n",
      "msg 1028.a139c4ec44f9dd8286a8333d934ced4e not parsed\n",
      "multipart/signed\n",
      "msg 1029.cfdcc9c1ab54e77b18da7164b324178a not parsed\n",
      "multipart/signed\n",
      "msg 1032.725446990feeb941bce8a383943cd2a2 not parsed\n",
      "multipart/signed\n",
      "msg 1041.c96194d26968c693aca4f4ef5f4a6a61 not parsed\n",
      "multipart/signed\n",
      "msg 1043.701d8a6b948c0e1406a85fc621497237 not parsed\n",
      "multipart/signed\n",
      "msg 1044.69004045b2942eac5b0136f672626f7a not parsed\n",
      "multipart/signed\n",
      "msg 1046.06207e3824a4024e41215defe29e1ddf not parsed\n",
      "multipart/signed\n",
      "msg 1048.8944cf897b72c824c5a144378cd0c4b3 not parsed\n",
      "multipart/signed\n",
      "msg 1057.3f02467f2419b7400e5afa8c8df961de not parsed\n",
      "multipart/signed\n",
      "msg 1068.3a4e8387265236bd326736c63dfa1ce0 not parsed\n",
      "multipart/mixed\n",
      "msg 1070.08b260e66ee072ebac13b66969730352 not parsed\n",
      "multipart/signed\n",
      "msg 1075.3de216ecf7ce7145a20445d504976e2d not parsed\n",
      "multipart/mixed\n",
      "msg 1079.3d222257b98d7d58a0f970d101be3ad7 not parsed\n",
      "multipart/signed\n",
      "msg 1085.868ec696162f19a3a6b8993b1d675c5d not parsed\n",
      "multipart/signed\n"
     ]
    },
    {
     "name": "stdout",
     "output_type": "stream",
     "text": [
      "msg 1111.682637cab441c4614d42314d8c82c2c6 not parsed\n",
      "multipart/signed\n",
      "msg 1127.1b3f0a69bea37c4e0a04b66ebc841196 not parsed\n",
      "multipart/mixed\n",
      "msg 1135.55ab9518e8b987f67ed8b5b85e8543e8 not parsed\n",
      "multipart/mixed\n",
      "msg 1147.744811b2ba3a95401f70b17e9fade217 not parsed\n",
      "multipart/signed\n",
      "msg 1149.68dbf497c1a8748757b6acc50fb74ed0 not parsed\n",
      "multipart/signed\n",
      "msg 1151.29e4a84f607ead7d55a50aeef2c3f574 not parsed\n",
      "multipart/signed\n",
      "msg 1176.5069b991bdfa80bc965015a7a94c3a4b not parsed\n",
      "multipart/signed\n",
      "msg 1178.0bd8c8c1cf63d08849c504af3535f635 not parsed\n",
      "multipart/signed\n",
      "msg 1209.8d537f01328f65ebd018e0e4e77ebc10 not parsed\n",
      "multipart/signed\n",
      "msg 1211.84b0b651923557c12187ec32ed8d5c24 not parsed\n",
      "multipart/signed\n",
      "msg 1212.b8a6ce9e2f0d2075ace38710d356c7af not parsed\n",
      "multipart/signed\n",
      "msg 1213.b121b45b8b82aab9b9c203d3bc49e384 not parsed\n",
      "multipart/signed\n",
      "msg 1214.1a66983fafc885a13fb7301e76d9af04 not parsed\n",
      "multipart/signed\n",
      "msg 1218.190735ca00def4ad757ea5786115f832 not parsed\n",
      "multipart/signed\n",
      "msg 1219.c4cc23fc1dcc1809a3dc65c58fc51d65 not parsed\n",
      "multipart/signed\n",
      "msg 1230.55a8eec81fe610dade9d896627eb8703 not parsed\n",
      "multipart/signed\n",
      "msg 1231.9a7db322df8f2bdf4eeb2d589cb51e34 not parsed\n",
      "multipart/signed\n",
      "msg 1234.30168dbefeafcbbd7649c9153a182482 not parsed\n",
      "multipart/signed\n",
      "msg 1242.570c92b17b81753d832ac94dbd8f4b4e not parsed\n",
      "multipart/signed\n",
      "msg 1244.00a547243dc2054b271e9a8e1ca6f577 not parsed\n",
      "multipart/signed\n",
      "msg 1246.30234e4c9aedace42e5472e1a21aaf64 not parsed\n",
      "multipart/signed\n",
      "msg 1252.01338681a590fb6bd30ef412a98a2993 not parsed\n",
      "multipart/signed\n",
      "msg 1254.d6a2581736fbaa0dec1593effdfc9af4 not parsed\n",
      "multipart/signed\n",
      "msg 1267.3641b74038e9f1bc91bbf8318572ffd1 not parsed\n",
      "multipart/signed\n",
      "msg 1269.7820a9dc465e4d9eb8b2184d98fb9b3b not parsed\n",
      "multipart/signed\n",
      "msg 1302.cf60285f99cfeeca015a2c1a02cfba61 not parsed\n",
      "multipart/mixed\n",
      "msg 1311.1b2aa5b1599ab89a91f09ef1f1dc9989 not parsed\n",
      "multipart/mixed\n",
      "msg 1319.58000a90a0ce3ea98762d31df028af02 not parsed\n",
      "multipart/signed\n",
      "msg 1381.3c5527db01789ad42005006ac2ed2fcc not parsed\n",
      "multipart/mixed\n",
      "msg 1406.8be30026528bc5fabe63b16b834d426f not parsed\n",
      "multipart/signed\n",
      "msg 1428.5b9b341ac8488e65419bd551ce99b23d not parsed\n",
      "multipart/signed\n",
      "msg 1445.57f9856f348cda1656331372731701eb not parsed\n",
      "multipart/signed\n",
      "msg 1450.c0ce160e1b285899424541ccd82b71b1 not parsed\n",
      "multipart/signed\n",
      "msg 1485.466b9731651b090d2ecee034e696cda1 not parsed\n",
      "multipart/signed\n",
      "msg 1490.e80cf700ef4de2385ada6ae149e7498c not parsed\n",
      "multipart/signed\n",
      "msg 1496.c48399a0c3abb60acd00322bdbb97565 not parsed\n",
      "multipart/signed\n",
      "msg 1499.37d7a1b89dcf94a9b123ad584c2fa149 not parsed\n",
      "multipart/signed\n",
      "msg 1518.94c41662e1101b46c74bfb14b84b34c4 not parsed\n",
      "multipart/signed\n",
      "msg 1519.6074b997fafe25f524f2e2334f7ae45e not parsed\n",
      "multipart/signed\n",
      "msg 1530.fda9cfd3e1881b3e8c823a35b618f897 not parsed\n",
      "multipart/report\n",
      "msg 1540.e6859a3f2b7d4347f84df81b2398ae58 not parsed\n",
      "multipart/signed\n",
      "msg 1542.a5fda7c1725c3f9715d2b0c858ad306e not parsed\n",
      "multipart/signed\n",
      "msg 1562.6aca6138ec917241b64782a98697c17f not parsed\n",
      "multipart/alternative\n",
      "msg 1563.4869bc6713ad6960f9b607c03dfa1c23 not parsed\n",
      "multipart/signed\n",
      "msg 1567.eeb0beaf2f749c8281d93d1536cce247 not parsed\n",
      "multipart/signed\n",
      "msg 1568.dcedec6fe7d15916774846928acd2872 not parsed\n",
      "multipart/signed\n",
      "msg 1570.a0b2e109e4f244de9538fed3b472f1db not parsed\n",
      "multipart/signed\n",
      "msg 1585.82fb57152be63c79b28e68ae0ad319d9 not parsed\n",
      "multipart/alternative\n",
      "msg 1603.c0963552df600d961b960f710d6ffaa7 not parsed\n",
      "multipart/signed\n",
      "msg 1641.7555c5920365e6315e3f20d83211d558 not parsed\n",
      "multipart/report\n",
      "msg 1657.41457c98e0009a99d917acfbc8f229cd not parsed\n",
      "multipart/signed\n",
      "msg 1660.f4b2e5b394c3aaf2589c49c205ca05d7 not parsed\n",
      "multipart/mixed\n",
      "msg 1665.46bc87071ff202b6f0c37c8a4b6a42a4 not parsed\n",
      "multipart/signed\n",
      "msg 1667.aa251c5e7789a550ed91cdacb0d58649 not parsed\n",
      "multipart/signed\n",
      "msg 1670.da702de4cb6dce6d1f62c93bc30e71ff not parsed\n",
      "multipart/alternative\n",
      "msg 1671.a2d7c7639df071620b481223ecab75c2 not parsed\n",
      "multipart/signed\n",
      "msg 1691.dc18b18697ac2c2d7e5024eb8be84ecb not parsed\n",
      "multipart/signed\n",
      "msg 1705.d042ec093f873897ebf5146274dc2a20 not parsed\n",
      "multipart/signed\n",
      "msg 1709.beab5cca12dcf10c94ed9ce7f8951444 not parsed\n",
      "multipart/signed\n",
      "msg 1710.d0eb0dff243846772b43c3b6e377b2be not parsed\n",
      "multipart/signed\n",
      "msg 1724.fd2c1f2000f8b5b8042872435656619d not parsed\n",
      "multipart/signed\n",
      "msg 00002.5a587ae61666c5aa097c8e866aedcc59 not parsed\n",
      "multipart/signed\n",
      "msg 00003.19be8acd739ad589cd00d8425bac7115 not parsed\n",
      "multipart/signed\n",
      "msg 00004.b2ed6c3c62bbdfab7683d60e214d1445 not parsed\n",
      "multipart/signed\n",
      "msg 00005.07b9d4aa9e6c596440295a5170111392 not parsed\n",
      "multipart/signed\n",
      "msg 00006.654c4ec7c059531accf388a807064363 not parsed\n",
      "multipart/signed\n",
      "msg 00007.2e086b13730b68a21ee715db145522b9 not parsed\n",
      "multipart/signed\n",
      "msg 00008.6b73027e1e56131377941ff1db17ff12 not parsed\n",
      "multipart/signed\n",
      "msg 00009.13c349859b09264fa131872ed4fb6e4e not parsed\n",
      "multipart/signed\n",
      "msg 00012.3c1ff7380f10a806321027fc0ad09560 not parsed\n",
      "multipart/signed\n",
      "msg 00514.7e91be47b3ec2e2cafef70e325fe51df not parsed\n",
      "multipart/alternative\n",
      "msg 00565.630d62a91f6d1b297a2069007700e2ae not parsed\n",
      "multipart/signed\n",
      "msg 00569.76b6e6837716e2abd44bd173abeca99b not parsed\n",
      "multipart/alternative\n",
      "msg 00571.f40af0c5bd3cc0bc6cd1c43eafa48b49 not parsed\n",
      "multipart/alternative\n",
      "msg 00574.ca8de7c19bacedefb060405b55d13c29 not parsed\n",
      "multipart/alternative\n",
      "msg 00576.da562ad33f7db223b12b85e2eb9fdefe not parsed\n",
      "multipart/alternative\n",
      "msg 00613.80ccdadbbc27715a03f1f59580405340 not parsed\n",
      "multipart/signed\n",
      "msg 00653.41f993b29996e0e099849f377ae280e4 not parsed\n",
      "multipart/signed\n",
      "msg 00681.b82e0f297d0ca719567dc764da63e8b7 not parsed\n",
      "multipart/signed\n",
      "msg 00686.e72932a083f77eaf366109752c89a60b not parsed\n",
      "multipart/signed\n",
      "msg 00688.f08034280cb30919f77f093881d60b26 not parsed\n",
      "multipart/signed\n",
      "msg 00689.ae6cd2a1fe148629b6d4e11fba10cd8c not parsed\n",
      "multipart/signed\n",
      "msg 00690.dd9bb1e5bc14e171cfc67e0ab3ac850f not parsed\n",
      "multipart/signed\n",
      "msg 00706.8572fad402b05b1931dfef0b5ec7ff48 not parsed\n",
      "multipart/mixed\n",
      "msg 00716.fd7eaea72c93e40a0ccff80ff8abe24f not parsed\n",
      "multipart/signed\n",
      "msg 00718.9c814926c32a81ae9a66e55999e160d3 not parsed\n",
      "multipart/signed\n",
      "msg 00719.d3f6422685d691cd7d0aea8851b831f9 not parsed\n",
      "multipart/signed\n",
      "msg 00720.b32e7900b189a55cf7207e9633f5c437 not parsed\n",
      "multipart/signed\n",
      "msg 00721.39d6783c5838169bfa901056e6c8a5b2 not parsed\n",
      "multipart/mixed\n",
      "msg 00722.7f846f5a56c251c9c49e7bd756df45d4 not parsed\n",
      "multipart/signed\n",
      "msg 00733.8e51537a410ca42b33ae41f5973132d6 not parsed\n",
      "multipart/signed\n",
      "msg 00735.cc6d7c2f483b7368337750b02ce1f9a6 not parsed\n",
      "multipart/signed\n",
      "msg 00740.ee2bca9de808193c2af8a0c0212f752e not parsed\n",
      "multipart/signed\n",
      "msg 00741.69c01dfaf0584817f92435ebd0e7c8c3 not parsed\n",
      "multipart/signed\n",
      "msg 00754.7ef282943b46f61c8453c38e45124ae2 not parsed\n",
      "multipart/signed\n",
      "msg 00773.588b49e12a139c86b8680ce0aa9328a4 not parsed\n",
      "multipart/signed\n",
      "msg 00783.c4f1bbae8bcdcbcd25a2090effe54deb not parsed\n",
      "multipart/signed\n",
      "msg 00789.f5ae0a050a9e179558e9d351d9cfb7d2 not parsed\n",
      "multipart/signed\n",
      "msg 00791.14ee5f2a2aeeea8dc5440ed607c59e59 not parsed\n",
      "multipart/signed\n",
      "msg 00792.0456a0df8da92cfb4d989b517ed0ff57 not parsed\n",
      "multipart/signed\n",
      "msg 00793.b4ae3b05f6b8dfc24f8a92ab759ba54d not parsed\n",
      "multipart/signed\n",
      "msg 00869.0fbb783356f6875063681dc49cfcb1eb not parsed\n",
      "multipart/related\n",
      "msg 01029.09304353cc025c0198421b5016a0b81c not parsed\n",
      "multipart/alternative\n",
      "msg 01041.1f981a5aa068f43bf951410f3c9f62ca not parsed\n",
      "multipart/alternative\n",
      "msg 01118.5173241d239924391b3748e7ffb41832 not parsed\n",
      "multipart/alternative\n",
      "msg 01177.bead19a7b498c5c483805291331e769c not parsed\n",
      "multipart/mixed\n",
      "msg 01187.53063c4a5d1cd337d5c6160f2a5fad8a not parsed\n",
      "multipart/mixed\n",
      "msg 01248.5c4c3971e0d9f6ed510e246a14d414a2 not parsed\n",
      "multipart/mixed\n",
      "msg 01285.d0d97662f93c959244325cc414f96039 not parsed\n",
      "multipart/signed\n",
      "msg 01306.642dc8dce3771af294de84e167221354 not parsed\n",
      "multipart/signed\n",
      "msg 01309.2be013917de1be361da51fd194dd68cb not parsed\n",
      "multipart/signed\n",
      "msg 01311.b6a06b3e24130a32172b4c5225a1d5a6 not parsed\n",
      "multipart/report\n",
      "msg 01324.23a1f5017a5531fca08d9ebe2f5b0537 not parsed\n",
      "multipart/alternative\n",
      "msg 01325.d94c9e1cca235f9f1bcecf469954490f not parsed\n",
      "multipart/alternative\n",
      "msg 01326.b3210847a0d8621e380ac3e10606c497 not parsed\n",
      "multipart/alternative\n",
      "msg 01388.8bdd1ecbba6a6739b067fe88cd0fa281 not parsed\n",
      "multipart/mixed\n",
      "msg 00008.b42457819236bee543bebffb61b91e44 not parsed\n",
      "multipart/alternative\n",
      "msg 00010.e82bd1f5f7eae426682a7f8e4cbf1ae6 not parsed\n",
      "multipart/alternative\n"
     ]
    },
    {
     "name": "stdout",
     "output_type": "stream",
     "text": [
      "msg 00017.840244edb8cc88aba7129296ea536212 not parsed\n",
      "multipart/alternative\n",
      "msg 00021.1707ccb203e1a39f5167f1c0d65cc235 not parsed\n",
      "multipart/alternative\n",
      "msg 00033.a09f363a94e0c632227ab453b9fd4908 not parsed\n",
      "multipart/alternative\n",
      "msg 00037.55830ddeb2e48be48787c1fb1656ee47 not parsed\n",
      "multipart/alternative\n",
      "msg 00039.b2b936a8501444b213f61f9ff193b480 not parsed\n",
      "multipart/mixed\n",
      "msg 00055.d4984b38068ffd0b982eb1e5c117512f not parsed\n",
      "multipart/alternative\n",
      "msg 00063.70680acb99a7bb45b2194c228388ed43 not parsed\n",
      "multipart/alternative\n",
      "msg 00064.a80b45bb0339ed948bbbd968c074c60e not parsed\n",
      "multipart/alternative\n",
      "msg 0007.7f2ea3a532284cff3321e5ba159cdb50 not parsed\n",
      "multipart/alternative\n",
      "msg 00092.dea3df11dafb2cdd838b42fc3b9ead09 not parsed\n",
      "multipart/alternative\n",
      "msg 00111.9b8da30db6709b590398fe8923a7180c not parsed\n",
      "multipart/alternative\n",
      "msg 00131.fea96653807a20ab7a910705f7adc6c0 not parsed\n",
      "multipart/alternative\n",
      "msg 00135.fc6adca276535ab323a5afc4cec23256 not parsed\n",
      "multipart/alternative\n",
      "msg 00139.8164b7e486cc17d8f2c921f99e05ed10 not parsed\n",
      "multipart/alternative\n",
      "msg 00149.f6fddcb1750a61e5e085e22a4fa08912 not parsed\n",
      "multipart/alternative\n",
      "msg 00150.6757acfba013e1e9b138e2530101c9b8 not parsed\n",
      "multipart/mixed\n",
      "msg 00151.b352916ecff2b0ba1140d6898d789235 not parsed\n",
      "multipart/alternative\n",
      "msg 00153.ed096ffdeb400b9697bb01c41814f7e6 not parsed\n",
      "multipart/alternative\n",
      "msg 00158.8042a8d7b2a93ebdee1df8239cfea2b0 not parsed\n",
      "multipart/alternative\n",
      "msg 00160.0f0cc01d1f3ec5eff12ca6ee90ea9841 not parsed\n",
      "multipart/alternative\n",
      "msg 00167.728c686d0128f4d677a5658d865e6159 not parsed\n",
      "multipart/alternative\n",
      "msg 00168.f8f56df10d37e1b1a50747cf9708e8b4 not parsed\n",
      "multipart/alternative\n",
      "msg 00169.251360b0bc97db8a080cc122ce0428fe not parsed\n",
      "multipart/alternative\n",
      "msg 00170.1a9e4779117adf05e9690401ab6bc6cb not parsed\n",
      "multipart/alternative\n",
      "msg 00173.493449c83919771888e79bea2f0b4ac2 not parsed\n",
      "multipart/alternative\n",
      "msg 00176.de59e6073d714bb1e1d2e9e8a45dd4c9 not parsed\n",
      "multipart/alternative\n",
      "msg 00179.e07465b40c68c228dfb7133d8788e5cf not parsed\n",
      "multipart/alternative\n",
      "msg 00180.c48e764a71e8baa907f4f623cbbf9b80 not parsed\n",
      "multipart/alternative\n",
      "msg 00183.a008f2e258860eff155bb06a065f7d56 not parsed\n",
      "multipart/signed\n",
      "msg 00196.a1dbbf4dd324bb585342320e1ca42e2f not parsed\n",
      "multipart/alternative\n",
      "msg 00197.c7483488867fe74e7444441283549ae8 not parsed\n",
      "multipart/alternative\n",
      "msg 00198.9b71c90c298d453025eae7bbcc46018b not parsed\n",
      "multipart/alternative\n",
      "msg 00199.a69d994a7a76f49be4f4e8b839adc00a not parsed\n",
      "multipart/alternative\n",
      "msg 00203.f60fed4761dba24a8e626e8280d53191 not parsed\n",
      "multipart/alternative\n",
      "msg 00204.3f44646104dbe9da75d726e4e283b7fb not parsed\n",
      "multipart/alternative\n",
      "msg 00210.79fd0e04bf1db9acf7fcfa18898b2fe3 not parsed\n",
      "multipart/alternative\n",
      "msg 0022.2988baa63bae8377269759384f4d73bc not parsed\n",
      "multipart/alternative\n",
      "msg 00221.a381aa8211652ea0b51cee1f2d261fce not parsed\n",
      "multipart/mixed\n",
      "msg 00222.57ad2fdad6b9fceaf7058603664df7e2 not parsed\n",
      "multipart/alternative\n",
      "msg 00223.14b06feeb8b03fed4e272140b8ed95f0 not parsed\n",
      "multipart/alternative\n",
      "msg 00226.54521695be23019d664e33a1a7753355 not parsed\n",
      "multipart/alternative\n",
      "msg 00233.3731b99b0fb04bcf461d098d0570ea36 not parsed\n",
      "multipart/mixed\n",
      "msg 00234.12555461ce0bc373baab8daf9280d4ca not parsed\n",
      "multipart/alternative\n",
      "msg 00240.8623673c2a6f2cde10ab31423f708feb not parsed\n",
      "multipart/related\n",
      "msg 00241.4e5262894127344225abfc680c35e3d3 not parsed\n",
      "multipart/mixed\n",
      "msg 00242.fc258e3fb7c6c86571243691e28c1921 not parsed\n",
      "multipart/alternative\n",
      "msg 00243.3bcfd197aa4187ca654e9b874d9c7833 not parsed\n",
      "multipart/mixed\n",
      "msg 00245.ad6a6e01bee8f1d84541fb127a86e31f not parsed\n",
      "multipart/alternative\n",
      "msg 00246.fdaacadac7143848978ea0af07eed070 not parsed\n",
      "multipart/alternative\n",
      "msg 00249.b9183324a9726e8b6c8779045a921243 not parsed\n",
      "multipart/alternative\n",
      "msg 00250.c7603b27a45284d12b49adf767b2b6fa not parsed\n",
      "multipart/alternative\n",
      "msg 0026.3824ad4c30f4e1bd3e3d37057e9359a6 not parsed\n",
      "multipart/alternative\n",
      "msg 0042.a6e6bbb86e12badb0f0cb871176e7493 not parsed\n",
      "multipart/alternative\n",
      "msg 0050.055a745d0040ad87b4695a1f23502a81 not parsed\n",
      "multipart/alternative\n",
      "msg 0051.6977edf4fd92543b1c9af246ebdc00cb not parsed\n",
      "multipart/alternative\n",
      "msg 0079.394974089196bddcfb45e9afe5de4729 not parsed\n",
      "multipart/alternative\n",
      "msg 0098.e9afe23402251639779bbc1fa0476a9e not parsed\n",
      "multipart/alternative\n",
      "msg 0117.fddcee5e4df575edc769d13a84cb32fe not parsed\n",
      "multipart/alternative\n",
      "msg 0120.472f6d6d8c73039c595840dd32206781 not parsed\n",
      "multipart/alternative\n",
      "msg 0124.c62aedaf5026c8308691697beff88744 not parsed\n",
      "multipart/alternative\n",
      "msg 0133.d4a1ca8e0fcb12df4042bd8df916d69a not parsed\n",
      "multipart/mixed\n",
      "msg 0138.6f5a6164234f79dfaaa530134395bef1 not parsed\n",
      "multipart/alternative\n",
      "msg 0140.0d1eca4253384df024692c75f8540c4f not parsed\n",
      "multipart/alternative\n",
      "msg 0142.0220f772ab37ba8d5899fc62f6878edf not parsed\n",
      "multipart/alternative\n",
      "msg 0144.ac882e3f2cd7c60dfa9c061637ba7ef7 not parsed\n",
      "multipart/alternative\n",
      "msg 0145.f3857becbb757216bd6224a2c217d1f7 not parsed\n",
      "multipart/mixed\n",
      "msg 0146.e49cd86bb6e497e11c9ca1ca27cd5893 not parsed\n",
      "multipart/alternative\n",
      "msg 0151.0402ce39c606a9988884acd4707463cf not parsed\n",
      "multipart/alternative\n",
      "msg 0152.11f72139fb68f9d4fdc1d72d6803437c not parsed\n",
      "multipart/alternative\n",
      "msg 0153.569daf40165213f3b4116b586362b142 not parsed\n",
      "multipart/alternative\n",
      "msg 0156.d8a5e5bc0173393fb1e169921e1c3ee6 not parsed\n",
      "multipart/alternative\n",
      "msg 0157.09827ed42b5f694067929fc00393630e not parsed\n",
      "multipart/alternative\n",
      "msg 0160.6afa0b4b6fd169beb74a46759a413fda not parsed\n",
      "multipart/alternative\n",
      "msg 0162.5258f5bbb6d86187bbd7b58851ce3b06 not parsed\n",
      "multipart/alternative\n",
      "msg 0163.0123b1afbae948c7fa80a8ab79786e16 not parsed\n",
      "multipart/alternative\n",
      "msg 0167.e069a1be61effd430e3eea8441f5ae90 not parsed\n",
      "multipart/signed\n",
      "msg 0179.b2b936a8501444b213f61f9ff193b480 not parsed\n",
      "multipart/mixed\n",
      "msg 0182.b7ddf319da0b2846f1f78a20e7a6fc9c not parsed\n",
      "multipart/alternative\n",
      "msg 0191.47a4267102621d60e7de985f0f738f96 not parsed\n",
      "multipart/alternative\n",
      "msg 0193.db3e40c7d92cc223f91149f8d3a4e1b2 not parsed\n",
      "multipart/alternative\n",
      "msg 0200.b3ec97a024684e66fd16c530f2e0a4f6 not parsed\n",
      "multipart/alternative\n",
      "msg 0201.a69d994a7a76f49be4f4e8b839adc00a not parsed\n",
      "multipart/alternative\n",
      "msg 0202.9b71c90c298d453025eae7bbcc46018b not parsed\n",
      "multipart/alternative\n",
      "msg 0204.9cc1bb260964bd6c5c5e4736f5f1ecd6 not parsed\n",
      "multipart/alternative\n",
      "msg 0208.df5d7a4e950a3aa80a71fbb5186b0f87 not parsed\n",
      "multipart/alternative\n",
      "msg 0214.4a88cbb01e5c7f05db4e12180bc122db not parsed\n",
      "multipart/alternative\n",
      "msg 0225.57081800f804ace547318b1bc499f4c6 not parsed\n",
      "multipart/mixed\n",
      "msg 0227.34e6b6125909c0d998370aacc82daefe not parsed\n",
      "multipart/alternative\n",
      "msg 0230.cc7e33f6fb35ec73315649e151d66111 not parsed\n",
      "multipart/alternative\n",
      "msg 0237.57081800f804ace547318b1bc499f4c6 not parsed\n",
      "multipart/mixed\n",
      "msg 0239.34e6b6125909c0d998370aacc82daefe not parsed\n",
      "multipart/alternative\n",
      "msg 0242.cc7e33f6fb35ec73315649e151d66111 not parsed\n",
      "multipart/alternative\n",
      "msg 0244.4a88cbb01e5c7f05db4e12180bc122db not parsed\n",
      "multipart/alternative\n"
     ]
    }
   ],
   "source": [
    "import re\n",
    "root = \"../Quantifying the world/SpamAssassinMessages\"\n",
    "targets_ham_all, data_ham_all, count_ham_all = [], [], []\n",
    "for folder in os.listdir(root):\n",
    "    if not re.match(r'spam', folder):\n",
    "        ham_folder = os.path.join(root, folder)\n",
    "        targets_ham, data_ham, count_ham = email_prep_ham(ham_folder)\n",
    "        targets_ham_all.append(targets_ham)\n",
    "        data_ham_all.append(data_ham)\n",
    "        count_ham_all.append(count_ham)"
   ]
  },
  {
   "cell_type": "code",
   "execution_count": 13,
   "id": "9ddb7652",
   "metadata": {},
   "outputs": [
    {
     "data": {
      "text/plain": [
       "(3, 3, [5052, 1401, 501])"
      ]
     },
     "execution_count": 13,
     "metadata": {},
     "output_type": "execute_result"
    }
   ],
   "source": [
    "len(targets_ham_all), len(data_ham_all), count_ham_all"
   ]
  },
  {
   "cell_type": "markdown",
   "id": "e224b1c1",
   "metadata": {},
   "source": [
    "#### Merge all the ham messages.  \n",
    "\n",
    "- Comment off the extend operation after call to prevent multiple append.  "
   ]
  },
  {
   "cell_type": "code",
   "execution_count": 14,
   "id": "ebf4fcc8",
   "metadata": {},
   "outputs": [
    {
     "data": {
      "text/plain": [
       "6614"
      ]
     },
     "execution_count": 14,
     "metadata": {},
     "output_type": "execute_result"
    }
   ],
   "source": [
    "ham_target_ = []\n",
    "[ham_target_.extend(part) for part in targets_ham_all]\n",
    "len(ham_target_)"
   ]
  },
  {
   "cell_type": "code",
   "execution_count": 15,
   "id": "c5510dbd",
   "metadata": {},
   "outputs": [
    {
     "data": {
      "text/plain": [
       "6614"
      ]
     },
     "execution_count": 15,
     "metadata": {},
     "output_type": "execute_result"
    }
   ],
   "source": [
    "ham_data_ = []\n",
    "[ham_data_.extend(part) for part in data_ham_all]\n",
    "len(ham_data_)"
   ]
  },
  {
   "cell_type": "markdown",
   "id": "789480ee",
   "metadata": {},
   "source": [
    "## Preprocess texts  \n",
    "- Combine the datasets into one gian dataset\n",
    "- Parse the dataset into the preprocess custom function"
   ]
  },
  {
   "cell_type": "code",
   "execution_count": 16,
   "id": "1fd83d6a",
   "metadata": {},
   "outputs": [],
   "source": [
    "email_data_, email_target = spam_data_+ham_data_, spam_target_+ham_target_"
   ]
  },
  {
   "cell_type": "code",
   "execution_count": 17,
   "id": "d1892d55",
   "metadata": {},
   "outputs": [
    {
     "data": {
      "text/plain": [
       "(8606, 8606)"
      ]
     },
     "execution_count": 17,
     "metadata": {},
     "output_type": "execute_result"
    }
   ],
   "source": [
    "len(email_data_), len(email_target)"
   ]
  },
  {
   "cell_type": "markdown",
   "id": "9d6556d8",
   "metadata": {},
   "source": [
    "### Preprocess the data  \n",
    "- For preprocessing, we will remove non alpha numeric characters and some special characters from the email messages.\n",
    "- I decided not to remove stop words "
   ]
  },
  {
   "cell_type": "code",
   "execution_count": 18,
   "id": "8d66dc06",
   "metadata": {},
   "outputs": [],
   "source": [
    "import re\n",
    "def non_alpanum_del(text):\n",
    "    pattern = r'[^a-zA-z0-9]'\n",
    "    text = re.sub(pattern, ' ', text)\n",
    "    return text"
   ]
  },
  {
   "cell_type": "code",
   "execution_count": 19,
   "id": "5cc9fa21",
   "metadata": {},
   "outputs": [],
   "source": [
    "import nltk"
   ]
  },
  {
   "cell_type": "markdown",
   "id": "d80988a7",
   "metadata": {},
   "source": [
    "**Stopwords list from nltk will be used but important context words will not be removed.**"
   ]
  },
  {
   "cell_type": "code",
   "execution_count": 20,
   "id": "4c83262c",
   "metadata": {},
   "outputs": [],
   "source": [
    "stop_words = nltk.corpus.stopwords.words('english')\n",
    "stop_words.remove('no')\n",
    "stop_words.remove('not')\n",
    "stop_words.remove('but')\n",
    "stop_words.remove('while')"
   ]
  },
  {
   "cell_type": "code",
   "execution_count": 21,
   "id": "77346c9d",
   "metadata": {},
   "outputs": [],
   "source": [
    "word_tok = nltk.WordPunctTokenizer()\n",
    "def prep_data(documents, lower_all=True, non_alpha_removal=True):               \n",
    "                    \n",
    "    data_clean = []\n",
    "    # preprocess each document in the dataset\n",
    "    for document in documents:\n",
    "        # change all alphabet to lower case\n",
    "        if lower_all:\n",
    "            document = document.lower()\n",
    "\n",
    "        # remove special characters and\\or digits\n",
    "        if non_alpha_removal:\n",
    "            document = non_alpanum_del(document)\n",
    "            #document=re.sub(r'\\_*', ' ', document)\n",
    "            tokens = word_tok.tokenize(document)\n",
    "            token_nostop = [token for token in tokens if token not in stop_words]\n",
    "        #join the tokens together as a document again\n",
    "            document = ' '.join(token_nostop)\n",
    "        data_clean.append(document)\n",
    "    return data_clean"
   ]
  },
  {
   "cell_type": "code",
   "execution_count": 22,
   "id": "c5f69d77",
   "metadata": {},
   "outputs": [],
   "source": [
    "email_data_clean_ = prep_data(email_data_, lower_all=True, non_alpha_removal=True)"
   ]
  },
  {
   "cell_type": "code",
   "execution_count": 23,
   "id": "72828268",
   "metadata": {},
   "outputs": [
    {
     "data": {
      "text/plain": [
       "8606"
      ]
     },
     "execution_count": 23,
     "metadata": {},
     "output_type": "execute_result"
    }
   ],
   "source": [
    "len(email_data_clean_)"
   ]
  },
  {
   "cell_type": "code",
   "execution_count": 24,
   "id": "311648c4",
   "metadata": {},
   "outputs": [
    {
     "data": {
      "text/plain": [
       "8606"
      ]
     },
     "execution_count": 24,
     "metadata": {},
     "output_type": "execute_result"
    }
   ],
   "source": [
    "len(email_target)"
   ]
  },
  {
   "cell_type": "code",
   "execution_count": 25,
   "id": "cc5aec94",
   "metadata": {},
   "outputs": [],
   "source": [
    "email_text = list(zip(email_data_clean_, email_target))"
   ]
  },
  {
   "cell_type": "code",
   "execution_count": 26,
   "id": "c8043901",
   "metadata": {},
   "outputs": [
    {
     "data": {
      "text/plain": [
       "8606"
      ]
     },
     "execution_count": 26,
     "metadata": {},
     "output_type": "execute_result"
    }
   ],
   "source": [
    "len(email_text)"
   ]
  },
  {
   "cell_type": "code",
   "execution_count": 27,
   "id": "513d90e6",
   "metadata": {},
   "outputs": [
    {
     "data": {
      "text/plain": [
       "('1 fight risk cancer http www adclick ws p cfm 315 pk007 2 slim guaranteed lose 10 12 lbs 30 days http www adclick ws p cfm 249 pk007 3 get child support deserve free legal advice http www adclick ws p cfm 245 pk002 4 join web fastest growing singles community http www adclick ws p cfm 259 pk007 5 start private photo album online http www adclick ws p cfm 283 pk007 wonderful day offer manager prizemama wish leave list please use link http www qves com trim zzzz spamassassin taint org 7c17 7c308417',\n",
       " 0)"
      ]
     },
     "execution_count": 27,
     "metadata": {},
     "output_type": "execute_result"
    }
   ],
   "source": [
    "#Sanity check. See a sample email.\n",
    "email_text[25]"
   ]
  },
  {
   "cell_type": "markdown",
   "id": "83fd1927",
   "metadata": {},
   "source": [
    "**As seeing above. Stops are removed**"
   ]
  },
  {
   "cell_type": "code",
   "execution_count": 28,
   "id": "50408ba8",
   "metadata": {},
   "outputs": [
    {
     "name": "stdout",
     "output_type": "stream",
     "text": [
      "<class 'pandas.core.frame.DataFrame'>\n",
      "RangeIndex: 8606 entries, 0 to 8605\n",
      "Data columns (total 2 columns):\n",
      " #   Column  Non-Null Count  Dtype \n",
      "---  ------  --------------  ----- \n",
      " 0   email   8606 non-null   object\n",
      " 1   target  8606 non-null   int64 \n",
      "dtypes: int64(1), object(1)\n",
      "memory usage: 134.6+ KB\n"
     ]
    }
   ],
   "source": [
    "## See the dataset in a dataframe\n",
    "email_df = pd.DataFrame({'email':email_data_clean_, 'target':email_target})\n",
    "email_df.info()"
   ]
  },
  {
   "cell_type": "markdown",
   "id": "468045ca",
   "metadata": {},
   "source": [
    "## Note: Ham is 1, Spam is 0  "
   ]
  },
  {
   "cell_type": "markdown",
   "id": "aa20c9ef",
   "metadata": {},
   "source": [
    "## Train test split  \n",
    "- Stratify will used to maintain the proportion of the instances per class. \n",
    "- We also set random_state for reproducibility"
   ]
  },
  {
   "cell_type": "code",
   "execution_count": 29,
   "id": "53f8c119",
   "metadata": {},
   "outputs": [],
   "source": [
    "from sklearn.model_selection import train_test_split\n",
    "train, test, y_train, y_test = train_test_split(email_data_clean_, email_target, test_size=0.3,random_state=42, stratify = email_target)\n"
   ]
  },
  {
   "cell_type": "markdown",
   "id": "56ba4d56",
   "metadata": {},
   "source": [
    "Let us verify that the proportions approximately the same for the train, test and full dataset."
   ]
  },
  {
   "cell_type": "code",
   "execution_count": 30,
   "id": "41247f96",
   "metadata": {},
   "outputs": [],
   "source": [
    "(unique, counts) = np.unique(y_train, return_counts=True)\n",
    "(unique1, counts1) = np.unique(email_target, return_counts=True)"
   ]
  },
  {
   "cell_type": "code",
   "execution_count": 31,
   "id": "7b760f98",
   "metadata": {},
   "outputs": [
    {
     "data": {
      "text/plain": [
       "(array([0, 1]), array([ 670, 1912], dtype=int64))"
      ]
     },
     "execution_count": 31,
     "metadata": {},
     "output_type": "execute_result"
    }
   ],
   "source": [
    "(unique2, counts2) = np.unique(y_test, return_counts=True)\n",
    "unique2, counts2"
   ]
  },
  {
   "cell_type": "code",
   "execution_count": 32,
   "id": "4d5722b6",
   "metadata": {},
   "outputs": [
    {
     "name": "stdout",
     "output_type": "stream",
     "text": [
      "For Train: classes are: [0 1] and spam proportion is 25.9% \n"
     ]
    }
   ],
   "source": [
    "print('For Train: classes are: {} and spam proportion is {:.1f}% '.format(unique, counts[0]/len(y_train)*100))"
   ]
  },
  {
   "cell_type": "code",
   "execution_count": 33,
   "id": "cba2d4bc",
   "metadata": {},
   "outputs": [
    {
     "name": "stdout",
     "output_type": "stream",
     "text": [
      "For entire data: classes are: [0 1] and spam prop is 25.9% \n"
     ]
    }
   ],
   "source": [
    "print('For entire data: classes are: {} and spam prop is {:.1f}% '.format(unique1, counts1[0]/len(email_target)*100))"
   ]
  },
  {
   "cell_type": "markdown",
   "id": "37aca22b",
   "metadata": {},
   "source": [
    "**As expected, spam remains ~26% in both the full dataset and train split.**"
   ]
  },
  {
   "cell_type": "code",
   "execution_count": 34,
   "id": "05aa6a03",
   "metadata": {},
   "outputs": [],
   "source": [
    "from sklearn.feature_extraction.text import TfidfVectorizer\n",
    "from sklearn.naive_bayes import MultinomialNB\n",
    "from sklearn.linear_model import LogisticRegression\n",
    "import matplotlib.pyplot as plt\n",
    "%matplotlib inline"
   ]
  },
  {
   "cell_type": "markdown",
   "id": "70370f8b",
   "metadata": {},
   "source": [
    "####  I use ngram range from 1 to 2 words to get a somehow account for context.  "
   ]
  },
  {
   "cell_type": "code",
   "execution_count": 35,
   "id": "c3bbd96c",
   "metadata": {},
   "outputs": [],
   "source": [
    "tfidf = TfidfVectorizer(ngram_range=(1,2), stop_words = stop_words)"
   ]
  },
  {
   "cell_type": "code",
   "execution_count": 36,
   "id": "98c58d88",
   "metadata": {},
   "outputs": [],
   "source": [
    "tf_train=tfidf.fit_transform(train)"
   ]
  },
  {
   "cell_type": "code",
   "execution_count": 37,
   "id": "e449cb1f",
   "metadata": {},
   "outputs": [],
   "source": [
    "tf_test=tfidf.transform(test)"
   ]
  },
  {
   "cell_type": "code",
   "execution_count": 38,
   "id": "4047710b",
   "metadata": {},
   "outputs": [],
   "source": [
    "mnb = MultinomialNB(alpha=1)\n",
    "mnb.fit(tf_train,y_train)\n",
    "y_pred = mnb.predict(tf_test)"
   ]
  },
  {
   "cell_type": "code",
   "execution_count": 39,
   "id": "c23218cb",
   "metadata": {},
   "outputs": [],
   "source": [
    "from sklearn.metrics import confusion_matrix\n",
    "from sklearn.metrics import ConfusionMatrixDisplay\n"
   ]
  },
  {
   "cell_type": "code",
   "execution_count": 40,
   "id": "075dda74",
   "metadata": {},
   "outputs": [
    {
     "data": {
      "image/png": "[encoded data removed]",
      "text/plain": [
       "<Figure size 432x288 with 2 Axes>"
      ]
     },
     "metadata": {
      "needs_background": "light"
     },
     "output_type": "display_data"
    }
   ],
   "source": [
    "cm = confusion_matrix(y_test, y_pred, labels=mnb.classes_)\n",
    "disp = ConfusionMatrixDisplay(confusion_matrix=cm, display_labels=mnb.classes_)\n",
    "disp.plot()\n",
    "plt.show()"
   ]
  },
  {
   "cell_type": "code",
   "execution_count": 41,
   "id": "2347cd94",
   "metadata": {},
   "outputs": [
    {
     "name": "stdout",
     "output_type": "stream",
     "text": [
      "              precision    recall  f1-score   support\n",
      "\n",
      "           0       1.00      0.72      0.84       670\n",
      "           1       0.91      1.00      0.95      1912\n",
      "\n",
      "    accuracy                           0.93      2582\n",
      "   macro avg       0.96      0.86      0.90      2582\n",
      "weighted avg       0.93      0.93      0.92      2582\n",
      "\n"
     ]
    }
   ],
   "source": [
    "from sklearn.metrics import classification_report\n",
    "\n",
    "target_names = ['spam','ham']\n",
    "print(classification_report(y_test, y_pred))#, target_names=target_names))"
   ]
  },
  {
   "cell_type": "markdown",
   "id": "78cc6b8d",
   "metadata": {},
   "source": [
    "## Logistic Regression classifier.  "
   ]
  },
  {
   "cell_type": "code",
   "execution_count": 42,
   "id": "2b308f81",
   "metadata": {},
   "outputs": [
    {
     "name": "stdout",
     "output_type": "stream",
     "text": [
      "              precision    recall  f1-score   support\n",
      "\n",
      "           0       1.00      0.93      0.96       670\n",
      "           1       0.97      1.00      0.99      1912\n",
      "\n",
      "    accuracy                           0.98      2582\n",
      "   macro avg       0.99      0.96      0.97      2582\n",
      "weighted avg       0.98      0.98      0.98      2582\n",
      "\n"
     ]
    }
   ],
   "source": [
    "lr = LogisticRegression(penalty='l2', max_iter=100, C=1, random_state=42)\n",
    "lr.fit(tf_train, y_train)\n",
    "y_pred_lr = lr.predict(tf_test)\n",
    "print(classification_report(y_test, y_pred_lr))#, target_names=target_names))"
   ]
  },
  {
   "cell_type": "code",
   "execution_count": 43,
   "id": "49a0aa30",
   "metadata": {},
   "outputs": [
    {
     "data": {
      "image/png": "[encoded data removed]",
      "text/plain": [
       "<Figure size 432x288 with 2 Axes>"
      ]
     },
     "metadata": {
      "needs_background": "light"
     },
     "output_type": "display_data"
    }
   ],
   "source": [
    "cm = confusion_matrix(y_test, y_pred_lr, labels=lr.classes_)\n",
    "disp = ConfusionMatrixDisplay(confusion_matrix=cm, display_labels=lr.classes_)\n",
    "disp.plot()\n",
    "plt.show()"
   ]
  },
  {
   "cell_type": "markdown",
   "id": "aaf7c9ad",
   "metadata": {},
   "source": [
    "### Comment.  \n",
    "**Note: Ham is 1, Spam is 0**  \n",
    "- First, based on overall accuracy of > 90%, both naive bayes and logistic regression performed significantly better than a random guess because the dataset contains 65% ham emails. \n",
    "\n",
    "- What is the true cost of having a spam get to the inbox.  \n",
    "- The company cannot tolerate spam at all. Therefore we want a model that can maximizes spam classification.\n",
    "    - The fewer misclassified spam the better.\n",
    "- The best model is logistic regression. It was able to recall the minority class (spam) 93% of the time.  \n",
    "- The confusion matrix displays above, logistic regression model correctly classified 606 out of 670 spam emails.\n",
    "    - Much better than naive bayes that correctly classified 452 of the 670 spam emails while allowing the remainder to spam workers inboxes.\n",
    "    - These interpretations are also shown in the recall section of the classification report:\n",
    "        - Logistic regression = 93%, better than Naive Bayes = 67%.  \n",
    "        - The logistic regression recall was achieved without any significant trade off in precision which is really good.  \n",
    "\n",
    "\n",
    "**More**\n",
    "\n",
    "The F1 score which provides a balance between precision and recall shows 96% for the class of interest (i.e. spam) in logistic regression while it shows 81% for naive bayes. This further indicates that logistic regression is our best model. \n",
    "\n",
    "    \n"
   ]
  },
  {
   "cell_type": "code",
   "execution_count": 44,
   "id": "27a39ee1",
   "metadata": {},
   "outputs": [],
   "source": [
    "import matplotlib.pyplot as plt\n",
    "%matplotlib inline\n",
    "import warnings\n",
    "warnings.filterwarnings('ignore')"
   ]
  },
  {
   "cell_type": "markdown",
   "id": "0348a2b0",
   "metadata": {},
   "source": [
    "## Display important features the model used to make decision."
   ]
  },
  {
   "cell_type": "code",
   "execution_count": 45,
   "id": "149b1705",
   "metadata": {},
   "outputs": [
    {
     "data": {
      "image/png": "[encoded data removed]",
      "text/plain": [
       "<Figure size 864x864 with 1 Axes>"
      ]
     },
     "metadata": {},
     "output_type": "display_data"
    }
   ],
   "source": [
    "coeffs = lr.coef_.tolist()\n",
    "column_names=tfidf.get_feature_names()\n",
    "\n",
    "feature_weights_top = pd.Series(coeffs[0],index=column_names).sort_values(ascending=True).head(n =25)\n",
    "feature_weights_bot = pd.Series(coeffs[0],index=column_names).sort_values(ascending=False).head(n = 25)\n",
    "\n",
    "combined_feature_wts_high = [feature_weights_top, feature_weights_bot]\n",
    "combined_feature_wts_high = pd.concat(combined_feature_wts_high).sort_values(ascending=True)\n",
    "\n",
    "plt.style.use('ggplot')\n",
    "plt.figure(figsize=(12,12))\n",
    "combined_feature_wts_high.plot(kind='barh', color='blue')\n",
    "\n",
    "plt.ylabel(\"Words\", fontsize=16)\n",
    "plt.xlabel(\"Coefficients\", fontsize=16)\n",
    "plt.title('Feature Importance for Top 50 Words', fontsize=20)\n",
    "plt.show()"
   ]
  },
  {
   "cell_type": "markdown",
   "id": "e5095ce9",
   "metadata": {},
   "source": [
    "### About the coefficients.  \n",
    "\n",
    "'click', 'free', 'please', 'but', 'wrote' appear to be the the most influential words that determine whether an email gets classified as spam or ham."
   ]
  },
  {
   "cell_type": "markdown",
   "id": "632d69a4",
   "metadata": {},
   "source": [
    "# Clustering  "
   ]
  },
  {
   "cell_type": "markdown",
   "id": "3971b8ad",
   "metadata": {},
   "source": [
    "The objective of this clustering section is to cluster the email messages based on the tf-idf vectors fit to the messages.\n",
    "- Note that clustering is an unsupervised technique applied to dataset that do not have labels.  \n",
    "    - We have labels. \n",
    "- Note that kmeans will always converge to a different solution each time we run it.  \n",
    "    - But we will do our best to segment the dataset into clusters as permitted by KMeans++. \n",
    "- We run silhouette score to select the optimal number of clusters we need for this dataset.  "
   ]
  },
  {
   "cell_type": "code",
   "execution_count": 46,
   "id": "d2e838f2",
   "metadata": {},
   "outputs": [],
   "source": [
    "from collections import Counter\n",
    "from sklearn.cluster import KMeans\n",
    "import pandas as pd"
   ]
  },
  {
   "cell_type": "code",
   "execution_count": 47,
   "id": "07bc8abe",
   "metadata": {},
   "outputs": [],
   "source": [
    "from sklearn.metrics import silhouette_score\n"
   ]
  },
  {
   "cell_type": "markdown",
   "id": "61abceb0",
   "metadata": {},
   "source": [
    "Here is the source of the slihouette score snippet:\n",
    "\n",
    "https://refactored.ai/microcourse/notebook?path=content%2F07-Unsupervised_Models%2F02-K-means_Clustering%2Fadvanced-k-means.ipynb"
   ]
  },
  {
   "cell_type": "code",
   "execution_count": 48,
   "id": "174dae4a",
   "metadata": {},
   "outputs": [
    {
     "name": "stdout",
     "output_type": "stream",
     "text": [
      "For n_clusters=2, Silhouette Coefficient = 0.006682081703063595\n",
      "For n_clusters=3, Silhouette Coefficient = 0.009623302230370272\n",
      "For n_clusters=4, Silhouette Coefficient = 0.012240481229193563\n",
      "For n_clusters=5, Silhouette Coefficient = 0.01550524047072415\n",
      "For n_clusters=6, Silhouette Coefficient = 0.016000981180409924\n",
      "For n_clusters=7, Silhouette Coefficient = 0.01796009081161735\n",
      "For n_clusters=8, Silhouette Coefficient = 0.019954253063698846\n",
      "For n_clusters=9, Silhouette Coefficient = 0.023126378988234227\n",
      "For n_clusters=10, Silhouette Coefficient = 0.024494230382312826\n"
     ]
    },
    {
     "data": {
      "image/png": "[encoded data removed]",
      "text/plain": [
       "<Figure size 432x288 with 1 Axes>"
      ]
     },
     "metadata": {},
     "output_type": "display_data"
    }
   ],
   "source": [
    "k_clusters = []\n",
    "sil_coeffecients = []\n",
    "\n",
    "for n_cluster in range(2,11):\n",
    "    kmeans = KMeans(n_clusters = n_cluster).fit(tf_train)\n",
    "    label = kmeans.labels_\n",
    "    sil_coeff = silhouette_score(tf_train, label)\n",
    "    print(\"For n_clusters={}, Silhouette Coefficient = {}\".format(n_cluster, sil_coeff))\n",
    "    sil_coeffecients.append(sil_coeff)\n",
    "    k_clusters.append(n_cluster)\n",
    "\n",
    "plt.plot(k_clusters, sil_coeffecients)\n",
    "plt.ylabel('Silhouette Coefficient'), plt.xlabel('No. of Clusters')\n",
    "plt.show()"
   ]
  },
  {
   "cell_type": "markdown",
   "id": "1bc41720",
   "metadata": {},
   "source": [
    "- Based on the plot of silhouette score and k we will select k=2 for the number of clusters.    \n",
    "- Incidentally this agrees with the actual number of label for the emails (i.e. Spam or Ham).  "
   ]
  },
  {
   "cell_type": "code",
   "execution_count": 49,
   "id": "14536b90",
   "metadata": {},
   "outputs": [
    {
     "data": {
      "text/plain": [
       "Counter({1: 5066, 0: 958})"
      ]
     },
     "execution_count": 49,
     "metadata": {},
     "output_type": "execute_result"
    }
   ],
   "source": [
    "NUM_CLUSTERS = 2\n",
    "km = KMeans(n_clusters=NUM_CLUSTERS, max_iter=10000, n_init=50, random_state=42).fit(tf_train)\n",
    "Counter(km.labels_)"
   ]
  },
  {
   "cell_type": "code",
   "execution_count": 50,
   "id": "27423c66",
   "metadata": {},
   "outputs": [],
   "source": [
    "df_train = pd.DataFrame({'email':train, 'target':y_train})\n"
   ]
  },
  {
   "cell_type": "code",
   "execution_count": 51,
   "id": "281d031a",
   "metadata": {},
   "outputs": [],
   "source": [
    "df_train['kmeans_cluster'] = km.labels_ #Add the labels to the train dataset\n",
    "\n",
    "#Group the messages by their cluster numbers and sort them\n",
    "email_clusters = (df_train[['email', 'kmeans_cluster', 'target']].sort_values(by=['kmeans_cluster', 'target'],\n",
    "                                                                            ascending=False).groupby('kmeans_cluster').head(20))\n",
    "email_clusters = email_clusters.copy(deep=True)"
   ]
  },
  {
   "cell_type": "markdown",
   "id": "0fb6f803",
   "metadata": {},
   "source": [
    "### Visualize the content of the clusters.  \n",
    "- To ensure that the in-cluster assignments make contextual sense to us.\n",
    "- Here we loop through the list of clusters.\n",
    "    - Then we create a dataframe to store the key features in each cluster along with their respective messages"
   ]
  },
  {
   "cell_type": "code",
   "execution_count": 52,
   "id": "74d517ca",
   "metadata": {},
   "outputs": [],
   "source": [
    "feature_names = tfidf.get_feature_names()\n",
    "topn_features = 15 #top 15 features for each centroid\n",
    "ordered_centroids = km.cluster_centers_.argsort()[:, ::-1]"
   ]
  },
  {
   "cell_type": "code",
   "execution_count": 53,
   "id": "b842727c",
   "metadata": {},
   "outputs": [],
   "source": [
    "cluster_lbl = []\n",
    "key_features_ = []\n",
    "in_cluster_msgs = []\n",
    "for cluster_num in range(NUM_CLUSTERS):\n",
    "    key_features = [feature_names[index] for index in ordered_centroids[cluster_num, :topn_features]]\n",
    "    email_msgs = email_clusters[email_clusters['kmeans_cluster'] ==cluster_num]['email'].values.tolist()\n",
    "    cluster_lbl.append(cluster_num+1)\n",
    "    key_features_.append(key_features)\n",
    "    in_cluster_msgs.append(email_msgs)\n",
    "cluster_df = pd.DataFrame({'cluster_label':cluster_lbl, 'key_features':key_features_, 'in_cluster_msg':in_cluster_msgs})\n",
    "\n",
    "    "
   ]
  },
  {
   "cell_type": "markdown",
   "id": "d15492f3",
   "metadata": {},
   "source": [
    "Here is the dataframe to view what emails were grouped into respect clusters."
   ]
  },
  {
   "cell_type": "code",
   "execution_count": 54,
   "id": "e87e3d6d",
   "metadata": {},
   "outputs": [
    {
     "data": {
      "text/html": [
       "<div>\n",
       "<style scoped>\n",
       "    .dataframe tbody tr th:only-of-type {\n",
       "        vertical-align: middle;\n",
       "    }\n",
       "\n",
       "    .dataframe tbody tr th {\n",
       "        vertical-align: top;\n",
       "    }\n",
       "\n",
       "    .dataframe thead th {\n",
       "        text-align: right;\n",
       "    }\n",
       "</style>\n",
       "<table border=\"1\" class=\"dataframe\">\n",
       "  <thead>\n",
       "    <tr style=\"text-align: right;\">\n",
       "      <th></th>\n",
       "      <th>cluster_label</th>\n",
       "      <th>key_features</th>\n",
       "      <th>in_cluster_msg</th>\n",
       "    </tr>\n",
       "  </thead>\n",
       "  <tbody>\n",
       "    <tr>\n",
       "      <th>0</th>\n",
       "      <td>1</td>\n",
       "      <td>[rpm, net, lists, rpm list, list, spamassassin...</td>\n",
       "      <td>[number 1 isp france third isp europe wanadoo ...</td>\n",
       "    </tr>\n",
       "    <tr>\n",
       "      <th>1</th>\n",
       "      <td>2</td>\n",
       "      <td>[com, http, linux, http www, www, ie, not, lin...</td>\n",
       "      <td>[xander blakley quotes russian joke terrific b...</td>\n",
       "    </tr>\n",
       "  </tbody>\n",
       "</table>\n",
       "</div>"
      ],
      "text/plain": [
       "   cluster_label                                       key_features  \\\n",
       "0              1  [rpm, net, lists, rpm list, list, spamassassin...   \n",
       "1              2  [com, http, linux, http www, www, ie, not, lin...   \n",
       "\n",
       "                                      in_cluster_msg  \n",
       "0  [number 1 isp france third isp europe wanadoo ...  \n",
       "1  [xander blakley quotes russian joke terrific b...  "
      ]
     },
     "execution_count": 54,
     "metadata": {},
     "output_type": "execute_result"
    }
   ],
   "source": [
    "cluster_df"
   ]
  },
  {
   "cell_type": "markdown",
   "id": "4233ab34",
   "metadata": {},
   "source": [
    "### Clustering fit-predict.  "
   ]
  },
  {
   "cell_type": "code",
   "execution_count": 55,
   "id": "b6b60215",
   "metadata": {},
   "outputs": [],
   "source": [
    "model_km = KMeans(n_clusters = 2, tol=0.0001,max_iter=300)\n",
    "cluster_lbl = model_km.fit(tf_train,y_train)\n"
   ]
  },
  {
   "cell_type": "code",
   "execution_count": 56,
   "id": "b08163f2",
   "metadata": {},
   "outputs": [
    {
     "data": {
      "text/plain": [
       "(array([KMeans(n_clusters=2)], dtype=object), array([1], dtype=int64))"
      ]
     },
     "execution_count": 56,
     "metadata": {},
     "output_type": "execute_result"
    }
   ],
   "source": [
    "labels, lbl_counts = np.unique(cluster_lbl, return_counts=True)\n",
    "labels, lbl_counts"
   ]
  },
  {
   "cell_type": "markdown",
   "id": "588a8273",
   "metadata": {},
   "source": [
    "There are 4970 email messages in cluster 0 and 1054 messages in cluster 1 for this iteration."
   ]
  },
  {
   "cell_type": "markdown",
   "id": "d5455e42",
   "metadata": {},
   "source": [
    "## Affinity Propagation.  \n",
    "Adapted from Text Analytics: Dipanjan 2019. Page 508.\n",
    "- While I am well aware of using the Silhouette score to select the optimal number of clusters, \n",
    "    - in this case I prefer to use the Affinity Propagation as an alternative.\n",
    "- Affinity propagation constructs clusters freely without suggesting number of clusters to it. \n",
    "    - It uses the structure in the dataset and creates clusters instances by iterativel 'passing messages' between pair of instances until convergence is achieved. "
   ]
  },
  {
   "cell_type": "code",
   "execution_count": 57,
   "id": "a2082ae8",
   "metadata": {},
   "outputs": [],
   "source": [
    "from sklearn.cluster import AffinityPropagation"
   ]
  },
  {
   "cell_type": "code",
   "execution_count": 58,
   "id": "4c2f55a5",
   "metadata": {},
   "outputs": [
    {
     "data": {
      "text/plain": [
       "[(-1, 6024)]"
      ]
     },
     "execution_count": 58,
     "metadata": {},
     "output_type": "execute_result"
    }
   ],
   "source": [
    "aff_prop = AffinityPropagation(max_iter=1500)\n",
    "aff_prop.fit(tf_train)\n",
    "cluster_count = Counter(aff_prop.labels_)\n",
    "cluster_count.most_common(5)"
   ]
  },
  {
   "cell_type": "markdown",
   "id": "ff71aafc",
   "metadata": {},
   "source": [
    "### Visualize \n",
    "\n",
    "- The affinity propagation segments the entire dataset into pseudo clusters that are analogous to the result of k-means. \n",
    "    - The segments/clusters can be numerous we just have to select the most important number of clusters we want.  \n",
    "- Like we did for the k means, let us see the actual content of the clusters.  \n",
    "    - Here we loop through the list of selected number of clusters/segment.  \n",
    "        - Then we create a dataframe to store the key features in each cluster along with their respective messages.  "
   ]
  },
  {
   "cell_type": "code",
   "execution_count": 59,
   "id": "ca54eb83",
   "metadata": {},
   "outputs": [],
   "source": [
    "df_train['aff_prop_cluster'] = aff_prop.labels_\n",
    "select_clusters = [item[0] for item in cluster_count.most_common(5)]\n",
    "df_train_ap = df_train[df_train['aff_prop_cluster'].isin(select_clusters)]\n",
    "email_clusters_ap = (df_train_ap[['email', 'aff_prop_cluster', 'target']].sort_values(by=['aff_prop_cluster', 'target'],\n",
    "                                                                                      ascending=False).groupby('aff_prop_cluster').head(20))"
   ]
  },
  {
   "cell_type": "code",
   "execution_count": 60,
   "id": "5e577ab1",
   "metadata": {},
   "outputs": [],
   "source": [
    "email_clusters_ap = email_clusters_ap.copy(deep=True)"
   ]
  },
  {
   "cell_type": "code",
   "execution_count": 61,
   "id": "b2f883c6",
   "metadata": {},
   "outputs": [
    {
     "data": {
      "text/html": [
       "<div>\n",
       "<style scoped>\n",
       "    .dataframe tbody tr th:only-of-type {\n",
       "        vertical-align: middle;\n",
       "    }\n",
       "\n",
       "    .dataframe tbody tr th {\n",
       "        vertical-align: top;\n",
       "    }\n",
       "\n",
       "    .dataframe thead th {\n",
       "        text-align: right;\n",
       "    }\n",
       "</style>\n",
       "<table border=\"1\" class=\"dataframe\">\n",
       "  <thead>\n",
       "    <tr style=\"text-align: right;\">\n",
       "      <th></th>\n",
       "      <th>ap_cluster_label</th>\n",
       "      <th>in_cluster_msg</th>\n",
       "    </tr>\n",
       "  </thead>\n",
       "  <tbody>\n",
       "    <tr>\n",
       "      <th>0</th>\n",
       "      <td>1</td>\n",
       "      <td>[xander blakley quotes russian joke terrific b...</td>\n",
       "    </tr>\n",
       "  </tbody>\n",
       "</table>\n",
       "</div>"
      ],
      "text/plain": [
       "   ap_cluster_label                                     in_cluster_msg\n",
       "0                 1  [xander blakley quotes russian joke terrific b..."
      ]
     },
     "execution_count": 61,
     "metadata": {},
     "output_type": "execute_result"
    }
   ],
   "source": [
    "ap_cluster_lbl = []\n",
    "in_cluster_msgs_ap = []\n",
    "\n",
    "for cluster_num in range(len(select_clusters)):\n",
    "    email_ = email_clusters_ap[email_clusters_ap['aff_prop_cluster'] == select_clusters[cluster_num]]['email'].values.tolist()\n",
    "    ap_cluster_lbl.append(cluster_num+1)    \n",
    "    in_cluster_msgs_ap.append(email_msgs)\n",
    "ap_cluster_df = pd.DataFrame({'ap_cluster_label':ap_cluster_lbl, 'in_cluster_msg':in_cluster_msgs_ap})\n",
    "ap_cluster_df\n"
   ]
  },
  {
   "cell_type": "markdown",
   "id": "a3b21b93",
   "metadata": {},
   "source": [
    "### Comment on Affinity Propagation.  \n",
    "-I don't think the affinity propagation converged to a good solution for this dataset. \n",
    "- It only gave us one cluster.  \n",
    "- So I reverted to using the Silhouette score.  "
   ]
  },
  {
   "cell_type": "code",
   "execution_count": null,
   "id": "70bbe039",
   "metadata": {},
   "outputs": [],
   "source": []
  },
  {
   "cell_type": "code",
   "execution_count": null,
   "id": "a242f18a",
   "metadata": {},
   "outputs": [],
   "source": []
  },
  {
   "cell_type": "code",
   "execution_count": null,
   "id": "4fd167ef",
   "metadata": {},
   "outputs": [],
   "source": []
  },
  {
   "cell_type": "code",
   "execution_count": null,
   "id": "ce3674ef",
   "metadata": {},
   "outputs": [],
   "source": []
  },
  {
   "cell_type": "code",
   "execution_count": null,
   "id": "ceccd4b8",
   "metadata": {},
   "outputs": [],
   "source": []
  },
  {
   "cell_type": "code",
   "execution_count": null,
   "id": "9cfb5713",
   "metadata": {},
   "outputs": [],
   "source": []
  },
  {
   "cell_type": "code",
   "execution_count": null,
   "id": "d1dc4aa3",
   "metadata": {},
   "outputs": [],
   "source": []
  },
  {
   "cell_type": "code",
   "execution_count": null,
   "id": "4c66f1fe",
   "metadata": {},
   "outputs": [],
   "source": []
  },
  {
   "cell_type": "code",
   "execution_count": null,
   "id": "e96ba401",
   "metadata": {},
   "outputs": [],
   "source": []
  },
  {
   "cell_type": "code",
   "execution_count": null,
   "id": "554f2326",
   "metadata": {},
   "outputs": [],
   "source": []
  },
  {
   "cell_type": "code",
   "execution_count": null,
   "id": "077d3135",
   "metadata": {},
   "outputs": [],
   "source": []
  },
  {
   "cell_type": "code",
   "execution_count": null,
   "id": "22dc02be",
   "metadata": {},
   "outputs": [],
   "source": []
  }
 ],
 "metadata": {
  "kernelspec": {
   "display_name": "Python 3",
   "language": "python",
   "name": "python3"
  },
  "language_info": {
   "codemirror_mode": {
    "name": "ipython",
    "version": 3
   },
   "file_extension": ".py",
   "mimetype": "text/x-python",
   "name": "python",
   "nbconvert_exporter": "python",
   "pygments_lexer": "ipython3",
   "version": "3.7.10"
  }
 },
 "nbformat": 4,
 "nbformat_minor": 5
}
