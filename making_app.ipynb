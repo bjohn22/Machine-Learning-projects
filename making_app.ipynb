{
 "cells": [
  {
   "cell_type": "code",
   "execution_count": 1,
   "id": "10907b2a",
   "metadata": {
    "scrolled": true
   },
   "outputs": [
    {
     "name": "stderr",
     "output_type": "stream",
     "text": [
      "[INFO   ] [Logger      ] Record log in C:\\Users\\olani\\.kivy\\logs\\kivy_21-06-22_8.txt\n",
      "[INFO   ] [Kivy        ] v2.0.0\n",
      "[INFO   ] [Kivy        ] Installed at \"C:\\Users\\olani\\anaconda3\\envs\\Machine Learning 1\\lib\\site-packages\\kivy\\__init__.py\"\n",
      "[INFO   ] [Python      ] v3.7.10 (default, Feb 26 2021, 13:06:18) [MSC v.1916 64 bit (AMD64)]\n",
      "[INFO   ] [Python      ] Interpreter at \"C:\\Users\\olani\\anaconda3\\envs\\Machine Learning 1\\python.exe\"\n",
      "[INFO   ] [Factory     ] 186 symbols loaded\n",
      "[INFO   ] [Image       ] Providers: img_tex, img_dds, img_sdl2, img_pil (img_ffpyplayer ignored)\n",
      "[INFO   ] [Text        ] Provider: sdl2\n",
      "[INFO   ] [Window      ] Provider: sdl2\n",
      "[INFO   ] [GL          ] Using the \"OpenGL\" graphics system\n",
      "[INFO   ] [GL          ] GLEW initialization succeeded\n",
      "[INFO   ] [GL          ] Backend used <glew>\n",
      "[INFO   ] [GL          ] OpenGL version <b'4.5.0 - Build 23.20.16.4973'>\n",
      "[INFO   ] [GL          ] OpenGL vendor <b'Intel'>\n",
      "[INFO   ] [GL          ] OpenGL renderer <b'Intel(R) HD Graphics 620'>\n",
      "[INFO   ] [GL          ] OpenGL parsed version: 4, 5\n",
      "[INFO   ] [GL          ] Shading version <b'4.50 - Build 23.20.16.4973'>\n",
      "[INFO   ] [GL          ] Texture max size <16384>\n",
      "[INFO   ] [GL          ] Texture max units <32>\n",
      "[INFO   ] [Window      ] auto add sdl2 input provider\n",
      "[INFO   ] [Window      ] virtual keyboard not allowed, single mode, not docked\n",
      "[INFO   ] [Base        ] Start application main loop\n",
      "[INFO   ] [GL          ] NPOT texture support is available\n",
      "[INFO   ] [Base        ] Leaving application in progress...\n"
     ]
    }
   ],
   "source": [
    "from kivy.app import App\n",
    "from kivy.uix.scatter import Scatter\n",
    "from kivy.uix.label import Label\n",
    "from kivy.uix.floatlayout import FloatLayout"
   ]
  },
  {
   "cell_type": "markdown",
   "id": "510c2358",
   "metadata": {},
   "source": [
    "**source**\n",
    "https://medium.com/edureka/kivy-tutorial-9a0f02fe53f5"
   ]
  },
  {
   "cell_type": "code",
   "execution_count": null,
   "id": "fa32f50a",
   "metadata": {},
   "outputs": [],
   "source": [
    "class SimpleApp(App):\n",
    "    def build(self):\n",
    "        f = FloatLayout()\n",
    "        s = Scatter()\n",
    "        l = Label(text=\"Edureka!\", font_size=150)\n",
    " \n",
    "        f.add_widget(s)\n",
    "        s.add_widget(l)\n",
    "        return f\n",
    " \n",
    " \n",
    "#if __name__ == \"__main__\":\n",
    "#    SimpleApp().run()"
   ]
  },
  {
   "cell_type": "code",
   "execution_count": null,
   "id": "9cec5ee6",
   "metadata": {},
   "outputs": [],
   "source": [
    "import os"
   ]
  },
  {
   "cell_type": "code",
   "execution_count": null,
   "id": "e2ca6d12",
   "metadata": {},
   "outputs": [],
   "source": [
    "# change working directory\n",
    "os.chdir(r\"C:\\Users\\olani\\OneDrive\\Documents\\Data Science\\SMU-Data Science\\Machine Learning 1\\Lab 2_Classification\")\n",
    "#\"C:\\Users\\olani\\OneDrive\\Documents\\Data Science\\SMU-Data Science\\Machine Learning 1\\Olist_Dataset\"\n",
    "\n",
    "# get current working directory\n",
    "os.getcwd()"
   ]
  },
  {
   "cell_type": "code",
   "execution_count": null,
   "id": "76d681b6",
   "metadata": {},
   "outputs": [],
   "source": [
    "from kivy.app import App\n",
    "from kivy.uix.image import Image \n",
    " \n",
    "class SimpleApp(App):\n",
    "    def build(self):\n",
    "        img = Image(source=\"Mini_Barrera_Ehly_Olanipekun_Cheruvathoor (1).png\")\n",
    "        return img\n",
    " \n",
    " \n",
    "if __name__ == \"__main__\":\n",
    "    #reset()\n",
    "    SimpleApp().run()"
   ]
  },
  {
   "cell_type": "code",
   "execution_count": null,
   "id": "71bb87d2",
   "metadata": {},
   "outputs": [],
   "source": [
    "from kivy.app import App\n",
    "from kivy.uix.slider import Slider \n",
    " \n",
    "class SimpleApp(App):\n",
    "    def build(self):\n",
    "        slide = Slider(orientation='vertical', value_track=True, value_track_color=(1,0,0,1))\n",
    "        return slide\n",
    " \n",
    " \n",
    "if __name__ == \"__main__\":\n",
    "    SimpleApp().run()"
   ]
  },
  {
   "cell_type": "markdown",
   "id": "1167a5c4",
   "metadata": {},
   "source": [
    "**Making a box**\n",
    "- source:\n",
    "    - https://pythontic.com/app/kivy/box%20layout"
   ]
  },
  {
   "cell_type": "code",
   "execution_count": null,
   "id": "2d5330dd",
   "metadata": {},
   "outputs": [],
   "source": [
    "# imports\n",
    "\n",
    "from kivy.app import App\n",
    "\n",
    "from kivy.uix.boxlayout import BoxLayout\n",
    "\n",
    "from kivy.uix.button import Button\n",
    "from kivy.uix.image import Image\n",
    "\n",
    " \n",
    "\n",
    "# Boxlayout is the App class\n",
    "\n",
    "class BoxLayoutDemo(App):\n",
    "\n",
    "    def build(self):\n",
    "\n",
    "        superBox        = BoxLayout(orientation='vertical')\n",
    "\n",
    "   \n",
    "\n",
    "        horizontalBox   = BoxLayout(orientation='horizontal')\n",
    "\n",
    "        button1         = Button(text=\"One\")\n",
    "\n",
    "        button2         = Button(text=\"Two\")\n",
    "        \n",
    "        img = Image(source=\"Mini_Barrera_Ehly_Olanipekun_Cheruvathoor (1).png\")\n",
    "        \n",
    "        button3         = Button(img)\n",
    "\n",
    " \n",
    "\n",
    "        horizontalBox.add_widget(button1)\n",
    "\n",
    "        horizontalBox.add_widget(button2)\n",
    "        #horizontalBox.add_widget(img)\n",
    "        horizontalBox.add_widget(button3)\n",
    "\n",
    "   \n",
    "\n",
    "        #verticalBox     = BoxLayout(orientation='vertical')\n",
    "\n",
    "        #button3         = Button(text=\"Three\")\n",
    "\n",
    "        #button4         = Button(text=\"Four\")\n",
    "\n",
    " \n",
    "\n",
    "        #verticalBox.add_widget(button3)\n",
    "\n",
    "        #verticalBox.add_widget(button4)\n",
    "\n",
    "   \n",
    "\n",
    "        superBox.add_widget(horizontalBox)\n",
    "\n",
    "        superBox.add_widget(verticalBox)\n",
    "\n",
    "   \n",
    "\n",
    "        return superBox\n",
    "\n",
    "   \n",
    "\n",
    " \n",
    "\n",
    "# Instantiate and run the kivy app\n",
    "\n",
    "if __name__ == '__main__':\n",
    "\n",
    "    BoxLayoutDemo().run()"
   ]
  },
  {
   "cell_type": "code",
   "execution_count": 2,
   "id": "172e6891",
   "metadata": {},
   "outputs": [],
   "source": [
    "from kivy.app import App\n",
    "from kivy.lang import Builder\n",
    "\n",
    "kv = '''\n",
    "#:import Factory kivy.factory.Factory\n",
    "\n",
    "FloatLayout:\n",
    "    Button:\n",
    "        dropdown: Factory.CustomDropDown()\n",
    "        id: btn\n",
    "        pos_hint: {'center_x':0.5, 'center_y':0.5}\n",
    "        size_hint: None, None\n",
    "        size: 100, 44\n",
    "        text: 'hello'\n",
    "        on_release: self.dropdown.open(self)\n",
    "\n",
    "<CustomDropDown@DropDown>:\n",
    "    id: dropdown\n",
    "    size_hint_y: None\n",
    "    on_select: app.root.ids.btn.text = \"{}\".format(args[1])\n",
    "    Button:\n",
    "        text: 'btn 1'\n",
    "        on_release: dropdown.select(self.text)\n",
    "        size_hint_y: None\n",
    "        height: 44\n",
    "\n",
    "    Button:\n",
    "        text: 'btn 2'\n",
    "        on_release: dropdown.select(self.text)\n",
    "        size_hint_y: None\n",
    "        height: 44\n",
    "\n",
    "    Button:\n",
    "        text: 'btn 3'\n",
    "        on_release: dropdown.select(self.text)\n",
    "        size_hint_y: None\n",
    "        height: 44\n",
    "'''\n",
    "\n",
    "\n",
    "class TestesApp(App):\n",
    "    def build(self):\n",
    "        return Builder.load_string(kv)\n",
    "\n",
    "\n",
    "if __name__ == \"__main__\":\n",
    "    TestesApp().run()"
   ]
  },
  {
   "cell_type": "code",
   "execution_count": null,
   "id": "6e10825d",
   "metadata": {},
   "outputs": [],
   "source": []
  },
  {
   "cell_type": "code",
   "execution_count": null,
   "id": "2547d1fb",
   "metadata": {},
   "outputs": [],
   "source": []
  },
  {
   "cell_type": "code",
   "execution_count": null,
   "id": "7377fbeb",
   "metadata": {},
   "outputs": [],
   "source": []
  },
  {
   "cell_type": "code",
   "execution_count": null,
   "id": "47eeeaf9",
   "metadata": {},
   "outputs": [],
   "source": []
  }
 ],
 "metadata": {
  "kernelspec": {
   "display_name": "Python 3",
   "language": "python",
   "name": "python3"
  },
  "language_info": {
   "codemirror_mode": {
    "name": "ipython",
    "version": 3
   },
   "file_extension": ".py",
   "mimetype": "text/x-python",
   "name": "python",
   "nbconvert_exporter": "python",
   "pygments_lexer": "ipython3",
   "version": "3.7.10"
  }
 },
 "nbformat": 4,
 "nbformat_minor": 5
}
