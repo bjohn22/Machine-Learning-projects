{
 "cells": [
  {
   "cell_type": "markdown",
   "metadata": {},
   "source": [
    "# Author: Babatunde John Olanipekun.  \n",
    "## About the dataset and approach.  \n",
    "- This is a classification task.\n",
    "- This is an internet traffic dataset for a website.  \n",
    "- It contains the attributes of device entities that were screened ('allow', 'deny', 'drop') for access.\n",
    "\n",
    "### The approach will be to utilize numpy, base python and sklearn to preprocess and fit the dataset."
   ]
  },
  {
   "cell_type": "markdown",
   "metadata": {},
   "source": [
    "ip address"
   ]
  },
  {
   "cell_type": "code",
   "execution_count": 64,
   "metadata": {},
   "outputs": [],
   "source": [
    "import os"
   ]
  },
  {
   "cell_type": "code",
   "execution_count": 65,
   "metadata": {},
   "outputs": [
    {
     "data": {
      "text/plain": [
       "'c:\\\\Users\\\\olani\\\\OneDrive\\\\Documents\\\\Data Science\\\\SMU-Data Science\\\\Machine Learning 2'"
      ]
     },
     "execution_count": 65,
     "metadata": {},
     "output_type": "execute_result"
    }
   ],
   "source": [
    "#Know where we are\n",
    "os.getcwd()"
   ]
  },
  {
   "cell_type": "code",
   "execution_count": 66,
   "metadata": {},
   "outputs": [],
   "source": [
    "import pandas as pd\n",
    "import numpy as np\n",
    "import copy\n"
   ]
  },
  {
   "cell_type": "code",
   "execution_count": 67,
   "metadata": {},
   "outputs": [
    {
     "name": "stdout",
     "output_type": "stream",
     "text": [
      "['Source Port', 'Destination Port', 'NAT Source Port', 'NAT Destination Port', 'Action', 'Bytes', 'Bytes Sent', 'Bytes Received', 'Packets', 'Elapsed Time (sec)', 'pkts_sent', 'pkts_received']\n",
      "[['57222', '53', '54587', '53', 'allow', '177', '94', '83', '2', '30', '1', '1'], ['56258', '3389', '56258', '3389', 'allow', '4768', '1600', '3168', '19', '17', '10', '9'], ['6881', '50321', '43265', '50321', 'allow', '238', '118', '120', '2', '1199', '1', '1']]\n"
     ]
    }
   ],
   "source": [
    "#We read in the .csv dataset\n",
    "import csv\n",
    "rows = []\n",
    "csv.field_size_limit(100)\n",
    "with open(\"log2.csv\", 'r') as file:\n",
    "    csvreader = csv.reader(file)\n",
    "    header = next(csvreader)\n",
    "    for row in csvreader:\n",
    "        rows.append(row)\n",
    "print(header)\n",
    "print(rows[:3])"
   ]
  },
  {
   "cell_type": "code",
   "execution_count": 68,
   "metadata": {},
   "outputs": [
    {
     "data": {
      "text/plain": [
       "array([['Source Port', 'Destination Port', 'NAT Source Port', ...,\n",
       "        'Elapsed Time (sec)', 'pkts_sent', 'pkts_received'],\n",
       "       ['57222', '53', '54587', ..., '30', '1', '1'],\n",
       "       ['56258', '3389', '56258', ..., '17', '10', '9'],\n",
       "       ...,\n",
       "       ['54871', '445', '0', ..., '0', '1', '0'],\n",
       "       ['54870', '445', '0', ..., '0', '1', '0'],\n",
       "       ['54867', '445', '0', ..., '0', '1', '0']], dtype='<U20')"
      ]
     },
     "execution_count": 68,
     "metadata": {},
     "output_type": "execute_result"
    }
   ],
   "source": [
    "#work in numpy now. Change the list of lists to numpy arrays and stack them\n",
    "#For better information we take a look at the columns and the values.\n",
    "ip_df = np.vstack((header, rows))\n",
    "ip_df"
   ]
  },
  {
   "cell_type": "code",
   "execution_count": 69,
   "metadata": {},
   "outputs": [],
   "source": [
    "import copy\n",
    "# good practice to have a checkpoint. \n",
    "ip_df_ = copy.deepcopy(ip_df)"
   ]
  },
  {
   "cell_type": "code",
   "execution_count": 70,
   "metadata": {},
   "outputs": [
    {
     "data": {
      "text/plain": [
       "({'allow': 37640, 'deny': 14987, 'drop': 12851, 'reset-both': 54}, 65532)"
      ]
     },
     "execution_count": 70,
     "metadata": {},
     "output_type": "execute_result"
    }
   ],
   "source": [
    "\n",
    "values, counts = np.unique(ip_df_[1:,4], return_counts=True)\n",
    "cat_count=dict(zip(values, counts))\n",
    "cat_count, sum(list(cat_count.values()))"
   ]
  },
  {
   "cell_type": "code",
   "execution_count": 71,
   "metadata": {},
   "outputs": [],
   "source": [
    "# We get the actual datasets by excluding the column labels.\n",
    "ip_df_values = ip_df_[1:]"
   ]
  },
  {
   "cell_type": "markdown",
   "metadata": {},
   "source": [
    "### Minimally represented class\n",
    "- There is only 54 instances for class 'reset-both' so we can drop it as it will likely not add much to the decision of classifiers. Remove rows having 'reset-both' from the NumPy arrays.  \n"
   ]
  },
  {
   "cell_type": "code",
   "execution_count": 72,
   "metadata": {},
   "outputs": [
    {
     "name": "stdout",
     "output_type": "stream",
     "text": [
      "[['57222' '53' '54587' ... '30' '1' '1']\n",
      " ['56258' '3389' '56258' ... '17' '10' '9']\n",
      " ['6881' '50321' '43265' ... '1199' '1' '1']\n",
      " ...\n",
      " ['54871' '445' '0' ... '0' '1' '0']\n",
      " ['54870' '445' '0' ... '0' '1' '0']\n",
      " ['54867' '445' '0' ... '0' '1' '0']]\n"
     ]
    }
   ],
   "source": [
    "ip_df_values_new = np.delete(ip_df_values, np.where((ip_df_values == 'reset-both'))[0], axis=0)\n",
    "print(ip_df_values_new)"
   ]
  },
  {
   "cell_type": "markdown",
   "metadata": {},
   "source": [
    "# Sanity check.\n",
    "- remember we have 54 values for 'reset-both' that we want to remove due to its sparsity in the entire dataset.  \n",
    "- So I will check difference in the number of rows between before and after deletion to ensure accuracy."
   ]
  },
  {
   "cell_type": "code",
   "execution_count": 73,
   "metadata": {},
   "outputs": [
    {
     "data": {
      "text/plain": [
       "((65478, 12), (65532, 12), 54)"
      ]
     },
     "execution_count": 73,
     "metadata": {},
     "output_type": "execute_result"
    }
   ],
   "source": [
    "ip_df_values_new.shape, ip_df_values.shape, ip_df_values.shape[0]-ip_df_values_new.shape[0]"
   ]
  },
  {
   "cell_type": "code",
   "execution_count": 74,
   "metadata": {},
   "outputs": [
    {
     "data": {
      "text/plain": [
       "array(['Source Port', 'Destination Port', 'NAT Source Port',\n",
       "       'NAT Destination Port', 'Action', 'Bytes', 'Bytes Sent',\n",
       "       'Bytes Received', 'Packets', 'Elapsed Time (sec)', 'pkts_sent',\n",
       "       'pkts_received'], dtype='<U20')"
      ]
     },
     "execution_count": 74,
     "metadata": {},
     "output_type": "execute_result"
    }
   ],
   "source": [
    "columns = ip_df_[0]\n",
    "columns"
   ]
  },
  {
   "cell_type": "markdown",
   "metadata": {},
   "source": [
    "## Train-test split.  \n",
    "- Here we split the dataset.   \n",
    "- We will stratify our dataset based on the proportion of the classes.  "
   ]
  },
  {
   "cell_type": "code",
   "execution_count": 75,
   "metadata": {},
   "outputs": [],
   "source": [
    "## Train test split.\n",
    "\n",
    "from sklearn.model_selection import train_test_split\n",
    "train, test, y_train, y_test = train_test_split(ip_df_values_new, ip_df_values_new[:,4],\n",
    " test_size=0.3,\n",
    "  random_state=42, stratify = ip_df_values_new[:,4])"
   ]
  },
  {
   "cell_type": "code",
   "execution_count": 76,
   "metadata": {},
   "outputs": [
    {
     "name": "stdout",
     "output_type": "stream",
     "text": [
      "(45834, 12) (19644, 12) (45834,) (19644,)\n"
     ]
    }
   ],
   "source": [
    "print(train.shape, test.shape, y_train.shape, y_test.shape)"
   ]
  },
  {
   "cell_type": "code",
   "execution_count": 77,
   "metadata": {},
   "outputs": [
    {
     "name": "stdout",
     "output_type": "stream",
     "text": [
      "[['58399' '56205' '0' '0' 'deny' '66' '66' '0' '1' '0' '1' '0']\n",
      " ['39735' '53' '51086' '53' 'allow' '223' '78' '145' '2' '30' '1' '1']]\n"
     ]
    }
   ],
   "source": [
    "## See a snapshot of the dataset.  \n",
    "print(train[:2])"
   ]
  },
  {
   "cell_type": "markdown",
   "metadata": {},
   "source": [
    "## Assess imbalance in our dataset.  \n",
    "Note that the proportions are the same in all the subsets of the dataset.  "
   ]
  },
  {
   "cell_type": "code",
   "execution_count": 78,
   "metadata": {},
   "outputs": [
    {
     "name": "stdout",
     "output_type": "stream",
     "text": [
      "['allow' 'deny' 'drop'] [26348 10491  8995]\n"
     ]
    }
   ],
   "source": [
    "values, counts = np.unique(y_train, return_counts=True)\n",
    "print(values, counts)"
   ]
  },
  {
   "cell_type": "markdown",
   "metadata": {},
   "source": [
    "## There is significant imbalance.  \n",
    "The 'allow' class has the highest porportion but 'deny' and 'drop' classes have similar but much lower proportions as we can see below."
   ]
  },
  {
   "cell_type": "code",
   "execution_count": 79,
   "metadata": {},
   "outputs": [
    {
     "data": {
      "text/plain": [
       "array([0.57485709, 0.22889122, 0.19625169])"
      ]
     },
     "execution_count": 79,
     "metadata": {},
     "output_type": "execute_result"
    }
   ],
   "source": [
    "count_series = np.array(counts)/len(y_train)\n",
    "count_series"
   ]
  },
  {
   "cell_type": "code",
   "execution_count": 80,
   "metadata": {},
   "outputs": [],
   "source": [
    "#remove target column from train and test sets.\n",
    "train = np.delete(arr=train, obj=4, axis=1)\n",
    "test = np.delete(arr=test, obj=4, axis=1)"
   ]
  },
  {
   "cell_type": "code",
   "execution_count": 81,
   "metadata": {},
   "outputs": [
    {
     "name": "stdout",
     "output_type": "stream",
     "text": [
      "(45834, 11) (19644, 11) (45834,) (19644,)\n"
     ]
    }
   ],
   "source": [
    "print(train.shape, test.shape, y_train.shape, y_test.shape)"
   ]
  },
  {
   "cell_type": "code",
   "execution_count": 82,
   "metadata": {},
   "outputs": [
    {
     "name": "stdout",
     "output_type": "stream",
     "text": [
      "[['58399' '56205' '0' '0' '66' '66' '0' '1' '0' '1' '0']\n",
      " ['39735' '53' '51086' '53' '223' '78' '145' '2' '30' '1' '1']]\n"
     ]
    }
   ],
   "source": [
    "print(train[:2])"
   ]
  },
  {
   "cell_type": "markdown",
   "metadata": {},
   "source": [
    "# Feature engineering.  \n",
    "- One hot encoding was performed. BUT:  \n",
    "    - During predict, there was an error because the number of categorical levels in the test was not equal to that of the train set.\n",
    "- So I reverted to label encoder that does not create sparse matrix."
   ]
  },
  {
   "cell_type": "code",
   "execution_count": 83,
   "metadata": {},
   "outputs": [],
   "source": [
    "from sklearn.compose import ColumnTransformer, make_column_selector\n",
    "from sklearn.pipeline import make_pipeline\n",
    "from sklearn.impute import SimpleImputer\n",
    "from sklearn.preprocessing import StandardScaler\n",
    "from sklearn.pipeline import Pipeline\n",
    "from sklearn.preprocessing import OneHotEncoder"
   ]
  },
  {
   "cell_type": "markdown",
   "metadata": {},
   "source": [
    "## The numerical pipeline involves scaling all the numeric variables.  \n",
    "- The categorical atributes (i.e those that end in * port) will be encoded using catboost encoding.  \n",
    "    - Catboost encoding encodes in place and does not create separate column for categorical attributes.\n",
    "- Categorical attribute (target) will be encoded using label encoding.  \n"
   ]
  },
  {
   "cell_type": "code",
   "execution_count": 84,
   "metadata": {},
   "outputs": [],
   "source": [
    "#Standard default scaler for numeric variables.\n",
    "numeric_pipeline = StandardScaler() \n",
    "# One-Hot Encoder for low cardinal variables\n",
    "oh_pipeline = OneHotEncoder(handle_unknown='ignore')\n"
   ]
  },
  {
   "cell_type": "code",
   "execution_count": 85,
   "metadata": {},
   "outputs": [
    {
     "name": "stdout",
     "output_type": "stream",
     "text": [
      "column names are: \n",
      " ['Source Port' 'Destination Port' 'NAT Source Port' 'NAT Destination Port'\n",
      " 'Action' 'Bytes' 'Bytes Sent' 'Bytes Received' 'Packets'\n",
      " 'Elapsed Time (sec)' 'pkts_sent' 'pkts_received']\n"
     ]
    }
   ],
   "source": [
    "print('column names are: \\n', columns)"
   ]
  },
  {
   "cell_type": "code",
   "execution_count": 86,
   "metadata": {},
   "outputs": [],
   "source": [
    "fullpipeline_simple = ColumnTransformer(transformers=\\\n",
    "                                       [('numeric_pipeline', numeric_pipeline, train[:,4:]), #if it contains '*port' then it s categorical\n",
    "                                        ('oh_pipeline', oh_pipeline, train[:,0:4])\n",
    "                                         ],                                       \n",
    "                                       remainder='drop')"
   ]
  },
  {
   "cell_type": "code",
   "execution_count": 87,
   "metadata": {},
   "outputs": [],
   "source": [
    "from sklearn.compose import make_column_transformer\n",
    "from sklearn.pipeline import make_pipeline"
   ]
  },
  {
   "cell_type": "code",
   "execution_count": 88,
   "metadata": {},
   "outputs": [],
   "source": [
    "num_pipeline = make_column_transformer(\n",
    "    (numeric_pipeline, train[:,4:])\n",
    "    )\n",
    "\n",
    "\n"
   ]
  },
  {
   "cell_type": "code",
   "execution_count": 89,
   "metadata": {},
   "outputs": [],
   "source": [
    "cat_pipeline = make_column_transformer(\n",
    "    (oh_pipeline, train[:,0:4])\n",
    "    )"
   ]
  },
  {
   "cell_type": "markdown",
   "metadata": {},
   "source": [
    "**We fit the training set's target variable to the on labelencoder() and use that to transform the traininig set and the test set.**    "
   ]
  },
  {
   "cell_type": "code",
   "execution_count": 90,
   "metadata": {},
   "outputs": [],
   "source": [
    "# Encode for string labels\n",
    "from sklearn import preprocessing\n",
    "label_encoder = preprocessing.LabelEncoder().fit(y_train)\n",
    "y_train_ = label_encoder.transform(y_train)\n",
    "y_test_ =label_encoder.transform(y_test)"
   ]
  },
  {
   "cell_type": "code",
   "execution_count": 91,
   "metadata": {},
   "outputs": [
    {
     "data": {
      "text/plain": [
       "LabelEncoder()"
      ]
     },
     "execution_count": 91,
     "metadata": {},
     "output_type": "execute_result"
    }
   ],
   "source": [
    "label_encoder"
   ]
  },
  {
   "cell_type": "code",
   "execution_count": 92,
   "metadata": {},
   "outputs": [],
   "source": [
    "#import category_encoders as ce\n"
   ]
  },
  {
   "cell_type": "markdown",
   "metadata": {},
   "source": []
  },
  {
   "cell_type": "markdown",
   "metadata": {},
   "source": [
    "## This displays the respective numerical coes assigned to each categorical level"
   ]
  },
  {
   "cell_type": "code",
   "execution_count": 93,
   "metadata": {},
   "outputs": [
    {
     "data": {
      "text/plain": [
       "(array(['allow', 'deny', 'drop'], dtype='<U20'),\n",
       " array(['deny', 'allow', 'allow', ..., 'allow', 'allow', 'deny'],\n",
       "       dtype='<U20'))"
      ]
     },
     "execution_count": 93,
     "metadata": {},
     "output_type": "execute_result"
    }
   ],
   "source": [
    "label_encoder.classes_, label_encoder.inverse_transform(y_train_)"
   ]
  },
  {
   "cell_type": "code",
   "execution_count": 94,
   "metadata": {},
   "outputs": [
    {
     "data": {
      "text/plain": [
       "{1: 'deny', 0: 'allow', 2: 'drop'}"
      ]
     },
     "execution_count": 94,
     "metadata": {},
     "output_type": "execute_result"
    }
   ],
   "source": [
    "cat_labels=dict(zip(y_train_, label_encoder.inverse_transform(y_train_)))\n",
    "cat_labels"
   ]
  },
  {
   "cell_type": "code",
   "execution_count": 95,
   "metadata": {},
   "outputs": [
    {
     "name": "stdout",
     "output_type": "stream",
     "text": [
      "(45834, 4) (45834, 7)\n"
     ]
    }
   ],
   "source": [
    "import category_encoders as ce\n",
    "ohe = OneHotEncoder()\n",
    "cat_enc = ce.CatBoostEncoder()\n",
    "#array_hot_encoded = ohe.fit_transform(train[:,0:4])\n",
    "array_scaler = StandardScaler().fit_transform(train[:,4:])\n",
    "array_hot_encoded = cat_enc.fit_transform(train[:,0:4], y_train_\n",
    ")\n",
    "print(array_hot_encoded.shape, array_scaler.shape)"
   ]
  },
  {
   "cell_type": "code",
   "execution_count": 96,
   "metadata": {},
   "outputs": [
    {
     "data": {
      "text/plain": [
       "(pandas.core.frame.DataFrame, numpy.ndarray)"
      ]
     },
     "execution_count": 96,
     "metadata": {},
     "output_type": "execute_result"
    }
   ],
   "source": [
    "type(array_hot_encoded), type(array_scaler)"
   ]
  },
  {
   "cell_type": "code",
   "execution_count": 97,
   "metadata": {},
   "outputs": [
    {
     "data": {
      "text/plain": [
       "(45834, 11)"
      ]
     },
     "execution_count": 97,
     "metadata": {},
     "output_type": "execute_result"
    }
   ],
   "source": [
    "from scipy.sparse import hstack\n",
    "x_train=np.hstack((array_hot_encoded,array_scaler))\n",
    "x_train.shape"
   ]
  },
  {
   "cell_type": "markdown",
   "metadata": {},
   "source": [
    "## Sanity check"
   ]
  },
  {
   "cell_type": "code",
   "execution_count": 98,
   "metadata": {},
   "outputs": [
    {
     "name": "stdout",
     "output_type": "stream",
     "text": [
      "final df col shape: 11 must equal to sum of before 11\n"
     ]
    }
   ],
   "source": [
    "print('final df col shape: {} must equal to sum of before {}'.format(x_train.shape[1], array_hot_encoded.shape[1]+array_scaler.shape[1])) "
   ]
  },
  {
   "cell_type": "markdown",
   "metadata": {},
   "source": [
    "## Column transformation for test set"
   ]
  },
  {
   "cell_type": "code",
   "execution_count": 99,
   "metadata": {},
   "outputs": [
    {
     "name": "stdout",
     "output_type": "stream",
     "text": [
      "(19644, 4) (19644, 7)\n"
     ]
    }
   ],
   "source": [
    "ohe = OneHotEncoder()\n",
    "#array_hot_encoded_test = ohe.fit_transform(test[:,0:4])\n",
    "array_hot_encoded_test = cat_enc.transform(test[:,0:4])\n",
    "array_scaler_test = StandardScaler().fit_transform(test[:,4:])\n",
    "print(array_hot_encoded_test.shape, array_scaler_test.shape)"
   ]
  },
  {
   "cell_type": "code",
   "execution_count": 100,
   "metadata": {},
   "outputs": [
    {
     "data": {
      "text/plain": [
       "(19644, 11)"
      ]
     },
     "execution_count": 100,
     "metadata": {},
     "output_type": "execute_result"
    }
   ],
   "source": [
    "#from scipy.sparse import hstack\n",
    "x_test=np.hstack((array_hot_encoded_test,array_scaler_test))\n",
    "x_test.shape"
   ]
  },
  {
   "cell_type": "code",
   "execution_count": 101,
   "metadata": {},
   "outputs": [
    {
     "name": "stdout",
     "output_type": "stream",
     "text": [
      "final df col shape: 11 must equal to sum of before 11\n"
     ]
    }
   ],
   "source": [
    "print('final df col shape: {} must equal to sum of before {}'.format(x_test.shape[1], array_hot_encoded_test.shape[1]+array_scaler_test.shape[1])) "
   ]
  },
  {
   "cell_type": "markdown",
   "metadata": {},
   "source": [
    "# Classifier.  \n",
    "We have been advsed that linear Support Vector Machine, SVM can be trained using the Stochastic Gradient Descent classifier, SGD, if we set the 'loss' paramter to 'hinge'.  \n",
    "- And that SGD is much faster than SVM.  \n",
    "- Therefore we will adopt SGD as our classifier but also comapre speed of SVM classifier.  "
   ]
  },
  {
   "cell_type": "code",
   "execution_count": 102,
   "metadata": {},
   "outputs": [],
   "source": [
    "from sklearn.model_selection import RandomizedSearchCV, GridSearchCV"
   ]
  },
  {
   "cell_type": "code",
   "execution_count": 117,
   "metadata": {},
   "outputs": [
    {
     "name": "stdout",
     "output_type": "stream",
     "text": [
      "Wall time: 1e+03 µs\n"
     ]
    }
   ],
   "source": [
    "%%time\n",
    "from sklearn.linear_model import SGDClassifier\n",
    "from sklearn.metrics import make_scorer\n",
    "import sklearn.metrics\n"
   ]
  },
  {
   "cell_type": "code",
   "execution_count": 104,
   "metadata": {},
   "outputs": [],
   "source": [
    "#clf = a_clf.set_params(**params)"
   ]
  },
  {
   "cell_type": "markdown",
   "metadata": {},
   "source": [
    "## Grid search.  \n",
    "- We will like to perform a parameter search for the best combination.  \n",
    "- SVM class algorithms can be quite slow. \n",
    "- We will add the SVM as part of the estimators to use by SGD and see what the metrics suggest for us.  "
   ]
  },
  {
   "cell_type": "code",
   "execution_count": 105,
   "metadata": {},
   "outputs": [],
   "source": [
    "#####Start with a gridesearch parameter space##############\n",
    "params = { 'loss': ['hinge', 'log'],\n",
    "    'alpha': [0.00001, 0.0001, 0.0009, 0.001],\n",
    "    'max_iter': [500, 1500, 2000],\n",
    "    'early_stopping': [True, False],    \n",
    "    'eta0':[0.0, 0.002],\n",
    "    'penalty':['l2', 'l1']   \n",
    "                  \n",
    "                 }\n",
    "\n",
    "##Scoring parameters for multiclass\n",
    "\n",
    "scoring = {'accuracy': make_scorer(sklearn.metrics.accuracy_score),\n",
    "           'precision': make_scorer(sklearn.metrics.precision_score, average = 'macro'),\n",
    "           'recall': make_scorer(sklearn.metrics.recall_score, average = 'macro'),\n",
    "           'f1_macro': make_scorer(sklearn.metrics.f1_score, average = 'macro'),\n",
    "           'f1_weighted': make_scorer(sklearn.metrics.f1_score, average = 'weighted')\n",
    "           }\n",
    "\n",
    "\n",
    "##We use the sci-kit learning api for the parameter search but final fit will be done with learning API\n",
    "#xgb_clf = xgb.XGBClassifier(seed=123)\n",
    "clf1 = GridSearchCV(estimator=clf,\n",
    "                    param_grid=params,\n",
    "                    scoring='f1_weighted',\n",
    "                    #n_iter=25,\n",
    "                    verbose=3,\n",
    "                    cv=5\n",
    "                    )\n",
    "\n"
   ]
  },
  {
   "cell_type": "code",
   "execution_count": 106,
   "metadata": {},
   "outputs": [
    {
     "name": "stdout",
     "output_type": "stream",
     "text": [
      "Fitting 5 folds for each of 192 candidates, totalling 960 fits\n",
      "[CV 1/5] END alpha=1e-05, early_stopping=True, eta0=0.0, loss=hinge, max_iter=500, penalty=l2; total time=   0.2s\n",
      "[CV 2/5] END alpha=1e-05, early_stopping=True, eta0=0.0, loss=hinge, max_iter=500, penalty=l2; total time=   0.2s\n",
      "[CV 3/5] END alpha=1e-05, early_stopping=True, eta0=0.0, loss=hinge, max_iter=500, penalty=l2; total time=   0.2s\n",
      "[CV 4/5] END alpha=1e-05, early_stopping=True, eta0=0.0, loss=hinge, max_iter=500, penalty=l2; total time=   0.1s\n",
      "[CV 5/5] END alpha=1e-05, early_stopping=True, eta0=0.0, loss=hinge, max_iter=500, penalty=l2; total time=   0.2s\n",
      "[CV 1/5] END alpha=1e-05, early_stopping=True, eta0=0.0, loss=hinge, max_iter=500, penalty=l1; total time=   0.2s\n",
      "[CV 2/5] END alpha=1e-05, early_stopping=True, eta0=0.0, loss=hinge, max_iter=500, penalty=l1; total time=   0.2s\n",
      "[CV 3/5] END alpha=1e-05, early_stopping=True, eta0=0.0, loss=hinge, max_iter=500, penalty=l1; total time=   0.2s\n",
      "[CV 4/5] END alpha=1e-05, early_stopping=True, eta0=0.0, loss=hinge, max_iter=500, penalty=l1; total time=   0.2s\n",
      "[CV 5/5] END alpha=1e-05, early_stopping=True, eta0=0.0, loss=hinge, max_iter=500, penalty=l1; total time=   0.2s\n",
      "[CV 1/5] END alpha=1e-05, early_stopping=True, eta0=0.0, loss=hinge, max_iter=1500, penalty=l2; total time=   0.1s\n",
      "[CV 2/5] END alpha=1e-05, early_stopping=True, eta0=0.0, loss=hinge, max_iter=1500, penalty=l2; total time=   0.1s\n",
      "[CV 3/5] END alpha=1e-05, early_stopping=True, eta0=0.0, loss=hinge, max_iter=1500, penalty=l2; total time=   0.1s\n",
      "[CV 4/5] END alpha=1e-05, early_stopping=True, eta0=0.0, loss=hinge, max_iter=1500, penalty=l2; total time=   0.1s\n",
      "[CV 5/5] END alpha=1e-05, early_stopping=True, eta0=0.0, loss=hinge, max_iter=1500, penalty=l2; total time=   0.2s\n",
      "[CV 1/5] END alpha=1e-05, early_stopping=True, eta0=0.0, loss=hinge, max_iter=1500, penalty=l1; total time=   0.2s\n",
      "[CV 2/5] END alpha=1e-05, early_stopping=True, eta0=0.0, loss=hinge, max_iter=1500, penalty=l1; total time=   0.3s\n",
      "[CV 3/5] END alpha=1e-05, early_stopping=True, eta0=0.0, loss=hinge, max_iter=1500, penalty=l1; total time=   0.2s\n",
      "[CV 4/5] END alpha=1e-05, early_stopping=True, eta0=0.0, loss=hinge, max_iter=1500, penalty=l1; total time=   0.2s\n",
      "[CV 5/5] END alpha=1e-05, early_stopping=True, eta0=0.0, loss=hinge, max_iter=1500, penalty=l1; total time=   0.1s\n",
      "[CV 1/5] END alpha=1e-05, early_stopping=True, eta0=0.0, loss=hinge, max_iter=2000, penalty=l2; total time=   0.1s\n",
      "[CV 2/5] END alpha=1e-05, early_stopping=True, eta0=0.0, loss=hinge, max_iter=2000, penalty=l2; total time=   0.1s\n",
      "[CV 3/5] END alpha=1e-05, early_stopping=True, eta0=0.0, loss=hinge, max_iter=2000, penalty=l2; total time=   0.1s\n",
      "[CV 4/5] END alpha=1e-05, early_stopping=True, eta0=0.0, loss=hinge, max_iter=2000, penalty=l2; total time=   0.1s\n",
      "[CV 5/5] END alpha=1e-05, early_stopping=True, eta0=0.0, loss=hinge, max_iter=2000, penalty=l2; total time=   0.2s\n",
      "[CV 1/5] END alpha=1e-05, early_stopping=True, eta0=0.0, loss=hinge, max_iter=2000, penalty=l1; total time=   0.2s\n",
      "[CV 2/5] END alpha=1e-05, early_stopping=True, eta0=0.0, loss=hinge, max_iter=2000, penalty=l1; total time=   0.2s\n",
      "[CV 3/5] END alpha=1e-05, early_stopping=True, eta0=0.0, loss=hinge, max_iter=2000, penalty=l1; total time=   0.2s\n",
      "[CV 4/5] END alpha=1e-05, early_stopping=True, eta0=0.0, loss=hinge, max_iter=2000, penalty=l1; total time=   0.2s\n",
      "[CV 5/5] END alpha=1e-05, early_stopping=True, eta0=0.0, loss=hinge, max_iter=2000, penalty=l1; total time=   0.2s\n",
      "[CV 1/5] END alpha=1e-05, early_stopping=True, eta0=0.0, loss=log, max_iter=500, penalty=l2; total time=   0.2s\n",
      "[CV 2/5] END alpha=1e-05, early_stopping=True, eta0=0.0, loss=log, max_iter=500, penalty=l2; total time=   0.2s\n",
      "[CV 3/5] END alpha=1e-05, early_stopping=True, eta0=0.0, loss=log, max_iter=500, penalty=l2; total time=   0.2s\n",
      "[CV 4/5] END alpha=1e-05, early_stopping=True, eta0=0.0, loss=log, max_iter=500, penalty=l2; total time=   0.2s\n",
      "[CV 5/5] END alpha=1e-05, early_stopping=True, eta0=0.0, loss=log, max_iter=500, penalty=l2; total time=   0.2s\n",
      "[CV 1/5] END alpha=1e-05, early_stopping=True, eta0=0.0, loss=log, max_iter=500, penalty=l1; total time=   0.2s\n",
      "[CV 2/5] END alpha=1e-05, early_stopping=True, eta0=0.0, loss=log, max_iter=500, penalty=l1; total time=   0.2s\n",
      "[CV 3/5] END alpha=1e-05, early_stopping=True, eta0=0.0, loss=log, max_iter=500, penalty=l1; total time=   0.2s\n",
      "[CV 4/5] END alpha=1e-05, early_stopping=True, eta0=0.0, loss=log, max_iter=500, penalty=l1; total time=   0.2s\n",
      "[CV 5/5] END alpha=1e-05, early_stopping=True, eta0=0.0, loss=log, max_iter=500, penalty=l1; total time=   0.2s\n",
      "[CV 1/5] END alpha=1e-05, early_stopping=True, eta0=0.0, loss=log, max_iter=1500, penalty=l2; total time=   0.2s\n",
      "[CV 2/5] END alpha=1e-05, early_stopping=True, eta0=0.0, loss=log, max_iter=1500, penalty=l2; total time=   0.2s\n",
      "[CV 3/5] END alpha=1e-05, early_stopping=True, eta0=0.0, loss=log, max_iter=1500, penalty=l2; total time=   0.2s\n",
      "[CV 4/5] END alpha=1e-05, early_stopping=True, eta0=0.0, loss=log, max_iter=1500, penalty=l2; total time=   0.2s\n",
      "[CV 5/5] END alpha=1e-05, early_stopping=True, eta0=0.0, loss=log, max_iter=1500, penalty=l2; total time=   0.2s\n",
      "[CV 1/5] END alpha=1e-05, early_stopping=True, eta0=0.0, loss=log, max_iter=1500, penalty=l1; total time=   0.2s\n",
      "[CV 2/5] END alpha=1e-05, early_stopping=True, eta0=0.0, loss=log, max_iter=1500, penalty=l1; total time=   0.2s\n",
      "[CV 3/5] END alpha=1e-05, early_stopping=True, eta0=0.0, loss=log, max_iter=1500, penalty=l1; total time=   0.2s\n",
      "[CV 4/5] END alpha=1e-05, early_stopping=True, eta0=0.0, loss=log, max_iter=1500, penalty=l1; total time=   0.2s\n",
      "[CV 5/5] END alpha=1e-05, early_stopping=True, eta0=0.0, loss=log, max_iter=1500, penalty=l1; total time=   0.2s\n",
      "[CV 1/5] END alpha=1e-05, early_stopping=True, eta0=0.0, loss=log, max_iter=2000, penalty=l2; total time=   0.2s\n",
      "[CV 2/5] END alpha=1e-05, early_stopping=True, eta0=0.0, loss=log, max_iter=2000, penalty=l2; total time=   0.2s\n",
      "[CV 3/5] END alpha=1e-05, early_stopping=True, eta0=0.0, loss=log, max_iter=2000, penalty=l2; total time=   0.2s\n",
      "[CV 4/5] END alpha=1e-05, early_stopping=True, eta0=0.0, loss=log, max_iter=2000, penalty=l2; total time=   0.2s\n",
      "[CV 5/5] END alpha=1e-05, early_stopping=True, eta0=0.0, loss=log, max_iter=2000, penalty=l2; total time=   0.2s\n",
      "[CV 1/5] END alpha=1e-05, early_stopping=True, eta0=0.0, loss=log, max_iter=2000, penalty=l1; total time=   0.3s\n",
      "[CV 2/5] END alpha=1e-05, early_stopping=True, eta0=0.0, loss=log, max_iter=2000, penalty=l1; total time=   0.3s\n",
      "[CV 3/5] END alpha=1e-05, early_stopping=True, eta0=0.0, loss=log, max_iter=2000, penalty=l1; total time=   0.2s\n",
      "[CV 4/5] END alpha=1e-05, early_stopping=True, eta0=0.0, loss=log, max_iter=2000, penalty=l1; total time=   0.3s\n",
      "[CV 5/5] END alpha=1e-05, early_stopping=True, eta0=0.0, loss=log, max_iter=2000, penalty=l1; total time=   0.3s\n",
      "[CV 1/5] END alpha=1e-05, early_stopping=True, eta0=0.002, loss=hinge, max_iter=500, penalty=l2; total time=   0.2s\n",
      "[CV 2/5] END alpha=1e-05, early_stopping=True, eta0=0.002, loss=hinge, max_iter=500, penalty=l2; total time=   0.2s\n",
      "[CV 3/5] END alpha=1e-05, early_stopping=True, eta0=0.002, loss=hinge, max_iter=500, penalty=l2; total time=   0.1s\n",
      "[CV 4/5] END alpha=1e-05, early_stopping=True, eta0=0.002, loss=hinge, max_iter=500, penalty=l2; total time=   0.2s\n",
      "[CV 5/5] END alpha=1e-05, early_stopping=True, eta0=0.002, loss=hinge, max_iter=500, penalty=l2; total time=   0.2s\n",
      "[CV 1/5] END alpha=1e-05, early_stopping=True, eta0=0.002, loss=hinge, max_iter=500, penalty=l1; total time=   0.2s\n",
      "[CV 2/5] END alpha=1e-05, early_stopping=True, eta0=0.002, loss=hinge, max_iter=500, penalty=l1; total time=   0.2s\n",
      "[CV 3/5] END alpha=1e-05, early_stopping=True, eta0=0.002, loss=hinge, max_iter=500, penalty=l1; total time=   0.2s\n",
      "[CV 4/5] END alpha=1e-05, early_stopping=True, eta0=0.002, loss=hinge, max_iter=500, penalty=l1; total time=   0.2s\n",
      "[CV 5/5] END alpha=1e-05, early_stopping=True, eta0=0.002, loss=hinge, max_iter=500, penalty=l1; total time=   0.2s\n",
      "[CV 1/5] END alpha=1e-05, early_stopping=True, eta0=0.002, loss=hinge, max_iter=1500, penalty=l2; total time=   0.1s\n",
      "[CV 2/5] END alpha=1e-05, early_stopping=True, eta0=0.002, loss=hinge, max_iter=1500, penalty=l2; total time=   0.2s\n",
      "[CV 3/5] END alpha=1e-05, early_stopping=True, eta0=0.002, loss=hinge, max_iter=1500, penalty=l2; total time=   0.2s\n",
      "[CV 4/5] END alpha=1e-05, early_stopping=True, eta0=0.002, loss=hinge, max_iter=1500, penalty=l2; total time=   0.2s\n",
      "[CV 5/5] END alpha=1e-05, early_stopping=True, eta0=0.002, loss=hinge, max_iter=1500, penalty=l2; total time=   0.2s\n",
      "[CV 1/5] END alpha=1e-05, early_stopping=True, eta0=0.002, loss=hinge, max_iter=1500, penalty=l1; total time=   0.2s\n",
      "[CV 2/5] END alpha=1e-05, early_stopping=True, eta0=0.002, loss=hinge, max_iter=1500, penalty=l1; total time=   0.2s\n",
      "[CV 3/5] END alpha=1e-05, early_stopping=True, eta0=0.002, loss=hinge, max_iter=1500, penalty=l1; total time=   0.2s\n",
      "[CV 4/5] END alpha=1e-05, early_stopping=True, eta0=0.002, loss=hinge, max_iter=1500, penalty=l1; total time=   0.2s\n",
      "[CV 5/5] END alpha=1e-05, early_stopping=True, eta0=0.002, loss=hinge, max_iter=1500, penalty=l1; total time=   0.2s\n",
      "[CV 1/5] END alpha=1e-05, early_stopping=True, eta0=0.002, loss=hinge, max_iter=2000, penalty=l2; total time=   0.2s\n",
      "[CV 2/5] END alpha=1e-05, early_stopping=True, eta0=0.002, loss=hinge, max_iter=2000, penalty=l2; total time=   0.2s\n",
      "[CV 3/5] END alpha=1e-05, early_stopping=True, eta0=0.002, loss=hinge, max_iter=2000, penalty=l2; total time=   0.1s\n",
      "[CV 4/5] END alpha=1e-05, early_stopping=True, eta0=0.002, loss=hinge, max_iter=2000, penalty=l2; total time=   0.2s\n",
      "[CV 5/5] END alpha=1e-05, early_stopping=True, eta0=0.002, loss=hinge, max_iter=2000, penalty=l2; total time=   0.1s\n",
      "[CV 1/5] END alpha=1e-05, early_stopping=True, eta0=0.002, loss=hinge, max_iter=2000, penalty=l1; total time=   0.2s\n",
      "[CV 2/5] END alpha=1e-05, early_stopping=True, eta0=0.002, loss=hinge, max_iter=2000, penalty=l1; total time=   0.2s\n",
      "[CV 3/5] END alpha=1e-05, early_stopping=True, eta0=0.002, loss=hinge, max_iter=2000, penalty=l1; total time=   0.2s\n",
      "[CV 4/5] END alpha=1e-05, early_stopping=True, eta0=0.002, loss=hinge, max_iter=2000, penalty=l1; total time=   0.3s\n",
      "[CV 5/5] END alpha=1e-05, early_stopping=True, eta0=0.002, loss=hinge, max_iter=2000, penalty=l1; total time=   0.2s\n",
      "[CV 1/5] END alpha=1e-05, early_stopping=True, eta0=0.002, loss=log, max_iter=500, penalty=l2; total time=   0.3s\n",
      "[CV 2/5] END alpha=1e-05, early_stopping=True, eta0=0.002, loss=log, max_iter=500, penalty=l2; total time=   0.2s\n",
      "[CV 3/5] END alpha=1e-05, early_stopping=True, eta0=0.002, loss=log, max_iter=500, penalty=l2; total time=   0.2s\n",
      "[CV 4/5] END alpha=1e-05, early_stopping=True, eta0=0.002, loss=log, max_iter=500, penalty=l2; total time=   0.2s\n",
      "[CV 5/5] END alpha=1e-05, early_stopping=True, eta0=0.002, loss=log, max_iter=500, penalty=l2; total time=   0.3s\n",
      "[CV 1/5] END alpha=1e-05, early_stopping=True, eta0=0.002, loss=log, max_iter=500, penalty=l1; total time=   0.3s\n",
      "[CV 2/5] END alpha=1e-05, early_stopping=True, eta0=0.002, loss=log, max_iter=500, penalty=l1; total time=   0.2s\n",
      "[CV 3/5] END alpha=1e-05, early_stopping=True, eta0=0.002, loss=log, max_iter=500, penalty=l1; total time=   0.2s\n",
      "[CV 4/5] END alpha=1e-05, early_stopping=True, eta0=0.002, loss=log, max_iter=500, penalty=l1; total time=   0.2s\n",
      "[CV 5/5] END alpha=1e-05, early_stopping=True, eta0=0.002, loss=log, max_iter=500, penalty=l1; total time=   0.4s\n",
      "[CV 1/5] END alpha=1e-05, early_stopping=True, eta0=0.002, loss=log, max_iter=1500, penalty=l2; total time=   0.3s\n",
      "[CV 2/5] END alpha=1e-05, early_stopping=True, eta0=0.002, loss=log, max_iter=1500, penalty=l2; total time=   0.4s\n",
      "[CV 3/5] END alpha=1e-05, early_stopping=True, eta0=0.002, loss=log, max_iter=1500, penalty=l2; total time=   0.4s\n",
      "[CV 4/5] END alpha=1e-05, early_stopping=True, eta0=0.002, loss=log, max_iter=1500, penalty=l2; total time=   0.3s\n",
      "[CV 5/5] END alpha=1e-05, early_stopping=True, eta0=0.002, loss=log, max_iter=1500, penalty=l2; total time=   0.3s\n",
      "[CV 1/5] END alpha=1e-05, early_stopping=True, eta0=0.002, loss=log, max_iter=1500, penalty=l1; total time=   0.6s\n",
      "[CV 2/5] END alpha=1e-05, early_stopping=True, eta0=0.002, loss=log, max_iter=1500, penalty=l1; total time=   0.4s\n",
      "[CV 3/5] END alpha=1e-05, early_stopping=True, eta0=0.002, loss=log, max_iter=1500, penalty=l1; total time=   0.5s\n",
      "[CV 4/5] END alpha=1e-05, early_stopping=True, eta0=0.002, loss=log, max_iter=1500, penalty=l1; total time=   0.3s\n",
      "[CV 5/5] END alpha=1e-05, early_stopping=True, eta0=0.002, loss=log, max_iter=1500, penalty=l1; total time=   0.5s\n",
      "[CV 1/5] END alpha=1e-05, early_stopping=True, eta0=0.002, loss=log, max_iter=2000, penalty=l2; total time=   0.4s\n",
      "[CV 2/5] END alpha=1e-05, early_stopping=True, eta0=0.002, loss=log, max_iter=2000, penalty=l2; total time=   0.3s\n",
      "[CV 3/5] END alpha=1e-05, early_stopping=True, eta0=0.002, loss=log, max_iter=2000, penalty=l2; total time=   0.3s\n",
      "[CV 4/5] END alpha=1e-05, early_stopping=True, eta0=0.002, loss=log, max_iter=2000, penalty=l2; total time=   0.2s\n",
      "[CV 5/5] END alpha=1e-05, early_stopping=True, eta0=0.002, loss=log, max_iter=2000, penalty=l2; total time=   0.3s\n",
      "[CV 1/5] END alpha=1e-05, early_stopping=True, eta0=0.002, loss=log, max_iter=2000, penalty=l1; total time=   0.4s\n",
      "[CV 2/5] END alpha=1e-05, early_stopping=True, eta0=0.002, loss=log, max_iter=2000, penalty=l1; total time=   0.3s\n",
      "[CV 3/5] END alpha=1e-05, early_stopping=True, eta0=0.002, loss=log, max_iter=2000, penalty=l1; total time=   0.3s\n",
      "[CV 4/5] END alpha=1e-05, early_stopping=True, eta0=0.002, loss=log, max_iter=2000, penalty=l1; total time=   0.3s\n",
      "[CV 5/5] END alpha=1e-05, early_stopping=True, eta0=0.002, loss=log, max_iter=2000, penalty=l1; total time=   0.4s\n",
      "[CV 1/5] END alpha=1e-05, early_stopping=False, eta0=0.0, loss=hinge, max_iter=500, penalty=l2; total time=   0.2s\n",
      "[CV 2/5] END alpha=1e-05, early_stopping=False, eta0=0.0, loss=hinge, max_iter=500, penalty=l2; total time=   0.1s\n",
      "[CV 3/5] END alpha=1e-05, early_stopping=False, eta0=0.0, loss=hinge, max_iter=500, penalty=l2; total time=   0.3s\n",
      "[CV 4/5] END alpha=1e-05, early_stopping=False, eta0=0.0, loss=hinge, max_iter=500, penalty=l2; total time=   0.3s\n",
      "[CV 5/5] END alpha=1e-05, early_stopping=False, eta0=0.0, loss=hinge, max_iter=500, penalty=l2; total time=   0.3s\n",
      "[CV 1/5] END alpha=1e-05, early_stopping=False, eta0=0.0, loss=hinge, max_iter=500, penalty=l1; total time=   0.3s\n",
      "[CV 2/5] END alpha=1e-05, early_stopping=False, eta0=0.0, loss=hinge, max_iter=500, penalty=l1; total time=   0.2s\n",
      "[CV 3/5] END alpha=1e-05, early_stopping=False, eta0=0.0, loss=hinge, max_iter=500, penalty=l1; total time=   0.2s\n",
      "[CV 4/5] END alpha=1e-05, early_stopping=False, eta0=0.0, loss=hinge, max_iter=500, penalty=l1; total time=   0.1s\n",
      "[CV 5/5] END alpha=1e-05, early_stopping=False, eta0=0.0, loss=hinge, max_iter=500, penalty=l1; total time=   0.3s\n",
      "[CV 1/5] END alpha=1e-05, early_stopping=False, eta0=0.0, loss=hinge, max_iter=1500, penalty=l2; total time=   0.2s\n",
      "[CV 2/5] END alpha=1e-05, early_stopping=False, eta0=0.0, loss=hinge, max_iter=1500, penalty=l2; total time=   0.3s\n",
      "[CV 3/5] END alpha=1e-05, early_stopping=False, eta0=0.0, loss=hinge, max_iter=1500, penalty=l2; total time=   0.2s\n",
      "[CV 4/5] END alpha=1e-05, early_stopping=False, eta0=0.0, loss=hinge, max_iter=1500, penalty=l2; total time=   0.2s\n",
      "[CV 5/5] END alpha=1e-05, early_stopping=False, eta0=0.0, loss=hinge, max_iter=1500, penalty=l2; total time=   0.2s\n",
      "[CV 1/5] END alpha=1e-05, early_stopping=False, eta0=0.0, loss=hinge, max_iter=1500, penalty=l1; total time=   0.3s\n",
      "[CV 2/5] END alpha=1e-05, early_stopping=False, eta0=0.0, loss=hinge, max_iter=1500, penalty=l1; total time=   0.4s\n",
      "[CV 3/5] END alpha=1e-05, early_stopping=False, eta0=0.0, loss=hinge, max_iter=1500, penalty=l1; total time=   0.3s\n",
      "[CV 4/5] END alpha=1e-05, early_stopping=False, eta0=0.0, loss=hinge, max_iter=1500, penalty=l1; total time=   0.4s\n",
      "[CV 5/5] END alpha=1e-05, early_stopping=False, eta0=0.0, loss=hinge, max_iter=1500, penalty=l1; total time=   0.2s\n",
      "[CV 1/5] END alpha=1e-05, early_stopping=False, eta0=0.0, loss=hinge, max_iter=2000, penalty=l2; total time=   0.2s\n",
      "[CV 2/5] END alpha=1e-05, early_stopping=False, eta0=0.0, loss=hinge, max_iter=2000, penalty=l2; total time=   0.1s\n",
      "[CV 3/5] END alpha=1e-05, early_stopping=False, eta0=0.0, loss=hinge, max_iter=2000, penalty=l2; total time=   0.2s\n",
      "[CV 4/5] END alpha=1e-05, early_stopping=False, eta0=0.0, loss=hinge, max_iter=2000, penalty=l2; total time=   0.2s\n",
      "[CV 5/5] END alpha=1e-05, early_stopping=False, eta0=0.0, loss=hinge, max_iter=2000, penalty=l2; total time=   0.2s\n",
      "[CV 1/5] END alpha=1e-05, early_stopping=False, eta0=0.0, loss=hinge, max_iter=2000, penalty=l1; total time=   0.2s\n",
      "[CV 2/5] END alpha=1e-05, early_stopping=False, eta0=0.0, loss=hinge, max_iter=2000, penalty=l1; total time=   0.2s\n",
      "[CV 3/5] END alpha=1e-05, early_stopping=False, eta0=0.0, loss=hinge, max_iter=2000, penalty=l1; total time=   0.2s\n",
      "[CV 4/5] END alpha=1e-05, early_stopping=False, eta0=0.0, loss=hinge, max_iter=2000, penalty=l1; total time=   0.2s\n",
      "[CV 5/5] END alpha=1e-05, early_stopping=False, eta0=0.0, loss=hinge, max_iter=2000, penalty=l1; total time=   0.2s\n",
      "[CV 1/5] END alpha=1e-05, early_stopping=False, eta0=0.0, loss=log, max_iter=500, penalty=l2; total time=   0.2s\n",
      "[CV 2/5] END alpha=1e-05, early_stopping=False, eta0=0.0, loss=log, max_iter=500, penalty=l2; total time=   0.2s\n",
      "[CV 3/5] END alpha=1e-05, early_stopping=False, eta0=0.0, loss=log, max_iter=500, penalty=l2; total time=   0.2s\n",
      "[CV 4/5] END alpha=1e-05, early_stopping=False, eta0=0.0, loss=log, max_iter=500, penalty=l2; total time=   0.2s\n",
      "[CV 5/5] END alpha=1e-05, early_stopping=False, eta0=0.0, loss=log, max_iter=500, penalty=l2; total time=   0.2s\n",
      "[CV 1/5] END alpha=1e-05, early_stopping=False, eta0=0.0, loss=log, max_iter=500, penalty=l1; total time=   0.2s\n",
      "[CV 2/5] END alpha=1e-05, early_stopping=False, eta0=0.0, loss=log, max_iter=500, penalty=l1; total time=   0.2s\n",
      "[CV 3/5] END alpha=1e-05, early_stopping=False, eta0=0.0, loss=log, max_iter=500, penalty=l1; total time=   0.2s\n",
      "[CV 4/5] END alpha=1e-05, early_stopping=False, eta0=0.0, loss=log, max_iter=500, penalty=l1; total time=   0.2s\n",
      "[CV 5/5] END alpha=1e-05, early_stopping=False, eta0=0.0, loss=log, max_iter=500, penalty=l1; total time=   0.2s\n",
      "[CV 1/5] END alpha=1e-05, early_stopping=False, eta0=0.0, loss=log, max_iter=1500, penalty=l2; total time=   0.2s\n",
      "[CV 2/5] END alpha=1e-05, early_stopping=False, eta0=0.0, loss=log, max_iter=1500, penalty=l2; total time=   0.2s\n",
      "[CV 3/5] END alpha=1e-05, early_stopping=False, eta0=0.0, loss=log, max_iter=1500, penalty=l2; total time=   0.2s\n",
      "[CV 4/5] END alpha=1e-05, early_stopping=False, eta0=0.0, loss=log, max_iter=1500, penalty=l2; total time=   0.1s\n",
      "[CV 5/5] END alpha=1e-05, early_stopping=False, eta0=0.0, loss=log, max_iter=1500, penalty=l2; total time=   0.2s\n",
      "[CV 1/5] END alpha=1e-05, early_stopping=False, eta0=0.0, loss=log, max_iter=1500, penalty=l1; total time=   0.2s\n",
      "[CV 2/5] END alpha=1e-05, early_stopping=False, eta0=0.0, loss=log, max_iter=1500, penalty=l1; total time=   0.2s\n",
      "[CV 3/5] END alpha=1e-05, early_stopping=False, eta0=0.0, loss=log, max_iter=1500, penalty=l1; total time=   0.2s\n",
      "[CV 4/5] END alpha=1e-05, early_stopping=False, eta0=0.0, loss=log, max_iter=1500, penalty=l1; total time=   0.2s\n",
      "[CV 5/5] END alpha=1e-05, early_stopping=False, eta0=0.0, loss=log, max_iter=1500, penalty=l1; total time=   0.2s\n",
      "[CV 1/5] END alpha=1e-05, early_stopping=False, eta0=0.0, loss=log, max_iter=2000, penalty=l2; total time=   0.2s\n",
      "[CV 2/5] END alpha=1e-05, early_stopping=False, eta0=0.0, loss=log, max_iter=2000, penalty=l2; total time=   0.2s\n",
      "[CV 3/5] END alpha=1e-05, early_stopping=False, eta0=0.0, loss=log, max_iter=2000, penalty=l2; total time=   0.2s\n",
      "[CV 4/5] END alpha=1e-05, early_stopping=False, eta0=0.0, loss=log, max_iter=2000, penalty=l2; total time=   0.1s\n",
      "[CV 5/5] END alpha=1e-05, early_stopping=False, eta0=0.0, loss=log, max_iter=2000, penalty=l2; total time=   0.1s\n",
      "[CV 1/5] END alpha=1e-05, early_stopping=False, eta0=0.0, loss=log, max_iter=2000, penalty=l1; total time=   0.2s\n",
      "[CV 2/5] END alpha=1e-05, early_stopping=False, eta0=0.0, loss=log, max_iter=2000, penalty=l1; total time=   0.2s\n",
      "[CV 3/5] END alpha=1e-05, early_stopping=False, eta0=0.0, loss=log, max_iter=2000, penalty=l1; total time=   0.2s\n",
      "[CV 4/5] END alpha=1e-05, early_stopping=False, eta0=0.0, loss=log, max_iter=2000, penalty=l1; total time=   0.2s\n",
      "[CV 5/5] END alpha=1e-05, early_stopping=False, eta0=0.0, loss=log, max_iter=2000, penalty=l1; total time=   0.2s\n",
      "[CV 1/5] END alpha=1e-05, early_stopping=False, eta0=0.002, loss=hinge, max_iter=500, penalty=l2; total time=   0.1s\n",
      "[CV 2/5] END alpha=1e-05, early_stopping=False, eta0=0.002, loss=hinge, max_iter=500, penalty=l2; total time=   0.2s\n",
      "[CV 3/5] END alpha=1e-05, early_stopping=False, eta0=0.002, loss=hinge, max_iter=500, penalty=l2; total time=   0.1s\n",
      "[CV 4/5] END alpha=1e-05, early_stopping=False, eta0=0.002, loss=hinge, max_iter=500, penalty=l2; total time=   0.2s\n",
      "[CV 5/5] END alpha=1e-05, early_stopping=False, eta0=0.002, loss=hinge, max_iter=500, penalty=l2; total time=   0.1s\n",
      "[CV 1/5] END alpha=1e-05, early_stopping=False, eta0=0.002, loss=hinge, max_iter=500, penalty=l1; total time=   0.1s\n",
      "[CV 2/5] END alpha=1e-05, early_stopping=False, eta0=0.002, loss=hinge, max_iter=500, penalty=l1; total time=   0.2s\n",
      "[CV 3/5] END alpha=1e-05, early_stopping=False, eta0=0.002, loss=hinge, max_iter=500, penalty=l1; total time=   0.2s\n",
      "[CV 4/5] END alpha=1e-05, early_stopping=False, eta0=0.002, loss=hinge, max_iter=500, penalty=l1; total time=   0.2s\n",
      "[CV 5/5] END alpha=1e-05, early_stopping=False, eta0=0.002, loss=hinge, max_iter=500, penalty=l1; total time=   0.2s\n",
      "[CV 1/5] END alpha=1e-05, early_stopping=False, eta0=0.002, loss=hinge, max_iter=1500, penalty=l2; total time=   0.1s\n",
      "[CV 2/5] END alpha=1e-05, early_stopping=False, eta0=0.002, loss=hinge, max_iter=1500, penalty=l2; total time=   0.1s\n",
      "[CV 3/5] END alpha=1e-05, early_stopping=False, eta0=0.002, loss=hinge, max_iter=1500, penalty=l2; total time=   0.2s\n",
      "[CV 4/5] END alpha=1e-05, early_stopping=False, eta0=0.002, loss=hinge, max_iter=1500, penalty=l2; total time=   0.1s\n",
      "[CV 5/5] END alpha=1e-05, early_stopping=False, eta0=0.002, loss=hinge, max_iter=1500, penalty=l2; total time=   0.1s\n",
      "[CV 1/5] END alpha=1e-05, early_stopping=False, eta0=0.002, loss=hinge, max_iter=1500, penalty=l1; total time=   0.1s\n",
      "[CV 2/5] END alpha=1e-05, early_stopping=False, eta0=0.002, loss=hinge, max_iter=1500, penalty=l1; total time=   0.2s\n",
      "[CV 3/5] END alpha=1e-05, early_stopping=False, eta0=0.002, loss=hinge, max_iter=1500, penalty=l1; total time=   0.2s\n",
      "[CV 4/5] END alpha=1e-05, early_stopping=False, eta0=0.002, loss=hinge, max_iter=1500, penalty=l1; total time=   0.2s\n",
      "[CV 5/5] END alpha=1e-05, early_stopping=False, eta0=0.002, loss=hinge, max_iter=1500, penalty=l1; total time=   0.2s\n",
      "[CV 1/5] END alpha=1e-05, early_stopping=False, eta0=0.002, loss=hinge, max_iter=2000, penalty=l2; total time=   0.1s\n",
      "[CV 2/5] END alpha=1e-05, early_stopping=False, eta0=0.002, loss=hinge, max_iter=2000, penalty=l2; total time=   0.1s\n",
      "[CV 3/5] END alpha=1e-05, early_stopping=False, eta0=0.002, loss=hinge, max_iter=2000, penalty=l2; total time=   0.1s\n",
      "[CV 4/5] END alpha=1e-05, early_stopping=False, eta0=0.002, loss=hinge, max_iter=2000, penalty=l2; total time=   0.1s\n",
      "[CV 5/5] END alpha=1e-05, early_stopping=False, eta0=0.002, loss=hinge, max_iter=2000, penalty=l2; total time=   0.2s\n",
      "[CV 1/5] END alpha=1e-05, early_stopping=False, eta0=0.002, loss=hinge, max_iter=2000, penalty=l1; total time=   0.2s\n",
      "[CV 2/5] END alpha=1e-05, early_stopping=False, eta0=0.002, loss=hinge, max_iter=2000, penalty=l1; total time=   0.2s\n",
      "[CV 3/5] END alpha=1e-05, early_stopping=False, eta0=0.002, loss=hinge, max_iter=2000, penalty=l1; total time=   0.2s\n",
      "[CV 4/5] END alpha=1e-05, early_stopping=False, eta0=0.002, loss=hinge, max_iter=2000, penalty=l1; total time=   0.1s\n",
      "[CV 5/5] END alpha=1e-05, early_stopping=False, eta0=0.002, loss=hinge, max_iter=2000, penalty=l1; total time=   0.2s\n",
      "[CV 1/5] END alpha=1e-05, early_stopping=False, eta0=0.002, loss=log, max_iter=500, penalty=l2; total time=   0.2s\n",
      "[CV 2/5] END alpha=1e-05, early_stopping=False, eta0=0.002, loss=log, max_iter=500, penalty=l2; total time=   0.1s\n",
      "[CV 3/5] END alpha=1e-05, early_stopping=False, eta0=0.002, loss=log, max_iter=500, penalty=l2; total time=   0.1s\n",
      "[CV 4/5] END alpha=1e-05, early_stopping=False, eta0=0.002, loss=log, max_iter=500, penalty=l2; total time=   0.1s\n",
      "[CV 5/5] END alpha=1e-05, early_stopping=False, eta0=0.002, loss=log, max_iter=500, penalty=l2; total time=   0.2s\n",
      "[CV 1/5] END alpha=1e-05, early_stopping=False, eta0=0.002, loss=log, max_iter=500, penalty=l1; total time=   0.2s\n",
      "[CV 2/5] END alpha=1e-05, early_stopping=False, eta0=0.002, loss=log, max_iter=500, penalty=l1; total time=   0.2s\n",
      "[CV 3/5] END alpha=1e-05, early_stopping=False, eta0=0.002, loss=log, max_iter=500, penalty=l1; total time=   0.2s\n",
      "[CV 4/5] END alpha=1e-05, early_stopping=False, eta0=0.002, loss=log, max_iter=500, penalty=l1; total time=   0.2s\n",
      "[CV 5/5] END alpha=1e-05, early_stopping=False, eta0=0.002, loss=log, max_iter=500, penalty=l1; total time=   0.2s\n",
      "[CV 1/5] END alpha=1e-05, early_stopping=False, eta0=0.002, loss=log, max_iter=1500, penalty=l2; total time=   0.2s\n",
      "[CV 2/5] END alpha=1e-05, early_stopping=False, eta0=0.002, loss=log, max_iter=1500, penalty=l2; total time=   0.2s\n",
      "[CV 3/5] END alpha=1e-05, early_stopping=False, eta0=0.002, loss=log, max_iter=1500, penalty=l2; total time=   0.1s\n",
      "[CV 4/5] END alpha=1e-05, early_stopping=False, eta0=0.002, loss=log, max_iter=1500, penalty=l2; total time=   0.2s\n",
      "[CV 5/5] END alpha=1e-05, early_stopping=False, eta0=0.002, loss=log, max_iter=1500, penalty=l2; total time=   0.2s\n",
      "[CV 1/5] END alpha=1e-05, early_stopping=False, eta0=0.002, loss=log, max_iter=1500, penalty=l1; total time=   0.2s\n",
      "[CV 2/5] END alpha=1e-05, early_stopping=False, eta0=0.002, loss=log, max_iter=1500, penalty=l1; total time=   0.2s\n",
      "[CV 3/5] END alpha=1e-05, early_stopping=False, eta0=0.002, loss=log, max_iter=1500, penalty=l1; total time=   0.2s\n",
      "[CV 4/5] END alpha=1e-05, early_stopping=False, eta0=0.002, loss=log, max_iter=1500, penalty=l1; total time=   0.2s\n",
      "[CV 5/5] END alpha=1e-05, early_stopping=False, eta0=0.002, loss=log, max_iter=1500, penalty=l1; total time=   0.2s\n",
      "[CV 1/5] END alpha=1e-05, early_stopping=False, eta0=0.002, loss=log, max_iter=2000, penalty=l2; total time=   0.2s\n",
      "[CV 2/5] END alpha=1e-05, early_stopping=False, eta0=0.002, loss=log, max_iter=2000, penalty=l2; total time=   0.2s\n",
      "[CV 3/5] END alpha=1e-05, early_stopping=False, eta0=0.002, loss=log, max_iter=2000, penalty=l2; total time=   0.2s\n",
      "[CV 4/5] END alpha=1e-05, early_stopping=False, eta0=0.002, loss=log, max_iter=2000, penalty=l2; total time=   0.2s\n",
      "[CV 5/5] END alpha=1e-05, early_stopping=False, eta0=0.002, loss=log, max_iter=2000, penalty=l2; total time=   0.2s\n",
      "[CV 1/5] END alpha=1e-05, early_stopping=False, eta0=0.002, loss=log, max_iter=2000, penalty=l1; total time=   0.2s\n",
      "[CV 2/5] END alpha=1e-05, early_stopping=False, eta0=0.002, loss=log, max_iter=2000, penalty=l1; total time=   0.2s\n",
      "[CV 3/5] END alpha=1e-05, early_stopping=False, eta0=0.002, loss=log, max_iter=2000, penalty=l1; total time=   0.2s\n",
      "[CV 4/5] END alpha=1e-05, early_stopping=False, eta0=0.002, loss=log, max_iter=2000, penalty=l1; total time=   0.2s\n",
      "[CV 5/5] END alpha=1e-05, early_stopping=False, eta0=0.002, loss=log, max_iter=2000, penalty=l1; total time=   0.2s\n",
      "[CV 1/5] END alpha=0.0001, early_stopping=True, eta0=0.0, loss=hinge, max_iter=500, penalty=l2; total time=   0.1s\n",
      "[CV 2/5] END alpha=0.0001, early_stopping=True, eta0=0.0, loss=hinge, max_iter=500, penalty=l2; total time=   0.1s\n",
      "[CV 3/5] END alpha=0.0001, early_stopping=True, eta0=0.0, loss=hinge, max_iter=500, penalty=l2; total time=   0.1s\n",
      "[CV 4/5] END alpha=0.0001, early_stopping=True, eta0=0.0, loss=hinge, max_iter=500, penalty=l2; total time=   0.1s\n",
      "[CV 5/5] END alpha=0.0001, early_stopping=True, eta0=0.0, loss=hinge, max_iter=500, penalty=l2; total time=   0.1s\n",
      "[CV 1/5] END alpha=0.0001, early_stopping=True, eta0=0.0, loss=hinge, max_iter=500, penalty=l1; total time=   0.2s\n",
      "[CV 2/5] END alpha=0.0001, early_stopping=True, eta0=0.0, loss=hinge, max_iter=500, penalty=l1; total time=   0.2s\n",
      "[CV 3/5] END alpha=0.0001, early_stopping=True, eta0=0.0, loss=hinge, max_iter=500, penalty=l1; total time=   0.2s\n",
      "[CV 4/5] END alpha=0.0001, early_stopping=True, eta0=0.0, loss=hinge, max_iter=500, penalty=l1; total time=   0.2s\n",
      "[CV 5/5] END alpha=0.0001, early_stopping=True, eta0=0.0, loss=hinge, max_iter=500, penalty=l1; total time=   0.2s\n",
      "[CV 1/5] END alpha=0.0001, early_stopping=True, eta0=0.0, loss=hinge, max_iter=1500, penalty=l2; total time=   0.1s\n",
      "[CV 2/5] END alpha=0.0001, early_stopping=True, eta0=0.0, loss=hinge, max_iter=1500, penalty=l2; total time=   0.2s\n",
      "[CV 3/5] END alpha=0.0001, early_stopping=True, eta0=0.0, loss=hinge, max_iter=1500, penalty=l2; total time=   0.1s\n",
      "[CV 4/5] END alpha=0.0001, early_stopping=True, eta0=0.0, loss=hinge, max_iter=1500, penalty=l2; total time=   0.2s\n",
      "[CV 5/5] END alpha=0.0001, early_stopping=True, eta0=0.0, loss=hinge, max_iter=1500, penalty=l2; total time=   0.2s\n",
      "[CV 1/5] END alpha=0.0001, early_stopping=True, eta0=0.0, loss=hinge, max_iter=1500, penalty=l1; total time=   0.2s\n",
      "[CV 2/5] END alpha=0.0001, early_stopping=True, eta0=0.0, loss=hinge, max_iter=1500, penalty=l1; total time=   0.2s\n",
      "[CV 3/5] END alpha=0.0001, early_stopping=True, eta0=0.0, loss=hinge, max_iter=1500, penalty=l1; total time=   0.3s\n",
      "[CV 4/5] END alpha=0.0001, early_stopping=True, eta0=0.0, loss=hinge, max_iter=1500, penalty=l1; total time=   0.2s\n",
      "[CV 5/5] END alpha=0.0001, early_stopping=True, eta0=0.0, loss=hinge, max_iter=1500, penalty=l1; total time=   0.2s\n",
      "[CV 1/5] END alpha=0.0001, early_stopping=True, eta0=0.0, loss=hinge, max_iter=2000, penalty=l2; total time=   0.2s\n",
      "[CV 2/5] END alpha=0.0001, early_stopping=True, eta0=0.0, loss=hinge, max_iter=2000, penalty=l2; total time=   0.2s\n",
      "[CV 3/5] END alpha=0.0001, early_stopping=True, eta0=0.0, loss=hinge, max_iter=2000, penalty=l2; total time=   0.2s\n",
      "[CV 4/5] END alpha=0.0001, early_stopping=True, eta0=0.0, loss=hinge, max_iter=2000, penalty=l2; total time=   0.2s\n",
      "[CV 5/5] END alpha=0.0001, early_stopping=True, eta0=0.0, loss=hinge, max_iter=2000, penalty=l2; total time=   0.2s\n",
      "[CV 1/5] END alpha=0.0001, early_stopping=True, eta0=0.0, loss=hinge, max_iter=2000, penalty=l1; total time=   0.2s\n",
      "[CV 2/5] END alpha=0.0001, early_stopping=True, eta0=0.0, loss=hinge, max_iter=2000, penalty=l1; total time=   0.2s\n",
      "[CV 3/5] END alpha=0.0001, early_stopping=True, eta0=0.0, loss=hinge, max_iter=2000, penalty=l1; total time=   0.2s\n",
      "[CV 4/5] END alpha=0.0001, early_stopping=True, eta0=0.0, loss=hinge, max_iter=2000, penalty=l1; total time=   0.2s\n",
      "[CV 5/5] END alpha=0.0001, early_stopping=True, eta0=0.0, loss=hinge, max_iter=2000, penalty=l1; total time=   0.2s\n",
      "[CV 1/5] END alpha=0.0001, early_stopping=True, eta0=0.0, loss=log, max_iter=500, penalty=l2; total time=   0.2s\n",
      "[CV 2/5] END alpha=0.0001, early_stopping=True, eta0=0.0, loss=log, max_iter=500, penalty=l2; total time=   0.2s\n",
      "[CV 3/5] END alpha=0.0001, early_stopping=True, eta0=0.0, loss=log, max_iter=500, penalty=l2; total time=   0.2s\n",
      "[CV 4/5] END alpha=0.0001, early_stopping=True, eta0=0.0, loss=log, max_iter=500, penalty=l2; total time=   0.2s\n",
      "[CV 5/5] END alpha=0.0001, early_stopping=True, eta0=0.0, loss=log, max_iter=500, penalty=l2; total time=   0.2s\n",
      "[CV 1/5] END alpha=0.0001, early_stopping=True, eta0=0.0, loss=log, max_iter=500, penalty=l1; total time=   0.2s\n",
      "[CV 2/5] END alpha=0.0001, early_stopping=True, eta0=0.0, loss=log, max_iter=500, penalty=l1; total time=   0.2s\n",
      "[CV 3/5] END alpha=0.0001, early_stopping=True, eta0=0.0, loss=log, max_iter=500, penalty=l1; total time=   0.2s\n",
      "[CV 4/5] END alpha=0.0001, early_stopping=True, eta0=0.0, loss=log, max_iter=500, penalty=l1; total time=   0.2s\n",
      "[CV 5/5] END alpha=0.0001, early_stopping=True, eta0=0.0, loss=log, max_iter=500, penalty=l1; total time=   0.2s\n",
      "[CV 1/5] END alpha=0.0001, early_stopping=True, eta0=0.0, loss=log, max_iter=1500, penalty=l2; total time=   0.2s\n",
      "[CV 2/5] END alpha=0.0001, early_stopping=True, eta0=0.0, loss=log, max_iter=1500, penalty=l2; total time=   0.2s\n",
      "[CV 3/5] END alpha=0.0001, early_stopping=True, eta0=0.0, loss=log, max_iter=1500, penalty=l2; total time=   0.2s\n",
      "[CV 4/5] END alpha=0.0001, early_stopping=True, eta0=0.0, loss=log, max_iter=1500, penalty=l2; total time=   0.2s\n",
      "[CV 5/5] END alpha=0.0001, early_stopping=True, eta0=0.0, loss=log, max_iter=1500, penalty=l2; total time=   0.2s\n",
      "[CV 1/5] END alpha=0.0001, early_stopping=True, eta0=0.0, loss=log, max_iter=1500, penalty=l1; total time=   0.4s\n",
      "[CV 2/5] END alpha=0.0001, early_stopping=True, eta0=0.0, loss=log, max_iter=1500, penalty=l1; total time=   0.2s\n",
      "[CV 3/5] END alpha=0.0001, early_stopping=True, eta0=0.0, loss=log, max_iter=1500, penalty=l1; total time=   0.3s\n",
      "[CV 4/5] END alpha=0.0001, early_stopping=True, eta0=0.0, loss=log, max_iter=1500, penalty=l1; total time=   0.2s\n",
      "[CV 5/5] END alpha=0.0001, early_stopping=True, eta0=0.0, loss=log, max_iter=1500, penalty=l1; total time=   0.2s\n",
      "[CV 1/5] END alpha=0.0001, early_stopping=True, eta0=0.0, loss=log, max_iter=2000, penalty=l2; total time=   0.2s\n",
      "[CV 2/5] END alpha=0.0001, early_stopping=True, eta0=0.0, loss=log, max_iter=2000, penalty=l2; total time=   0.2s\n",
      "[CV 3/5] END alpha=0.0001, early_stopping=True, eta0=0.0, loss=log, max_iter=2000, penalty=l2; total time=   0.2s\n",
      "[CV 4/5] END alpha=0.0001, early_stopping=True, eta0=0.0, loss=log, max_iter=2000, penalty=l2; total time=   0.2s\n",
      "[CV 5/5] END alpha=0.0001, early_stopping=True, eta0=0.0, loss=log, max_iter=2000, penalty=l2; total time=   0.2s\n",
      "[CV 1/5] END alpha=0.0001, early_stopping=True, eta0=0.0, loss=log, max_iter=2000, penalty=l1; total time=   0.2s\n",
      "[CV 2/5] END alpha=0.0001, early_stopping=True, eta0=0.0, loss=log, max_iter=2000, penalty=l1; total time=   0.2s\n",
      "[CV 3/5] END alpha=0.0001, early_stopping=True, eta0=0.0, loss=log, max_iter=2000, penalty=l1; total time=   0.3s\n",
      "[CV 4/5] END alpha=0.0001, early_stopping=True, eta0=0.0, loss=log, max_iter=2000, penalty=l1; total time=   0.2s\n",
      "[CV 5/5] END alpha=0.0001, early_stopping=True, eta0=0.0, loss=log, max_iter=2000, penalty=l1; total time=   0.2s\n",
      "[CV 1/5] END alpha=0.0001, early_stopping=True, eta0=0.002, loss=hinge, max_iter=500, penalty=l2; total time=   0.1s\n",
      "[CV 2/5] END alpha=0.0001, early_stopping=True, eta0=0.002, loss=hinge, max_iter=500, penalty=l2; total time=   0.2s\n",
      "[CV 3/5] END alpha=0.0001, early_stopping=True, eta0=0.002, loss=hinge, max_iter=500, penalty=l2; total time=   0.2s\n",
      "[CV 4/5] END alpha=0.0001, early_stopping=True, eta0=0.002, loss=hinge, max_iter=500, penalty=l2; total time=   0.2s\n",
      "[CV 5/5] END alpha=0.0001, early_stopping=True, eta0=0.002, loss=hinge, max_iter=500, penalty=l2; total time=   0.1s\n",
      "[CV 1/5] END alpha=0.0001, early_stopping=True, eta0=0.002, loss=hinge, max_iter=500, penalty=l1; total time=   0.2s\n",
      "[CV 2/5] END alpha=0.0001, early_stopping=True, eta0=0.002, loss=hinge, max_iter=500, penalty=l1; total time=   0.2s\n",
      "[CV 3/5] END alpha=0.0001, early_stopping=True, eta0=0.002, loss=hinge, max_iter=500, penalty=l1; total time=   0.2s\n",
      "[CV 4/5] END alpha=0.0001, early_stopping=True, eta0=0.002, loss=hinge, max_iter=500, penalty=l1; total time=   0.2s\n",
      "[CV 5/5] END alpha=0.0001, early_stopping=True, eta0=0.002, loss=hinge, max_iter=500, penalty=l1; total time=   0.2s\n",
      "[CV 1/5] END alpha=0.0001, early_stopping=True, eta0=0.002, loss=hinge, max_iter=1500, penalty=l2; total time=   0.1s\n",
      "[CV 2/5] END alpha=0.0001, early_stopping=True, eta0=0.002, loss=hinge, max_iter=1500, penalty=l2; total time=   0.1s\n",
      "[CV 3/5] END alpha=0.0001, early_stopping=True, eta0=0.002, loss=hinge, max_iter=1500, penalty=l2; total time=   0.2s\n",
      "[CV 4/5] END alpha=0.0001, early_stopping=True, eta0=0.002, loss=hinge, max_iter=1500, penalty=l2; total time=   0.2s\n",
      "[CV 5/5] END alpha=0.0001, early_stopping=True, eta0=0.002, loss=hinge, max_iter=1500, penalty=l2; total time=   0.2s\n",
      "[CV 1/5] END alpha=0.0001, early_stopping=True, eta0=0.002, loss=hinge, max_iter=1500, penalty=l1; total time=   0.2s\n",
      "[CV 2/5] END alpha=0.0001, early_stopping=True, eta0=0.002, loss=hinge, max_iter=1500, penalty=l1; total time=   0.2s\n",
      "[CV 3/5] END alpha=0.0001, early_stopping=True, eta0=0.002, loss=hinge, max_iter=1500, penalty=l1; total time=   0.2s\n",
      "[CV 4/5] END alpha=0.0001, early_stopping=True, eta0=0.002, loss=hinge, max_iter=1500, penalty=l1; total time=   0.2s\n",
      "[CV 5/5] END alpha=0.0001, early_stopping=True, eta0=0.002, loss=hinge, max_iter=1500, penalty=l1; total time=   0.2s\n",
      "[CV 1/5] END alpha=0.0001, early_stopping=True, eta0=0.002, loss=hinge, max_iter=2000, penalty=l2; total time=   0.2s\n",
      "[CV 2/5] END alpha=0.0001, early_stopping=True, eta0=0.002, loss=hinge, max_iter=2000, penalty=l2; total time=   0.1s\n",
      "[CV 3/5] END alpha=0.0001, early_stopping=True, eta0=0.002, loss=hinge, max_iter=2000, penalty=l2; total time=   0.1s\n",
      "[CV 4/5] END alpha=0.0001, early_stopping=True, eta0=0.002, loss=hinge, max_iter=2000, penalty=l2; total time=   0.2s\n",
      "[CV 5/5] END alpha=0.0001, early_stopping=True, eta0=0.002, loss=hinge, max_iter=2000, penalty=l2; total time=   0.2s\n",
      "[CV 1/5] END alpha=0.0001, early_stopping=True, eta0=0.002, loss=hinge, max_iter=2000, penalty=l1; total time=   0.2s\n",
      "[CV 2/5] END alpha=0.0001, early_stopping=True, eta0=0.002, loss=hinge, max_iter=2000, penalty=l1; total time=   0.2s\n",
      "[CV 3/5] END alpha=0.0001, early_stopping=True, eta0=0.002, loss=hinge, max_iter=2000, penalty=l1; total time=   0.2s\n",
      "[CV 4/5] END alpha=0.0001, early_stopping=True, eta0=0.002, loss=hinge, max_iter=2000, penalty=l1; total time=   0.2s\n",
      "[CV 5/5] END alpha=0.0001, early_stopping=True, eta0=0.002, loss=hinge, max_iter=2000, penalty=l1; total time=   0.2s\n",
      "[CV 1/5] END alpha=0.0001, early_stopping=True, eta0=0.002, loss=log, max_iter=500, penalty=l2; total time=   0.2s\n",
      "[CV 2/5] END alpha=0.0001, early_stopping=True, eta0=0.002, loss=log, max_iter=500, penalty=l2; total time=   0.2s\n",
      "[CV 3/5] END alpha=0.0001, early_stopping=True, eta0=0.002, loss=log, max_iter=500, penalty=l2; total time=   0.2s\n",
      "[CV 4/5] END alpha=0.0001, early_stopping=True, eta0=0.002, loss=log, max_iter=500, penalty=l2; total time=   0.2s\n",
      "[CV 5/5] END alpha=0.0001, early_stopping=True, eta0=0.002, loss=log, max_iter=500, penalty=l2; total time=   0.2s\n",
      "[CV 1/5] END alpha=0.0001, early_stopping=True, eta0=0.002, loss=log, max_iter=500, penalty=l1; total time=   0.2s\n",
      "[CV 2/5] END alpha=0.0001, early_stopping=True, eta0=0.002, loss=log, max_iter=500, penalty=l1; total time=   0.2s\n",
      "[CV 3/5] END alpha=0.0001, early_stopping=True, eta0=0.002, loss=log, max_iter=500, penalty=l1; total time=   0.2s\n",
      "[CV 4/5] END alpha=0.0001, early_stopping=True, eta0=0.002, loss=log, max_iter=500, penalty=l1; total time=   0.2s\n",
      "[CV 5/5] END alpha=0.0001, early_stopping=True, eta0=0.002, loss=log, max_iter=500, penalty=l1; total time=   0.3s\n",
      "[CV 1/5] END alpha=0.0001, early_stopping=True, eta0=0.002, loss=log, max_iter=1500, penalty=l2; total time=   0.2s\n",
      "[CV 2/5] END alpha=0.0001, early_stopping=True, eta0=0.002, loss=log, max_iter=1500, penalty=l2; total time=   0.2s\n",
      "[CV 3/5] END alpha=0.0001, early_stopping=True, eta0=0.002, loss=log, max_iter=1500, penalty=l2; total time=   0.3s\n",
      "[CV 4/5] END alpha=0.0001, early_stopping=True, eta0=0.002, loss=log, max_iter=1500, penalty=l2; total time=   0.2s\n",
      "[CV 5/5] END alpha=0.0001, early_stopping=True, eta0=0.002, loss=log, max_iter=1500, penalty=l2; total time=   0.3s\n",
      "[CV 1/5] END alpha=0.0001, early_stopping=True, eta0=0.002, loss=log, max_iter=1500, penalty=l1; total time=   0.2s\n",
      "[CV 2/5] END alpha=0.0001, early_stopping=True, eta0=0.002, loss=log, max_iter=1500, penalty=l1; total time=   0.3s\n",
      "[CV 3/5] END alpha=0.0001, early_stopping=True, eta0=0.002, loss=log, max_iter=1500, penalty=l1; total time=   0.2s\n",
      "[CV 4/5] END alpha=0.0001, early_stopping=True, eta0=0.002, loss=log, max_iter=1500, penalty=l1; total time=   0.2s\n",
      "[CV 5/5] END alpha=0.0001, early_stopping=True, eta0=0.002, loss=log, max_iter=1500, penalty=l1; total time=   0.2s\n",
      "[CV 1/5] END alpha=0.0001, early_stopping=True, eta0=0.002, loss=log, max_iter=2000, penalty=l2; total time=   0.2s\n",
      "[CV 2/5] END alpha=0.0001, early_stopping=True, eta0=0.002, loss=log, max_iter=2000, penalty=l2; total time=   0.2s\n",
      "[CV 3/5] END alpha=0.0001, early_stopping=True, eta0=0.002, loss=log, max_iter=2000, penalty=l2; total time=   0.2s\n",
      "[CV 4/5] END alpha=0.0001, early_stopping=True, eta0=0.002, loss=log, max_iter=2000, penalty=l2; total time=   0.2s\n",
      "[CV 5/5] END alpha=0.0001, early_stopping=True, eta0=0.002, loss=log, max_iter=2000, penalty=l2; total time=   0.2s\n",
      "[CV 1/5] END alpha=0.0001, early_stopping=True, eta0=0.002, loss=log, max_iter=2000, penalty=l1; total time=   0.2s\n",
      "[CV 2/5] END alpha=0.0001, early_stopping=True, eta0=0.002, loss=log, max_iter=2000, penalty=l1; total time=   0.2s\n",
      "[CV 3/5] END alpha=0.0001, early_stopping=True, eta0=0.002, loss=log, max_iter=2000, penalty=l1; total time=   0.2s\n",
      "[CV 4/5] END alpha=0.0001, early_stopping=True, eta0=0.002, loss=log, max_iter=2000, penalty=l1; total time=   0.4s\n",
      "[CV 5/5] END alpha=0.0001, early_stopping=True, eta0=0.002, loss=log, max_iter=2000, penalty=l1; total time=   0.4s\n",
      "[CV 1/5] END alpha=0.0001, early_stopping=False, eta0=0.0, loss=hinge, max_iter=500, penalty=l2; total time=   0.2s\n",
      "[CV 2/5] END alpha=0.0001, early_stopping=False, eta0=0.0, loss=hinge, max_iter=500, penalty=l2; total time=   0.2s\n",
      "[CV 3/5] END alpha=0.0001, early_stopping=False, eta0=0.0, loss=hinge, max_iter=500, penalty=l2; total time=   0.1s\n",
      "[CV 4/5] END alpha=0.0001, early_stopping=False, eta0=0.0, loss=hinge, max_iter=500, penalty=l2; total time=   0.1s\n",
      "[CV 5/5] END alpha=0.0001, early_stopping=False, eta0=0.0, loss=hinge, max_iter=500, penalty=l2; total time=   0.1s\n",
      "[CV 1/5] END alpha=0.0001, early_stopping=False, eta0=0.0, loss=hinge, max_iter=500, penalty=l1; total time=   0.3s\n",
      "[CV 2/5] END alpha=0.0001, early_stopping=False, eta0=0.0, loss=hinge, max_iter=500, penalty=l1; total time=   0.3s\n",
      "[CV 3/5] END alpha=0.0001, early_stopping=False, eta0=0.0, loss=hinge, max_iter=500, penalty=l1; total time=   0.3s\n",
      "[CV 4/5] END alpha=0.0001, early_stopping=False, eta0=0.0, loss=hinge, max_iter=500, penalty=l1; total time=   0.2s\n",
      "[CV 5/5] END alpha=0.0001, early_stopping=False, eta0=0.0, loss=hinge, max_iter=500, penalty=l1; total time=   0.2s\n",
      "[CV 1/5] END alpha=0.0001, early_stopping=False, eta0=0.0, loss=hinge, max_iter=1500, penalty=l2; total time=   0.1s\n",
      "[CV 2/5] END alpha=0.0001, early_stopping=False, eta0=0.0, loss=hinge, max_iter=1500, penalty=l2; total time=   0.1s\n",
      "[CV 3/5] END alpha=0.0001, early_stopping=False, eta0=0.0, loss=hinge, max_iter=1500, penalty=l2; total time=   0.1s\n",
      "[CV 4/5] END alpha=0.0001, early_stopping=False, eta0=0.0, loss=hinge, max_iter=1500, penalty=l2; total time=   0.1s\n",
      "[CV 5/5] END alpha=0.0001, early_stopping=False, eta0=0.0, loss=hinge, max_iter=1500, penalty=l2; total time=   0.0s\n",
      "[CV 1/5] END alpha=0.0001, early_stopping=False, eta0=0.0, loss=hinge, max_iter=1500, penalty=l1; total time=   0.1s\n",
      "[CV 2/5] END alpha=0.0001, early_stopping=False, eta0=0.0, loss=hinge, max_iter=1500, penalty=l1; total time=   0.1s\n",
      "[CV 3/5] END alpha=0.0001, early_stopping=False, eta0=0.0, loss=hinge, max_iter=1500, penalty=l1; total time=   0.1s\n",
      "[CV 4/5] END alpha=0.0001, early_stopping=False, eta0=0.0, loss=hinge, max_iter=1500, penalty=l1; total time=   0.1s\n",
      "[CV 5/5] END alpha=0.0001, early_stopping=False, eta0=0.0, loss=hinge, max_iter=1500, penalty=l1; total time=   0.1s\n",
      "[CV 1/5] END alpha=0.0001, early_stopping=False, eta0=0.0, loss=hinge, max_iter=2000, penalty=l2; total time=   0.1s\n",
      "[CV 2/5] END alpha=0.0001, early_stopping=False, eta0=0.0, loss=hinge, max_iter=2000, penalty=l2; total time=   0.1s\n",
      "[CV 3/5] END alpha=0.0001, early_stopping=False, eta0=0.0, loss=hinge, max_iter=2000, penalty=l2; total time=   0.0s\n",
      "[CV 4/5] END alpha=0.0001, early_stopping=False, eta0=0.0, loss=hinge, max_iter=2000, penalty=l2; total time=   0.0s\n",
      "[CV 5/5] END alpha=0.0001, early_stopping=False, eta0=0.0, loss=hinge, max_iter=2000, penalty=l2; total time=   0.0s\n",
      "[CV 1/5] END alpha=0.0001, early_stopping=False, eta0=0.0, loss=hinge, max_iter=2000, penalty=l1; total time=   0.1s\n",
      "[CV 2/5] END alpha=0.0001, early_stopping=False, eta0=0.0, loss=hinge, max_iter=2000, penalty=l1; total time=   0.1s\n",
      "[CV 3/5] END alpha=0.0001, early_stopping=False, eta0=0.0, loss=hinge, max_iter=2000, penalty=l1; total time=   0.1s\n",
      "[CV 4/5] END alpha=0.0001, early_stopping=False, eta0=0.0, loss=hinge, max_iter=2000, penalty=l1; total time=   0.1s\n",
      "[CV 5/5] END alpha=0.0001, early_stopping=False, eta0=0.0, loss=hinge, max_iter=2000, penalty=l1; total time=   0.1s\n",
      "[CV 1/5] END alpha=0.0001, early_stopping=False, eta0=0.0, loss=log, max_iter=500, penalty=l2; total time=   0.1s\n",
      "[CV 2/5] END alpha=0.0001, early_stopping=False, eta0=0.0, loss=log, max_iter=500, penalty=l2; total time=   0.1s\n",
      "[CV 3/5] END alpha=0.0001, early_stopping=False, eta0=0.0, loss=log, max_iter=500, penalty=l2; total time=   0.1s\n",
      "[CV 4/5] END alpha=0.0001, early_stopping=False, eta0=0.0, loss=log, max_iter=500, penalty=l2; total time=   0.1s\n",
      "[CV 5/5] END alpha=0.0001, early_stopping=False, eta0=0.0, loss=log, max_iter=500, penalty=l2; total time=   0.2s\n",
      "[CV 1/5] END alpha=0.0001, early_stopping=False, eta0=0.0, loss=log, max_iter=500, penalty=l1; total time=   0.2s\n",
      "[CV 2/5] END alpha=0.0001, early_stopping=False, eta0=0.0, loss=log, max_iter=500, penalty=l1; total time=   0.2s\n",
      "[CV 3/5] END alpha=0.0001, early_stopping=False, eta0=0.0, loss=log, max_iter=500, penalty=l1; total time=   0.2s\n",
      "[CV 4/5] END alpha=0.0001, early_stopping=False, eta0=0.0, loss=log, max_iter=500, penalty=l1; total time=   0.2s\n",
      "[CV 5/5] END alpha=0.0001, early_stopping=False, eta0=0.0, loss=log, max_iter=500, penalty=l1; total time=   0.2s\n",
      "[CV 1/5] END alpha=0.0001, early_stopping=False, eta0=0.0, loss=log, max_iter=1500, penalty=l2; total time=   0.1s\n",
      "[CV 2/5] END alpha=0.0001, early_stopping=False, eta0=0.0, loss=log, max_iter=1500, penalty=l2; total time=   0.1s\n",
      "[CV 3/5] END alpha=0.0001, early_stopping=False, eta0=0.0, loss=log, max_iter=1500, penalty=l2; total time=   0.1s\n",
      "[CV 4/5] END alpha=0.0001, early_stopping=False, eta0=0.0, loss=log, max_iter=1500, penalty=l2; total time=   0.1s\n",
      "[CV 5/5] END alpha=0.0001, early_stopping=False, eta0=0.0, loss=log, max_iter=1500, penalty=l2; total time=   0.1s\n",
      "[CV 1/5] END alpha=0.0001, early_stopping=False, eta0=0.0, loss=log, max_iter=1500, penalty=l1; total time=   0.2s\n",
      "[CV 2/5] END alpha=0.0001, early_stopping=False, eta0=0.0, loss=log, max_iter=1500, penalty=l1; total time=   0.2s\n",
      "[CV 3/5] END alpha=0.0001, early_stopping=False, eta0=0.0, loss=log, max_iter=1500, penalty=l1; total time=   0.2s\n",
      "[CV 4/5] END alpha=0.0001, early_stopping=False, eta0=0.0, loss=log, max_iter=1500, penalty=l1; total time=   0.2s\n",
      "[CV 5/5] END alpha=0.0001, early_stopping=False, eta0=0.0, loss=log, max_iter=1500, penalty=l1; total time=   0.2s\n",
      "[CV 1/5] END alpha=0.0001, early_stopping=False, eta0=0.0, loss=log, max_iter=2000, penalty=l2; total time=   0.1s\n",
      "[CV 2/5] END alpha=0.0001, early_stopping=False, eta0=0.0, loss=log, max_iter=2000, penalty=l2; total time=   0.1s\n",
      "[CV 3/5] END alpha=0.0001, early_stopping=False, eta0=0.0, loss=log, max_iter=2000, penalty=l2; total time=   0.1s\n",
      "[CV 4/5] END alpha=0.0001, early_stopping=False, eta0=0.0, loss=log, max_iter=2000, penalty=l2; total time=   0.1s\n",
      "[CV 5/5] END alpha=0.0001, early_stopping=False, eta0=0.0, loss=log, max_iter=2000, penalty=l2; total time=   0.1s\n",
      "[CV 1/5] END alpha=0.0001, early_stopping=False, eta0=0.0, loss=log, max_iter=2000, penalty=l1; total time=   0.1s\n",
      "[CV 2/5] END alpha=0.0001, early_stopping=False, eta0=0.0, loss=log, max_iter=2000, penalty=l1; total time=   0.2s\n",
      "[CV 3/5] END alpha=0.0001, early_stopping=False, eta0=0.0, loss=log, max_iter=2000, penalty=l1; total time=   0.1s\n",
      "[CV 4/5] END alpha=0.0001, early_stopping=False, eta0=0.0, loss=log, max_iter=2000, penalty=l1; total time=   0.2s\n",
      "[CV 5/5] END alpha=0.0001, early_stopping=False, eta0=0.0, loss=log, max_iter=2000, penalty=l1; total time=   0.1s\n",
      "[CV 1/5] END alpha=0.0001, early_stopping=False, eta0=0.002, loss=hinge, max_iter=500, penalty=l2; total time=   0.0s\n",
      "[CV 2/5] END alpha=0.0001, early_stopping=False, eta0=0.002, loss=hinge, max_iter=500, penalty=l2; total time=   0.0s\n",
      "[CV 3/5] END alpha=0.0001, early_stopping=False, eta0=0.002, loss=hinge, max_iter=500, penalty=l2; total time=   0.0s\n",
      "[CV 4/5] END alpha=0.0001, early_stopping=False, eta0=0.002, loss=hinge, max_iter=500, penalty=l2; total time=   0.1s\n",
      "[CV 5/5] END alpha=0.0001, early_stopping=False, eta0=0.002, loss=hinge, max_iter=500, penalty=l2; total time=   0.1s\n",
      "[CV 1/5] END alpha=0.0001, early_stopping=False, eta0=0.002, loss=hinge, max_iter=500, penalty=l1; total time=   0.1s\n",
      "[CV 2/5] END alpha=0.0001, early_stopping=False, eta0=0.002, loss=hinge, max_iter=500, penalty=l1; total time=   0.1s\n",
      "[CV 3/5] END alpha=0.0001, early_stopping=False, eta0=0.002, loss=hinge, max_iter=500, penalty=l1; total time=   0.1s\n",
      "[CV 4/5] END alpha=0.0001, early_stopping=False, eta0=0.002, loss=hinge, max_iter=500, penalty=l1; total time=   0.1s\n",
      "[CV 5/5] END alpha=0.0001, early_stopping=False, eta0=0.002, loss=hinge, max_iter=500, penalty=l1; total time=   0.1s\n",
      "[CV 1/5] END alpha=0.0001, early_stopping=False, eta0=0.002, loss=hinge, max_iter=1500, penalty=l2; total time=   0.0s\n",
      "[CV 2/5] END alpha=0.0001, early_stopping=False, eta0=0.002, loss=hinge, max_iter=1500, penalty=l2; total time=   0.0s\n",
      "[CV 3/5] END alpha=0.0001, early_stopping=False, eta0=0.002, loss=hinge, max_iter=1500, penalty=l2; total time=   0.1s\n",
      "[CV 4/5] END alpha=0.0001, early_stopping=False, eta0=0.002, loss=hinge, max_iter=1500, penalty=l2; total time=   0.0s\n",
      "[CV 5/5] END alpha=0.0001, early_stopping=False, eta0=0.002, loss=hinge, max_iter=1500, penalty=l2; total time=   0.1s\n",
      "[CV 1/5] END alpha=0.0001, early_stopping=False, eta0=0.002, loss=hinge, max_iter=1500, penalty=l1; total time=   0.1s\n",
      "[CV 2/5] END alpha=0.0001, early_stopping=False, eta0=0.002, loss=hinge, max_iter=1500, penalty=l1; total time=   0.1s\n",
      "[CV 3/5] END alpha=0.0001, early_stopping=False, eta0=0.002, loss=hinge, max_iter=1500, penalty=l1; total time=   0.1s\n",
      "[CV 4/5] END alpha=0.0001, early_stopping=False, eta0=0.002, loss=hinge, max_iter=1500, penalty=l1; total time=   0.1s\n",
      "[CV 5/5] END alpha=0.0001, early_stopping=False, eta0=0.002, loss=hinge, max_iter=1500, penalty=l1; total time=   0.1s\n",
      "[CV 1/5] END alpha=0.0001, early_stopping=False, eta0=0.002, loss=hinge, max_iter=2000, penalty=l2; total time=   0.1s\n",
      "[CV 2/5] END alpha=0.0001, early_stopping=False, eta0=0.002, loss=hinge, max_iter=2000, penalty=l2; total time=   0.1s\n",
      "[CV 3/5] END alpha=0.0001, early_stopping=False, eta0=0.002, loss=hinge, max_iter=2000, penalty=l2; total time=   0.0s\n",
      "[CV 4/5] END alpha=0.0001, early_stopping=False, eta0=0.002, loss=hinge, max_iter=2000, penalty=l2; total time=   0.0s\n",
      "[CV 5/5] END alpha=0.0001, early_stopping=False, eta0=0.002, loss=hinge, max_iter=2000, penalty=l2; total time=   0.0s\n",
      "[CV 1/5] END alpha=0.0001, early_stopping=False, eta0=0.002, loss=hinge, max_iter=2000, penalty=l1; total time=   0.1s\n",
      "[CV 2/5] END alpha=0.0001, early_stopping=False, eta0=0.002, loss=hinge, max_iter=2000, penalty=l1; total time=   0.1s\n",
      "[CV 3/5] END alpha=0.0001, early_stopping=False, eta0=0.002, loss=hinge, max_iter=2000, penalty=l1; total time=   0.1s\n",
      "[CV 4/5] END alpha=0.0001, early_stopping=False, eta0=0.002, loss=hinge, max_iter=2000, penalty=l1; total time=   0.1s\n",
      "[CV 5/5] END alpha=0.0001, early_stopping=False, eta0=0.002, loss=hinge, max_iter=2000, penalty=l1; total time=   0.1s\n",
      "[CV 1/5] END alpha=0.0001, early_stopping=False, eta0=0.002, loss=log, max_iter=500, penalty=l2; total time=   0.1s\n",
      "[CV 2/5] END alpha=0.0001, early_stopping=False, eta0=0.002, loss=log, max_iter=500, penalty=l2; total time=   0.1s\n",
      "[CV 3/5] END alpha=0.0001, early_stopping=False, eta0=0.002, loss=log, max_iter=500, penalty=l2; total time=   0.1s\n",
      "[CV 4/5] END alpha=0.0001, early_stopping=False, eta0=0.002, loss=log, max_iter=500, penalty=l2; total time=   0.1s\n",
      "[CV 5/5] END alpha=0.0001, early_stopping=False, eta0=0.002, loss=log, max_iter=500, penalty=l2; total time=   0.1s\n",
      "[CV 1/5] END alpha=0.0001, early_stopping=False, eta0=0.002, loss=log, max_iter=500, penalty=l1; total time=   0.1s\n",
      "[CV 2/5] END alpha=0.0001, early_stopping=False, eta0=0.002, loss=log, max_iter=500, penalty=l1; total time=   0.2s\n",
      "[CV 3/5] END alpha=0.0001, early_stopping=False, eta0=0.002, loss=log, max_iter=500, penalty=l1; total time=   0.1s\n",
      "[CV 4/5] END alpha=0.0001, early_stopping=False, eta0=0.002, loss=log, max_iter=500, penalty=l1; total time=   0.2s\n",
      "[CV 5/5] END alpha=0.0001, early_stopping=False, eta0=0.002, loss=log, max_iter=500, penalty=l1; total time=   0.1s\n",
      "[CV 1/5] END alpha=0.0001, early_stopping=False, eta0=0.002, loss=log, max_iter=1500, penalty=l2; total time=   0.1s\n",
      "[CV 2/5] END alpha=0.0001, early_stopping=False, eta0=0.002, loss=log, max_iter=1500, penalty=l2; total time=   0.1s\n",
      "[CV 3/5] END alpha=0.0001, early_stopping=False, eta0=0.002, loss=log, max_iter=1500, penalty=l2; total time=   0.1s\n",
      "[CV 4/5] END alpha=0.0001, early_stopping=False, eta0=0.002, loss=log, max_iter=1500, penalty=l2; total time=   0.1s\n",
      "[CV 5/5] END alpha=0.0001, early_stopping=False, eta0=0.002, loss=log, max_iter=1500, penalty=l2; total time=   0.1s\n",
      "[CV 1/5] END alpha=0.0001, early_stopping=False, eta0=0.002, loss=log, max_iter=1500, penalty=l1; total time=   0.2s\n",
      "[CV 2/5] END alpha=0.0001, early_stopping=False, eta0=0.002, loss=log, max_iter=1500, penalty=l1; total time=   0.1s\n",
      "[CV 3/5] END alpha=0.0001, early_stopping=False, eta0=0.002, loss=log, max_iter=1500, penalty=l1; total time=   0.2s\n",
      "[CV 4/5] END alpha=0.0001, early_stopping=False, eta0=0.002, loss=log, max_iter=1500, penalty=l1; total time=   0.2s\n",
      "[CV 5/5] END alpha=0.0001, early_stopping=False, eta0=0.002, loss=log, max_iter=1500, penalty=l1; total time=   0.2s\n",
      "[CV 1/5] END alpha=0.0001, early_stopping=False, eta0=0.002, loss=log, max_iter=2000, penalty=l2; total time=   0.1s\n",
      "[CV 2/5] END alpha=0.0001, early_stopping=False, eta0=0.002, loss=log, max_iter=2000, penalty=l2; total time=   0.1s\n",
      "[CV 3/5] END alpha=0.0001, early_stopping=False, eta0=0.002, loss=log, max_iter=2000, penalty=l2; total time=   0.1s\n",
      "[CV 4/5] END alpha=0.0001, early_stopping=False, eta0=0.002, loss=log, max_iter=2000, penalty=l2; total time=   0.1s\n",
      "[CV 5/5] END alpha=0.0001, early_stopping=False, eta0=0.002, loss=log, max_iter=2000, penalty=l2; total time=   0.1s\n",
      "[CV 1/5] END alpha=0.0001, early_stopping=False, eta0=0.002, loss=log, max_iter=2000, penalty=l1; total time=   0.1s\n",
      "[CV 2/5] END alpha=0.0001, early_stopping=False, eta0=0.002, loss=log, max_iter=2000, penalty=l1; total time=   0.1s\n",
      "[CV 3/5] END alpha=0.0001, early_stopping=False, eta0=0.002, loss=log, max_iter=2000, penalty=l1; total time=   0.1s\n",
      "[CV 4/5] END alpha=0.0001, early_stopping=False, eta0=0.002, loss=log, max_iter=2000, penalty=l1; total time=   0.1s\n",
      "[CV 5/5] END alpha=0.0001, early_stopping=False, eta0=0.002, loss=log, max_iter=2000, penalty=l1; total time=   0.2s\n",
      "[CV 1/5] END alpha=0.0009, early_stopping=True, eta0=0.0, loss=hinge, max_iter=500, penalty=l2; total time=   0.1s\n",
      "[CV 2/5] END alpha=0.0009, early_stopping=True, eta0=0.0, loss=hinge, max_iter=500, penalty=l2; total time=   0.1s\n",
      "[CV 3/5] END alpha=0.0009, early_stopping=True, eta0=0.0, loss=hinge, max_iter=500, penalty=l2; total time=   0.1s\n",
      "[CV 4/5] END alpha=0.0009, early_stopping=True, eta0=0.0, loss=hinge, max_iter=500, penalty=l2; total time=   0.1s\n",
      "[CV 5/5] END alpha=0.0009, early_stopping=True, eta0=0.0, loss=hinge, max_iter=500, penalty=l2; total time=   0.1s\n",
      "[CV 1/5] END alpha=0.0009, early_stopping=True, eta0=0.0, loss=hinge, max_iter=500, penalty=l1; total time=   0.1s\n",
      "[CV 2/5] END alpha=0.0009, early_stopping=True, eta0=0.0, loss=hinge, max_iter=500, penalty=l1; total time=   0.2s\n",
      "[CV 3/5] END alpha=0.0009, early_stopping=True, eta0=0.0, loss=hinge, max_iter=500, penalty=l1; total time=   0.2s\n",
      "[CV 4/5] END alpha=0.0009, early_stopping=True, eta0=0.0, loss=hinge, max_iter=500, penalty=l1; total time=   0.2s\n",
      "[CV 5/5] END alpha=0.0009, early_stopping=True, eta0=0.0, loss=hinge, max_iter=500, penalty=l1; total time=   0.2s\n",
      "[CV 1/5] END alpha=0.0009, early_stopping=True, eta0=0.0, loss=hinge, max_iter=1500, penalty=l2; total time=   0.1s\n",
      "[CV 2/5] END alpha=0.0009, early_stopping=True, eta0=0.0, loss=hinge, max_iter=1500, penalty=l2; total time=   0.1s\n",
      "[CV 3/5] END alpha=0.0009, early_stopping=True, eta0=0.0, loss=hinge, max_iter=1500, penalty=l2; total time=   0.2s\n",
      "[CV 4/5] END alpha=0.0009, early_stopping=True, eta0=0.0, loss=hinge, max_iter=1500, penalty=l2; total time=   0.2s\n",
      "[CV 5/5] END alpha=0.0009, early_stopping=True, eta0=0.0, loss=hinge, max_iter=1500, penalty=l2; total time=   0.2s\n",
      "[CV 1/5] END alpha=0.0009, early_stopping=True, eta0=0.0, loss=hinge, max_iter=1500, penalty=l1; total time=   0.2s\n",
      "[CV 2/5] END alpha=0.0009, early_stopping=True, eta0=0.0, loss=hinge, max_iter=1500, penalty=l1; total time=   0.2s\n",
      "[CV 3/5] END alpha=0.0009, early_stopping=True, eta0=0.0, loss=hinge, max_iter=1500, penalty=l1; total time=   0.2s\n",
      "[CV 4/5] END alpha=0.0009, early_stopping=True, eta0=0.0, loss=hinge, max_iter=1500, penalty=l1; total time=   0.2s\n",
      "[CV 5/5] END alpha=0.0009, early_stopping=True, eta0=0.0, loss=hinge, max_iter=1500, penalty=l1; total time=   0.2s\n",
      "[CV 1/5] END alpha=0.0009, early_stopping=True, eta0=0.0, loss=hinge, max_iter=2000, penalty=l2; total time=   0.2s\n",
      "[CV 2/5] END alpha=0.0009, early_stopping=True, eta0=0.0, loss=hinge, max_iter=2000, penalty=l2; total time=   0.2s\n",
      "[CV 3/5] END alpha=0.0009, early_stopping=True, eta0=0.0, loss=hinge, max_iter=2000, penalty=l2; total time=   0.1s\n",
      "[CV 4/5] END alpha=0.0009, early_stopping=True, eta0=0.0, loss=hinge, max_iter=2000, penalty=l2; total time=   0.2s\n",
      "[CV 5/5] END alpha=0.0009, early_stopping=True, eta0=0.0, loss=hinge, max_iter=2000, penalty=l2; total time=   0.2s\n",
      "[CV 1/5] END alpha=0.0009, early_stopping=True, eta0=0.0, loss=hinge, max_iter=2000, penalty=l1; total time=   0.2s\n",
      "[CV 2/5] END alpha=0.0009, early_stopping=True, eta0=0.0, loss=hinge, max_iter=2000, penalty=l1; total time=   0.2s\n",
      "[CV 3/5] END alpha=0.0009, early_stopping=True, eta0=0.0, loss=hinge, max_iter=2000, penalty=l1; total time=   0.2s\n",
      "[CV 4/5] END alpha=0.0009, early_stopping=True, eta0=0.0, loss=hinge, max_iter=2000, penalty=l1; total time=   0.2s\n",
      "[CV 5/5] END alpha=0.0009, early_stopping=True, eta0=0.0, loss=hinge, max_iter=2000, penalty=l1; total time=   0.2s\n",
      "[CV 1/5] END alpha=0.0009, early_stopping=True, eta0=0.0, loss=log, max_iter=500, penalty=l2; total time=   0.2s\n",
      "[CV 2/5] END alpha=0.0009, early_stopping=True, eta0=0.0, loss=log, max_iter=500, penalty=l2; total time=   0.2s\n",
      "[CV 3/5] END alpha=0.0009, early_stopping=True, eta0=0.0, loss=log, max_iter=500, penalty=l2; total time=   0.2s\n",
      "[CV 4/5] END alpha=0.0009, early_stopping=True, eta0=0.0, loss=log, max_iter=500, penalty=l2; total time=   0.2s\n",
      "[CV 5/5] END alpha=0.0009, early_stopping=True, eta0=0.0, loss=log, max_iter=500, penalty=l2; total time=   0.2s\n",
      "[CV 1/5] END alpha=0.0009, early_stopping=True, eta0=0.0, loss=log, max_iter=500, penalty=l1; total time=   0.2s\n",
      "[CV 2/5] END alpha=0.0009, early_stopping=True, eta0=0.0, loss=log, max_iter=500, penalty=l1; total time=   0.2s\n",
      "[CV 3/5] END alpha=0.0009, early_stopping=True, eta0=0.0, loss=log, max_iter=500, penalty=l1; total time=   0.2s\n",
      "[CV 4/5] END alpha=0.0009, early_stopping=True, eta0=0.0, loss=log, max_iter=500, penalty=l1; total time=   0.2s\n",
      "[CV 5/5] END alpha=0.0009, early_stopping=True, eta0=0.0, loss=log, max_iter=500, penalty=l1; total time=   0.2s\n",
      "[CV 1/5] END alpha=0.0009, early_stopping=True, eta0=0.0, loss=log, max_iter=1500, penalty=l2; total time=   0.2s\n",
      "[CV 2/5] END alpha=0.0009, early_stopping=True, eta0=0.0, loss=log, max_iter=1500, penalty=l2; total time=   0.2s\n",
      "[CV 3/5] END alpha=0.0009, early_stopping=True, eta0=0.0, loss=log, max_iter=1500, penalty=l2; total time=   0.2s\n",
      "[CV 4/5] END alpha=0.0009, early_stopping=True, eta0=0.0, loss=log, max_iter=1500, penalty=l2; total time=   0.2s\n",
      "[CV 5/5] END alpha=0.0009, early_stopping=True, eta0=0.0, loss=log, max_iter=1500, penalty=l2; total time=   0.2s\n",
      "[CV 1/5] END alpha=0.0009, early_stopping=True, eta0=0.0, loss=log, max_iter=1500, penalty=l1; total time=   0.3s\n",
      "[CV 2/5] END alpha=0.0009, early_stopping=True, eta0=0.0, loss=log, max_iter=1500, penalty=l1; total time=   0.2s\n",
      "[CV 3/5] END alpha=0.0009, early_stopping=True, eta0=0.0, loss=log, max_iter=1500, penalty=l1; total time=   0.3s\n",
      "[CV 4/5] END alpha=0.0009, early_stopping=True, eta0=0.0, loss=log, max_iter=1500, penalty=l1; total time=   0.2s\n",
      "[CV 5/5] END alpha=0.0009, early_stopping=True, eta0=0.0, loss=log, max_iter=1500, penalty=l1; total time=   0.2s\n",
      "[CV 1/5] END alpha=0.0009, early_stopping=True, eta0=0.0, loss=log, max_iter=2000, penalty=l2; total time=   0.2s\n",
      "[CV 2/5] END alpha=0.0009, early_stopping=True, eta0=0.0, loss=log, max_iter=2000, penalty=l2; total time=   0.2s\n",
      "[CV 3/5] END alpha=0.0009, early_stopping=True, eta0=0.0, loss=log, max_iter=2000, penalty=l2; total time=   0.2s\n",
      "[CV 4/5] END alpha=0.0009, early_stopping=True, eta0=0.0, loss=log, max_iter=2000, penalty=l2; total time=   0.2s\n",
      "[CV 5/5] END alpha=0.0009, early_stopping=True, eta0=0.0, loss=log, max_iter=2000, penalty=l2; total time=   0.2s\n",
      "[CV 1/5] END alpha=0.0009, early_stopping=True, eta0=0.0, loss=log, max_iter=2000, penalty=l1; total time=   0.2s\n",
      "[CV 2/5] END alpha=0.0009, early_stopping=True, eta0=0.0, loss=log, max_iter=2000, penalty=l1; total time=   0.2s\n",
      "[CV 3/5] END alpha=0.0009, early_stopping=True, eta0=0.0, loss=log, max_iter=2000, penalty=l1; total time=   0.2s\n",
      "[CV 4/5] END alpha=0.0009, early_stopping=True, eta0=0.0, loss=log, max_iter=2000, penalty=l1; total time=   0.2s\n",
      "[CV 5/5] END alpha=0.0009, early_stopping=True, eta0=0.0, loss=log, max_iter=2000, penalty=l1; total time=   0.3s\n",
      "[CV 1/5] END alpha=0.0009, early_stopping=True, eta0=0.002, loss=hinge, max_iter=500, penalty=l2; total time=   0.2s\n",
      "[CV 2/5] END alpha=0.0009, early_stopping=True, eta0=0.002, loss=hinge, max_iter=500, penalty=l2; total time=   0.1s\n",
      "[CV 3/5] END alpha=0.0009, early_stopping=True, eta0=0.002, loss=hinge, max_iter=500, penalty=l2; total time=   0.2s\n",
      "[CV 4/5] END alpha=0.0009, early_stopping=True, eta0=0.002, loss=hinge, max_iter=500, penalty=l2; total time=   0.1s\n",
      "[CV 5/5] END alpha=0.0009, early_stopping=True, eta0=0.002, loss=hinge, max_iter=500, penalty=l2; total time=   0.1s\n",
      "[CV 1/5] END alpha=0.0009, early_stopping=True, eta0=0.002, loss=hinge, max_iter=500, penalty=l1; total time=   0.2s\n",
      "[CV 2/5] END alpha=0.0009, early_stopping=True, eta0=0.002, loss=hinge, max_iter=500, penalty=l1; total time=   0.2s\n",
      "[CV 3/5] END alpha=0.0009, early_stopping=True, eta0=0.002, loss=hinge, max_iter=500, penalty=l1; total time=   0.2s\n",
      "[CV 4/5] END alpha=0.0009, early_stopping=True, eta0=0.002, loss=hinge, max_iter=500, penalty=l1; total time=   0.1s\n",
      "[CV 5/5] END alpha=0.0009, early_stopping=True, eta0=0.002, loss=hinge, max_iter=500, penalty=l1; total time=   0.1s\n",
      "[CV 1/5] END alpha=0.0009, early_stopping=True, eta0=0.002, loss=hinge, max_iter=1500, penalty=l2; total time=   0.1s\n",
      "[CV 2/5] END alpha=0.0009, early_stopping=True, eta0=0.002, loss=hinge, max_iter=1500, penalty=l2; total time=   0.1s\n",
      "[CV 3/5] END alpha=0.0009, early_stopping=True, eta0=0.002, loss=hinge, max_iter=1500, penalty=l2; total time=   0.2s\n",
      "[CV 4/5] END alpha=0.0009, early_stopping=True, eta0=0.002, loss=hinge, max_iter=1500, penalty=l2; total time=   0.2s\n",
      "[CV 5/5] END alpha=0.0009, early_stopping=True, eta0=0.002, loss=hinge, max_iter=1500, penalty=l2; total time=   0.1s\n",
      "[CV 1/5] END alpha=0.0009, early_stopping=True, eta0=0.002, loss=hinge, max_iter=1500, penalty=l1; total time=   0.2s\n",
      "[CV 2/5] END alpha=0.0009, early_stopping=True, eta0=0.002, loss=hinge, max_iter=1500, penalty=l1; total time=   0.2s\n",
      "[CV 3/5] END alpha=0.0009, early_stopping=True, eta0=0.002, loss=hinge, max_iter=1500, penalty=l1; total time=   0.1s\n",
      "[CV 4/5] END alpha=0.0009, early_stopping=True, eta0=0.002, loss=hinge, max_iter=1500, penalty=l1; total time=   0.2s\n",
      "[CV 5/5] END alpha=0.0009, early_stopping=True, eta0=0.002, loss=hinge, max_iter=1500, penalty=l1; total time=   0.2s\n",
      "[CV 1/5] END alpha=0.0009, early_stopping=True, eta0=0.002, loss=hinge, max_iter=2000, penalty=l2; total time=   0.1s\n",
      "[CV 2/5] END alpha=0.0009, early_stopping=True, eta0=0.002, loss=hinge, max_iter=2000, penalty=l2; total time=   0.1s\n",
      "[CV 3/5] END alpha=0.0009, early_stopping=True, eta0=0.002, loss=hinge, max_iter=2000, penalty=l2; total time=   0.2s\n",
      "[CV 4/5] END alpha=0.0009, early_stopping=True, eta0=0.002, loss=hinge, max_iter=2000, penalty=l2; total time=   0.2s\n",
      "[CV 5/5] END alpha=0.0009, early_stopping=True, eta0=0.002, loss=hinge, max_iter=2000, penalty=l2; total time=   0.2s\n",
      "[CV 1/5] END alpha=0.0009, early_stopping=True, eta0=0.002, loss=hinge, max_iter=2000, penalty=l1; total time=   0.2s\n",
      "[CV 2/5] END alpha=0.0009, early_stopping=True, eta0=0.002, loss=hinge, max_iter=2000, penalty=l1; total time=   0.2s\n",
      "[CV 3/5] END alpha=0.0009, early_stopping=True, eta0=0.002, loss=hinge, max_iter=2000, penalty=l1; total time=   0.2s\n",
      "[CV 4/5] END alpha=0.0009, early_stopping=True, eta0=0.002, loss=hinge, max_iter=2000, penalty=l1; total time=   0.2s\n",
      "[CV 5/5] END alpha=0.0009, early_stopping=True, eta0=0.002, loss=hinge, max_iter=2000, penalty=l1; total time=   0.1s\n",
      "[CV 1/5] END alpha=0.0009, early_stopping=True, eta0=0.002, loss=log, max_iter=500, penalty=l2; total time=   0.2s\n",
      "[CV 2/5] END alpha=0.0009, early_stopping=True, eta0=0.002, loss=log, max_iter=500, penalty=l2; total time=   0.2s\n",
      "[CV 3/5] END alpha=0.0009, early_stopping=True, eta0=0.002, loss=log, max_iter=500, penalty=l2; total time=   0.2s\n",
      "[CV 4/5] END alpha=0.0009, early_stopping=True, eta0=0.002, loss=log, max_iter=500, penalty=l2; total time=   0.2s\n",
      "[CV 5/5] END alpha=0.0009, early_stopping=True, eta0=0.002, loss=log, max_iter=500, penalty=l2; total time=   0.2s\n",
      "[CV 1/5] END alpha=0.0009, early_stopping=True, eta0=0.002, loss=log, max_iter=500, penalty=l1; total time=   0.2s\n",
      "[CV 2/5] END alpha=0.0009, early_stopping=True, eta0=0.002, loss=log, max_iter=500, penalty=l1; total time=   0.2s\n",
      "[CV 3/5] END alpha=0.0009, early_stopping=True, eta0=0.002, loss=log, max_iter=500, penalty=l1; total time=   0.2s\n",
      "[CV 4/5] END alpha=0.0009, early_stopping=True, eta0=0.002, loss=log, max_iter=500, penalty=l1; total time=   0.2s\n",
      "[CV 5/5] END alpha=0.0009, early_stopping=True, eta0=0.002, loss=log, max_iter=500, penalty=l1; total time=   0.2s\n",
      "[CV 1/5] END alpha=0.0009, early_stopping=True, eta0=0.002, loss=log, max_iter=1500, penalty=l2; total time=   0.2s\n",
      "[CV 2/5] END alpha=0.0009, early_stopping=True, eta0=0.002, loss=log, max_iter=1500, penalty=l2; total time=   0.2s\n",
      "[CV 3/5] END alpha=0.0009, early_stopping=True, eta0=0.002, loss=log, max_iter=1500, penalty=l2; total time=   0.2s\n",
      "[CV 4/5] END alpha=0.0009, early_stopping=True, eta0=0.002, loss=log, max_iter=1500, penalty=l2; total time=   0.2s\n",
      "[CV 5/5] END alpha=0.0009, early_stopping=True, eta0=0.002, loss=log, max_iter=1500, penalty=l2; total time=   0.2s\n",
      "[CV 1/5] END alpha=0.0009, early_stopping=True, eta0=0.002, loss=log, max_iter=1500, penalty=l1; total time=   0.3s\n",
      "[CV 2/5] END alpha=0.0009, early_stopping=True, eta0=0.002, loss=log, max_iter=1500, penalty=l1; total time=   0.2s\n",
      "[CV 3/5] END alpha=0.0009, early_stopping=True, eta0=0.002, loss=log, max_iter=1500, penalty=l1; total time=   0.2s\n",
      "[CV 4/5] END alpha=0.0009, early_stopping=True, eta0=0.002, loss=log, max_iter=1500, penalty=l1; total time=   0.2s\n",
      "[CV 5/5] END alpha=0.0009, early_stopping=True, eta0=0.002, loss=log, max_iter=1500, penalty=l1; total time=   0.2s\n",
      "[CV 1/5] END alpha=0.0009, early_stopping=True, eta0=0.002, loss=log, max_iter=2000, penalty=l2; total time=   0.2s\n",
      "[CV 2/5] END alpha=0.0009, early_stopping=True, eta0=0.002, loss=log, max_iter=2000, penalty=l2; total time=   0.2s\n",
      "[CV 3/5] END alpha=0.0009, early_stopping=True, eta0=0.002, loss=log, max_iter=2000, penalty=l2; total time=   0.2s\n",
      "[CV 4/5] END alpha=0.0009, early_stopping=True, eta0=0.002, loss=log, max_iter=2000, penalty=l2; total time=   0.2s\n",
      "[CV 5/5] END alpha=0.0009, early_stopping=True, eta0=0.002, loss=log, max_iter=2000, penalty=l2; total time=   0.2s\n",
      "[CV 1/5] END alpha=0.0009, early_stopping=True, eta0=0.002, loss=log, max_iter=2000, penalty=l1; total time=   0.2s\n",
      "[CV 2/5] END alpha=0.0009, early_stopping=True, eta0=0.002, loss=log, max_iter=2000, penalty=l1; total time=   0.2s\n",
      "[CV 3/5] END alpha=0.0009, early_stopping=True, eta0=0.002, loss=log, max_iter=2000, penalty=l1; total time=   0.2s\n",
      "[CV 4/5] END alpha=0.0009, early_stopping=True, eta0=0.002, loss=log, max_iter=2000, penalty=l1; total time=   0.2s\n",
      "[CV 5/5] END alpha=0.0009, early_stopping=True, eta0=0.002, loss=log, max_iter=2000, penalty=l1; total time=   0.2s\n",
      "[CV 1/5] END alpha=0.0009, early_stopping=False, eta0=0.0, loss=hinge, max_iter=500, penalty=l2; total time=   0.1s\n",
      "[CV 2/5] END alpha=0.0009, early_stopping=False, eta0=0.0, loss=hinge, max_iter=500, penalty=l2; total time=   0.0s\n",
      "[CV 3/5] END alpha=0.0009, early_stopping=False, eta0=0.0, loss=hinge, max_iter=500, penalty=l2; total time=   0.0s\n",
      "[CV 4/5] END alpha=0.0009, early_stopping=False, eta0=0.0, loss=hinge, max_iter=500, penalty=l2; total time=   0.0s\n",
      "[CV 5/5] END alpha=0.0009, early_stopping=False, eta0=0.0, loss=hinge, max_iter=500, penalty=l2; total time=   0.0s\n",
      "[CV 1/5] END alpha=0.0009, early_stopping=False, eta0=0.0, loss=hinge, max_iter=500, penalty=l1; total time=   0.1s\n",
      "[CV 2/5] END alpha=0.0009, early_stopping=False, eta0=0.0, loss=hinge, max_iter=500, penalty=l1; total time=   0.1s\n",
      "[CV 3/5] END alpha=0.0009, early_stopping=False, eta0=0.0, loss=hinge, max_iter=500, penalty=l1; total time=   0.1s\n",
      "[CV 4/5] END alpha=0.0009, early_stopping=False, eta0=0.0, loss=hinge, max_iter=500, penalty=l1; total time=   0.1s\n",
      "[CV 5/5] END alpha=0.0009, early_stopping=False, eta0=0.0, loss=hinge, max_iter=500, penalty=l1; total time=   0.1s\n",
      "[CV 1/5] END alpha=0.0009, early_stopping=False, eta0=0.0, loss=hinge, max_iter=1500, penalty=l2; total time=   0.0s\n",
      "[CV 2/5] END alpha=0.0009, early_stopping=False, eta0=0.0, loss=hinge, max_iter=1500, penalty=l2; total time=   0.0s\n",
      "[CV 3/5] END alpha=0.0009, early_stopping=False, eta0=0.0, loss=hinge, max_iter=1500, penalty=l2; total time=   0.0s\n",
      "[CV 4/5] END alpha=0.0009, early_stopping=False, eta0=0.0, loss=hinge, max_iter=1500, penalty=l2; total time=   0.0s\n",
      "[CV 5/5] END alpha=0.0009, early_stopping=False, eta0=0.0, loss=hinge, max_iter=1500, penalty=l2; total time=   0.0s\n",
      "[CV 1/5] END alpha=0.0009, early_stopping=False, eta0=0.0, loss=hinge, max_iter=1500, penalty=l1; total time=   0.1s\n",
      "[CV 2/5] END alpha=0.0009, early_stopping=False, eta0=0.0, loss=hinge, max_iter=1500, penalty=l1; total time=   0.1s\n",
      "[CV 3/5] END alpha=0.0009, early_stopping=False, eta0=0.0, loss=hinge, max_iter=1500, penalty=l1; total time=   0.1s\n",
      "[CV 4/5] END alpha=0.0009, early_stopping=False, eta0=0.0, loss=hinge, max_iter=1500, penalty=l1; total time=   0.1s\n",
      "[CV 5/5] END alpha=0.0009, early_stopping=False, eta0=0.0, loss=hinge, max_iter=1500, penalty=l1; total time=   0.1s\n",
      "[CV 1/5] END alpha=0.0009, early_stopping=False, eta0=0.0, loss=hinge, max_iter=2000, penalty=l2; total time=   0.0s\n",
      "[CV 2/5] END alpha=0.0009, early_stopping=False, eta0=0.0, loss=hinge, max_iter=2000, penalty=l2; total time=   0.0s\n",
      "[CV 3/5] END alpha=0.0009, early_stopping=False, eta0=0.0, loss=hinge, max_iter=2000, penalty=l2; total time=   0.0s\n",
      "[CV 4/5] END alpha=0.0009, early_stopping=False, eta0=0.0, loss=hinge, max_iter=2000, penalty=l2; total time=   0.0s\n",
      "[CV 5/5] END alpha=0.0009, early_stopping=False, eta0=0.0, loss=hinge, max_iter=2000, penalty=l2; total time=   0.0s\n",
      "[CV 1/5] END alpha=0.0009, early_stopping=False, eta0=0.0, loss=hinge, max_iter=2000, penalty=l1; total time=   0.1s\n",
      "[CV 2/5] END alpha=0.0009, early_stopping=False, eta0=0.0, loss=hinge, max_iter=2000, penalty=l1; total time=   0.1s\n",
      "[CV 3/5] END alpha=0.0009, early_stopping=False, eta0=0.0, loss=hinge, max_iter=2000, penalty=l1; total time=   0.1s\n",
      "[CV 4/5] END alpha=0.0009, early_stopping=False, eta0=0.0, loss=hinge, max_iter=2000, penalty=l1; total time=   0.1s\n",
      "[CV 5/5] END alpha=0.0009, early_stopping=False, eta0=0.0, loss=hinge, max_iter=2000, penalty=l1; total time=   0.1s\n",
      "[CV 1/5] END alpha=0.0009, early_stopping=False, eta0=0.0, loss=log, max_iter=500, penalty=l2; total time=   0.1s\n",
      "[CV 2/5] END alpha=0.0009, early_stopping=False, eta0=0.0, loss=log, max_iter=500, penalty=l2; total time=   0.1s\n",
      "[CV 3/5] END alpha=0.0009, early_stopping=False, eta0=0.0, loss=log, max_iter=500, penalty=l2; total time=   0.1s\n",
      "[CV 4/5] END alpha=0.0009, early_stopping=False, eta0=0.0, loss=log, max_iter=500, penalty=l2; total time=   0.1s\n",
      "[CV 5/5] END alpha=0.0009, early_stopping=False, eta0=0.0, loss=log, max_iter=500, penalty=l2; total time=   0.1s\n",
      "[CV 1/5] END alpha=0.0009, early_stopping=False, eta0=0.0, loss=log, max_iter=500, penalty=l1; total time=   0.1s\n",
      "[CV 2/5] END alpha=0.0009, early_stopping=False, eta0=0.0, loss=log, max_iter=500, penalty=l1; total time=   0.1s\n",
      "[CV 3/5] END alpha=0.0009, early_stopping=False, eta0=0.0, loss=log, max_iter=500, penalty=l1; total time=   0.1s\n",
      "[CV 4/5] END alpha=0.0009, early_stopping=False, eta0=0.0, loss=log, max_iter=500, penalty=l1; total time=   0.1s\n",
      "[CV 5/5] END alpha=0.0009, early_stopping=False, eta0=0.0, loss=log, max_iter=500, penalty=l1; total time=   0.1s\n",
      "[CV 1/5] END alpha=0.0009, early_stopping=False, eta0=0.0, loss=log, max_iter=1500, penalty=l2; total time=   0.1s\n",
      "[CV 2/5] END alpha=0.0009, early_stopping=False, eta0=0.0, loss=log, max_iter=1500, penalty=l2; total time=   0.1s\n",
      "[CV 3/5] END alpha=0.0009, early_stopping=False, eta0=0.0, loss=log, max_iter=1500, penalty=l2; total time=   0.1s\n",
      "[CV 4/5] END alpha=0.0009, early_stopping=False, eta0=0.0, loss=log, max_iter=1500, penalty=l2; total time=   0.1s\n",
      "[CV 5/5] END alpha=0.0009, early_stopping=False, eta0=0.0, loss=log, max_iter=1500, penalty=l2; total time=   0.1s\n",
      "[CV 1/5] END alpha=0.0009, early_stopping=False, eta0=0.0, loss=log, max_iter=1500, penalty=l1; total time=   0.1s\n",
      "[CV 2/5] END alpha=0.0009, early_stopping=False, eta0=0.0, loss=log, max_iter=1500, penalty=l1; total time=   0.1s\n",
      "[CV 3/5] END alpha=0.0009, early_stopping=False, eta0=0.0, loss=log, max_iter=1500, penalty=l1; total time=   0.2s\n",
      "[CV 4/5] END alpha=0.0009, early_stopping=False, eta0=0.0, loss=log, max_iter=1500, penalty=l1; total time=   0.1s\n",
      "[CV 5/5] END alpha=0.0009, early_stopping=False, eta0=0.0, loss=log, max_iter=1500, penalty=l1; total time=   0.1s\n",
      "[CV 1/5] END alpha=0.0009, early_stopping=False, eta0=0.0, loss=log, max_iter=2000, penalty=l2; total time=   0.1s\n",
      "[CV 2/5] END alpha=0.0009, early_stopping=False, eta0=0.0, loss=log, max_iter=2000, penalty=l2; total time=   0.1s\n",
      "[CV 3/5] END alpha=0.0009, early_stopping=False, eta0=0.0, loss=log, max_iter=2000, penalty=l2; total time=   0.1s\n",
      "[CV 4/5] END alpha=0.0009, early_stopping=False, eta0=0.0, loss=log, max_iter=2000, penalty=l2; total time=   0.1s\n",
      "[CV 5/5] END alpha=0.0009, early_stopping=False, eta0=0.0, loss=log, max_iter=2000, penalty=l2; total time=   0.1s\n",
      "[CV 1/5] END alpha=0.0009, early_stopping=False, eta0=0.0, loss=log, max_iter=2000, penalty=l1; total time=   0.1s\n",
      "[CV 2/5] END alpha=0.0009, early_stopping=False, eta0=0.0, loss=log, max_iter=2000, penalty=l1; total time=   0.1s\n",
      "[CV 3/5] END alpha=0.0009, early_stopping=False, eta0=0.0, loss=log, max_iter=2000, penalty=l1; total time=   0.1s\n",
      "[CV 4/5] END alpha=0.0009, early_stopping=False, eta0=0.0, loss=log, max_iter=2000, penalty=l1; total time=   0.1s\n",
      "[CV 5/5] END alpha=0.0009, early_stopping=False, eta0=0.0, loss=log, max_iter=2000, penalty=l1; total time=   0.1s\n",
      "[CV 1/5] END alpha=0.0009, early_stopping=False, eta0=0.002, loss=hinge, max_iter=500, penalty=l2; total time=   0.1s\n",
      "[CV 2/5] END alpha=0.0009, early_stopping=False, eta0=0.002, loss=hinge, max_iter=500, penalty=l2; total time=   0.1s\n",
      "[CV 3/5] END alpha=0.0009, early_stopping=False, eta0=0.002, loss=hinge, max_iter=500, penalty=l2; total time=   0.0s\n",
      "[CV 4/5] END alpha=0.0009, early_stopping=False, eta0=0.002, loss=hinge, max_iter=500, penalty=l2; total time=   0.0s\n",
      "[CV 5/5] END alpha=0.0009, early_stopping=False, eta0=0.002, loss=hinge, max_iter=500, penalty=l2; total time=   0.0s\n",
      "[CV 1/5] END alpha=0.0009, early_stopping=False, eta0=0.002, loss=hinge, max_iter=500, penalty=l1; total time=   0.1s\n",
      "[CV 2/5] END alpha=0.0009, early_stopping=False, eta0=0.002, loss=hinge, max_iter=500, penalty=l1; total time=   0.0s\n",
      "[CV 3/5] END alpha=0.0009, early_stopping=False, eta0=0.002, loss=hinge, max_iter=500, penalty=l1; total time=   0.0s\n",
      "[CV 4/5] END alpha=0.0009, early_stopping=False, eta0=0.002, loss=hinge, max_iter=500, penalty=l1; total time=   0.0s\n",
      "[CV 5/5] END alpha=0.0009, early_stopping=False, eta0=0.002, loss=hinge, max_iter=500, penalty=l1; total time=   0.1s\n",
      "[CV 1/5] END alpha=0.0009, early_stopping=False, eta0=0.002, loss=hinge, max_iter=1500, penalty=l2; total time=   0.0s\n",
      "[CV 2/5] END alpha=0.0009, early_stopping=False, eta0=0.002, loss=hinge, max_iter=1500, penalty=l2; total time=   0.0s\n",
      "[CV 3/5] END alpha=0.0009, early_stopping=False, eta0=0.002, loss=hinge, max_iter=1500, penalty=l2; total time=   0.0s\n",
      "[CV 4/5] END alpha=0.0009, early_stopping=False, eta0=0.002, loss=hinge, max_iter=1500, penalty=l2; total time=   0.0s\n",
      "[CV 5/5] END alpha=0.0009, early_stopping=False, eta0=0.002, loss=hinge, max_iter=1500, penalty=l2; total time=   0.0s\n",
      "[CV 1/5] END alpha=0.0009, early_stopping=False, eta0=0.002, loss=hinge, max_iter=1500, penalty=l1; total time=   0.1s\n",
      "[CV 2/5] END alpha=0.0009, early_stopping=False, eta0=0.002, loss=hinge, max_iter=1500, penalty=l1; total time=   0.1s\n",
      "[CV 3/5] END alpha=0.0009, early_stopping=False, eta0=0.002, loss=hinge, max_iter=1500, penalty=l1; total time=   0.1s\n",
      "[CV 4/5] END alpha=0.0009, early_stopping=False, eta0=0.002, loss=hinge, max_iter=1500, penalty=l1; total time=   0.1s\n",
      "[CV 5/5] END alpha=0.0009, early_stopping=False, eta0=0.002, loss=hinge, max_iter=1500, penalty=l1; total time=   0.0s\n",
      "[CV 1/5] END alpha=0.0009, early_stopping=False, eta0=0.002, loss=hinge, max_iter=2000, penalty=l2; total time=   0.0s\n",
      "[CV 2/5] END alpha=0.0009, early_stopping=False, eta0=0.002, loss=hinge, max_iter=2000, penalty=l2; total time=   0.0s\n",
      "[CV 3/5] END alpha=0.0009, early_stopping=False, eta0=0.002, loss=hinge, max_iter=2000, penalty=l2; total time=   0.0s\n",
      "[CV 4/5] END alpha=0.0009, early_stopping=False, eta0=0.002, loss=hinge, max_iter=2000, penalty=l2; total time=   0.0s\n",
      "[CV 5/5] END alpha=0.0009, early_stopping=False, eta0=0.002, loss=hinge, max_iter=2000, penalty=l2; total time=   0.0s\n",
      "[CV 1/5] END alpha=0.0009, early_stopping=False, eta0=0.002, loss=hinge, max_iter=2000, penalty=l1; total time=   0.1s\n",
      "[CV 2/5] END alpha=0.0009, early_stopping=False, eta0=0.002, loss=hinge, max_iter=2000, penalty=l1; total time=   0.1s\n",
      "[CV 3/5] END alpha=0.0009, early_stopping=False, eta0=0.002, loss=hinge, max_iter=2000, penalty=l1; total time=   0.0s\n",
      "[CV 4/5] END alpha=0.0009, early_stopping=False, eta0=0.002, loss=hinge, max_iter=2000, penalty=l1; total time=   0.1s\n",
      "[CV 5/5] END alpha=0.0009, early_stopping=False, eta0=0.002, loss=hinge, max_iter=2000, penalty=l1; total time=   0.0s\n",
      "[CV 1/5] END alpha=0.0009, early_stopping=False, eta0=0.002, loss=log, max_iter=500, penalty=l2; total time=   0.1s\n",
      "[CV 2/5] END alpha=0.0009, early_stopping=False, eta0=0.002, loss=log, max_iter=500, penalty=l2; total time=   0.1s\n",
      "[CV 3/5] END alpha=0.0009, early_stopping=False, eta0=0.002, loss=log, max_iter=500, penalty=l2; total time=   0.1s\n",
      "[CV 4/5] END alpha=0.0009, early_stopping=False, eta0=0.002, loss=log, max_iter=500, penalty=l2; total time=   0.1s\n",
      "[CV 5/5] END alpha=0.0009, early_stopping=False, eta0=0.002, loss=log, max_iter=500, penalty=l2; total time=   0.1s\n",
      "[CV 1/5] END alpha=0.0009, early_stopping=False, eta0=0.002, loss=log, max_iter=500, penalty=l1; total time=   0.1s\n",
      "[CV 2/5] END alpha=0.0009, early_stopping=False, eta0=0.002, loss=log, max_iter=500, penalty=l1; total time=   0.1s\n",
      "[CV 3/5] END alpha=0.0009, early_stopping=False, eta0=0.002, loss=log, max_iter=500, penalty=l1; total time=   0.1s\n",
      "[CV 4/5] END alpha=0.0009, early_stopping=False, eta0=0.002, loss=log, max_iter=500, penalty=l1; total time=   0.1s\n",
      "[CV 5/5] END alpha=0.0009, early_stopping=False, eta0=0.002, loss=log, max_iter=500, penalty=l1; total time=   0.1s\n",
      "[CV 1/5] END alpha=0.0009, early_stopping=False, eta0=0.002, loss=log, max_iter=1500, penalty=l2; total time=   0.1s\n",
      "[CV 2/5] END alpha=0.0009, early_stopping=False, eta0=0.002, loss=log, max_iter=1500, penalty=l2; total time=   0.1s\n",
      "[CV 3/5] END alpha=0.0009, early_stopping=False, eta0=0.002, loss=log, max_iter=1500, penalty=l2; total time=   0.1s\n",
      "[CV 4/5] END alpha=0.0009, early_stopping=False, eta0=0.002, loss=log, max_iter=1500, penalty=l2; total time=   0.1s\n",
      "[CV 5/5] END alpha=0.0009, early_stopping=False, eta0=0.002, loss=log, max_iter=1500, penalty=l2; total time=   0.1s\n",
      "[CV 1/5] END alpha=0.0009, early_stopping=False, eta0=0.002, loss=log, max_iter=1500, penalty=l1; total time=   0.1s\n",
      "[CV 2/5] END alpha=0.0009, early_stopping=False, eta0=0.002, loss=log, max_iter=1500, penalty=l1; total time=   0.1s\n",
      "[CV 3/5] END alpha=0.0009, early_stopping=False, eta0=0.002, loss=log, max_iter=1500, penalty=l1; total time=   0.1s\n",
      "[CV 4/5] END alpha=0.0009, early_stopping=False, eta0=0.002, loss=log, max_iter=1500, penalty=l1; total time=   0.1s\n",
      "[CV 5/5] END alpha=0.0009, early_stopping=False, eta0=0.002, loss=log, max_iter=1500, penalty=l1; total time=   0.1s\n",
      "[CV 1/5] END alpha=0.0009, early_stopping=False, eta0=0.002, loss=log, max_iter=2000, penalty=l2; total time=   0.1s\n",
      "[CV 2/5] END alpha=0.0009, early_stopping=False, eta0=0.002, loss=log, max_iter=2000, penalty=l2; total time=   0.1s\n",
      "[CV 3/5] END alpha=0.0009, early_stopping=False, eta0=0.002, loss=log, max_iter=2000, penalty=l2; total time=   0.1s\n",
      "[CV 4/5] END alpha=0.0009, early_stopping=False, eta0=0.002, loss=log, max_iter=2000, penalty=l2; total time=   0.1s\n",
      "[CV 5/5] END alpha=0.0009, early_stopping=False, eta0=0.002, loss=log, max_iter=2000, penalty=l2; total time=   0.1s\n",
      "[CV 1/5] END alpha=0.0009, early_stopping=False, eta0=0.002, loss=log, max_iter=2000, penalty=l1; total time=   0.1s\n",
      "[CV 2/5] END alpha=0.0009, early_stopping=False, eta0=0.002, loss=log, max_iter=2000, penalty=l1; total time=   0.2s\n",
      "[CV 3/5] END alpha=0.0009, early_stopping=False, eta0=0.002, loss=log, max_iter=2000, penalty=l1; total time=   0.1s\n",
      "[CV 4/5] END alpha=0.0009, early_stopping=False, eta0=0.002, loss=log, max_iter=2000, penalty=l1; total time=   0.1s\n",
      "[CV 5/5] END alpha=0.0009, early_stopping=False, eta0=0.002, loss=log, max_iter=2000, penalty=l1; total time=   0.1s\n",
      "[CV 1/5] END alpha=0.001, early_stopping=True, eta0=0.0, loss=hinge, max_iter=500, penalty=l2; total time=   0.1s\n",
      "[CV 2/5] END alpha=0.001, early_stopping=True, eta0=0.0, loss=hinge, max_iter=500, penalty=l2; total time=   0.1s\n",
      "[CV 3/5] END alpha=0.001, early_stopping=True, eta0=0.0, loss=hinge, max_iter=500, penalty=l2; total time=   0.1s\n",
      "[CV 4/5] END alpha=0.001, early_stopping=True, eta0=0.0, loss=hinge, max_iter=500, penalty=l2; total time=   0.1s\n",
      "[CV 5/5] END alpha=0.001, early_stopping=True, eta0=0.0, loss=hinge, max_iter=500, penalty=l2; total time=   0.2s\n",
      "[CV 1/5] END alpha=0.001, early_stopping=True, eta0=0.0, loss=hinge, max_iter=500, penalty=l1; total time=   0.2s\n",
      "[CV 2/5] END alpha=0.001, early_stopping=True, eta0=0.0, loss=hinge, max_iter=500, penalty=l1; total time=   0.1s\n",
      "[CV 3/5] END alpha=0.001, early_stopping=True, eta0=0.0, loss=hinge, max_iter=500, penalty=l1; total time=   0.2s\n",
      "[CV 4/5] END alpha=0.001, early_stopping=True, eta0=0.0, loss=hinge, max_iter=500, penalty=l1; total time=   0.2s\n",
      "[CV 5/5] END alpha=0.001, early_stopping=True, eta0=0.0, loss=hinge, max_iter=500, penalty=l1; total time=   0.2s\n",
      "[CV 1/5] END alpha=0.001, early_stopping=True, eta0=0.0, loss=hinge, max_iter=1500, penalty=l2; total time=   0.2s\n",
      "[CV 2/5] END alpha=0.001, early_stopping=True, eta0=0.0, loss=hinge, max_iter=1500, penalty=l2; total time=   0.1s\n",
      "[CV 3/5] END alpha=0.001, early_stopping=True, eta0=0.0, loss=hinge, max_iter=1500, penalty=l2; total time=   0.2s\n",
      "[CV 4/5] END alpha=0.001, early_stopping=True, eta0=0.0, loss=hinge, max_iter=1500, penalty=l2; total time=   0.1s\n",
      "[CV 5/5] END alpha=0.001, early_stopping=True, eta0=0.0, loss=hinge, max_iter=1500, penalty=l2; total time=   0.1s\n",
      "[CV 1/5] END alpha=0.001, early_stopping=True, eta0=0.0, loss=hinge, max_iter=1500, penalty=l1; total time=   0.2s\n",
      "[CV 2/5] END alpha=0.001, early_stopping=True, eta0=0.0, loss=hinge, max_iter=1500, penalty=l1; total time=   0.1s\n",
      "[CV 3/5] END alpha=0.001, early_stopping=True, eta0=0.0, loss=hinge, max_iter=1500, penalty=l1; total time=   0.2s\n",
      "[CV 4/5] END alpha=0.001, early_stopping=True, eta0=0.0, loss=hinge, max_iter=1500, penalty=l1; total time=   0.2s\n",
      "[CV 5/5] END alpha=0.001, early_stopping=True, eta0=0.0, loss=hinge, max_iter=1500, penalty=l1; total time=   0.2s\n",
      "[CV 1/5] END alpha=0.001, early_stopping=True, eta0=0.0, loss=hinge, max_iter=2000, penalty=l2; total time=   0.2s\n",
      "[CV 2/5] END alpha=0.001, early_stopping=True, eta0=0.0, loss=hinge, max_iter=2000, penalty=l2; total time=   0.1s\n",
      "[CV 3/5] END alpha=0.001, early_stopping=True, eta0=0.0, loss=hinge, max_iter=2000, penalty=l2; total time=   0.2s\n",
      "[CV 4/5] END alpha=0.001, early_stopping=True, eta0=0.0, loss=hinge, max_iter=2000, penalty=l2; total time=   0.2s\n",
      "[CV 5/5] END alpha=0.001, early_stopping=True, eta0=0.0, loss=hinge, max_iter=2000, penalty=l2; total time=   0.2s\n",
      "[CV 1/5] END alpha=0.001, early_stopping=True, eta0=0.0, loss=hinge, max_iter=2000, penalty=l1; total time=   0.2s\n",
      "[CV 2/5] END alpha=0.001, early_stopping=True, eta0=0.0, loss=hinge, max_iter=2000, penalty=l1; total time=   0.2s\n",
      "[CV 3/5] END alpha=0.001, early_stopping=True, eta0=0.0, loss=hinge, max_iter=2000, penalty=l1; total time=   0.2s\n",
      "[CV 4/5] END alpha=0.001, early_stopping=True, eta0=0.0, loss=hinge, max_iter=2000, penalty=l1; total time=   0.2s\n",
      "[CV 5/5] END alpha=0.001, early_stopping=True, eta0=0.0, loss=hinge, max_iter=2000, penalty=l1; total time=   0.3s\n",
      "[CV 1/5] END alpha=0.001, early_stopping=True, eta0=0.0, loss=log, max_iter=500, penalty=l2; total time=   0.3s\n",
      "[CV 2/5] END alpha=0.001, early_stopping=True, eta0=0.0, loss=log, max_iter=500, penalty=l2; total time=   0.5s\n",
      "[CV 3/5] END alpha=0.001, early_stopping=True, eta0=0.0, loss=log, max_iter=500, penalty=l2; total time=   0.2s\n",
      "[CV 4/5] END alpha=0.001, early_stopping=True, eta0=0.0, loss=log, max_iter=500, penalty=l2; total time=   0.2s\n",
      "[CV 5/5] END alpha=0.001, early_stopping=True, eta0=0.0, loss=log, max_iter=500, penalty=l2; total time=   0.3s\n",
      "[CV 1/5] END alpha=0.001, early_stopping=True, eta0=0.0, loss=log, max_iter=500, penalty=l1; total time=   0.3s\n",
      "[CV 2/5] END alpha=0.001, early_stopping=True, eta0=0.0, loss=log, max_iter=500, penalty=l1; total time=   0.3s\n",
      "[CV 3/5] END alpha=0.001, early_stopping=True, eta0=0.0, loss=log, max_iter=500, penalty=l1; total time=   0.3s\n",
      "[CV 4/5] END alpha=0.001, early_stopping=True, eta0=0.0, loss=log, max_iter=500, penalty=l1; total time=   0.3s\n",
      "[CV 5/5] END alpha=0.001, early_stopping=True, eta0=0.0, loss=log, max_iter=500, penalty=l1; total time=   0.3s\n",
      "[CV 1/5] END alpha=0.001, early_stopping=True, eta0=0.0, loss=log, max_iter=1500, penalty=l2; total time=   0.3s\n",
      "[CV 2/5] END alpha=0.001, early_stopping=True, eta0=0.0, loss=log, max_iter=1500, penalty=l2; total time=   0.2s\n",
      "[CV 3/5] END alpha=0.001, early_stopping=True, eta0=0.0, loss=log, max_iter=1500, penalty=l2; total time=   0.2s\n",
      "[CV 4/5] END alpha=0.001, early_stopping=True, eta0=0.0, loss=log, max_iter=1500, penalty=l2; total time=   0.2s\n",
      "[CV 5/5] END alpha=0.001, early_stopping=True, eta0=0.0, loss=log, max_iter=1500, penalty=l2; total time=   0.2s\n",
      "[CV 1/5] END alpha=0.001, early_stopping=True, eta0=0.0, loss=log, max_iter=1500, penalty=l1; total time=   0.2s\n",
      "[CV 2/5] END alpha=0.001, early_stopping=True, eta0=0.0, loss=log, max_iter=1500, penalty=l1; total time=   0.2s\n",
      "[CV 3/5] END alpha=0.001, early_stopping=True, eta0=0.0, loss=log, max_iter=1500, penalty=l1; total time=   0.2s\n",
      "[CV 4/5] END alpha=0.001, early_stopping=True, eta0=0.0, loss=log, max_iter=1500, penalty=l1; total time=   0.3s\n",
      "[CV 5/5] END alpha=0.001, early_stopping=True, eta0=0.0, loss=log, max_iter=1500, penalty=l1; total time=   0.2s\n",
      "[CV 1/5] END alpha=0.001, early_stopping=True, eta0=0.0, loss=log, max_iter=2000, penalty=l2; total time=   0.2s\n",
      "[CV 2/5] END alpha=0.001, early_stopping=True, eta0=0.0, loss=log, max_iter=2000, penalty=l2; total time=   0.2s\n",
      "[CV 3/5] END alpha=0.001, early_stopping=True, eta0=0.0, loss=log, max_iter=2000, penalty=l2; total time=   0.2s\n",
      "[CV 4/5] END alpha=0.001, early_stopping=True, eta0=0.0, loss=log, max_iter=2000, penalty=l2; total time=   0.2s\n",
      "[CV 5/5] END alpha=0.001, early_stopping=True, eta0=0.0, loss=log, max_iter=2000, penalty=l2; total time=   0.2s\n",
      "[CV 1/5] END alpha=0.001, early_stopping=True, eta0=0.0, loss=log, max_iter=2000, penalty=l1; total time=   0.2s\n",
      "[CV 2/5] END alpha=0.001, early_stopping=True, eta0=0.0, loss=log, max_iter=2000, penalty=l1; total time=   0.2s\n",
      "[CV 3/5] END alpha=0.001, early_stopping=True, eta0=0.0, loss=log, max_iter=2000, penalty=l1; total time=   0.2s\n",
      "[CV 4/5] END alpha=0.001, early_stopping=True, eta0=0.0, loss=log, max_iter=2000, penalty=l1; total time=   0.3s\n",
      "[CV 5/5] END alpha=0.001, early_stopping=True, eta0=0.0, loss=log, max_iter=2000, penalty=l1; total time=   0.2s\n",
      "[CV 1/5] END alpha=0.001, early_stopping=True, eta0=0.002, loss=hinge, max_iter=500, penalty=l2; total time=   0.2s\n",
      "[CV 2/5] END alpha=0.001, early_stopping=True, eta0=0.002, loss=hinge, max_iter=500, penalty=l2; total time=   0.1s\n",
      "[CV 3/5] END alpha=0.001, early_stopping=True, eta0=0.002, loss=hinge, max_iter=500, penalty=l2; total time=   0.1s\n",
      "[CV 4/5] END alpha=0.001, early_stopping=True, eta0=0.002, loss=hinge, max_iter=500, penalty=l2; total time=   0.2s\n",
      "[CV 5/5] END alpha=0.001, early_stopping=True, eta0=0.002, loss=hinge, max_iter=500, penalty=l2; total time=   0.2s\n",
      "[CV 1/5] END alpha=0.001, early_stopping=True, eta0=0.002, loss=hinge, max_iter=500, penalty=l1; total time=   0.2s\n",
      "[CV 2/5] END alpha=0.001, early_stopping=True, eta0=0.002, loss=hinge, max_iter=500, penalty=l1; total time=   0.3s\n",
      "[CV 3/5] END alpha=0.001, early_stopping=True, eta0=0.002, loss=hinge, max_iter=500, penalty=l1; total time=   0.2s\n",
      "[CV 4/5] END alpha=0.001, early_stopping=True, eta0=0.002, loss=hinge, max_iter=500, penalty=l1; total time=   0.2s\n",
      "[CV 5/5] END alpha=0.001, early_stopping=True, eta0=0.002, loss=hinge, max_iter=500, penalty=l1; total time=   0.2s\n",
      "[CV 1/5] END alpha=0.001, early_stopping=True, eta0=0.002, loss=hinge, max_iter=1500, penalty=l2; total time=   0.2s\n",
      "[CV 2/5] END alpha=0.001, early_stopping=True, eta0=0.002, loss=hinge, max_iter=1500, penalty=l2; total time=   0.1s\n",
      "[CV 3/5] END alpha=0.001, early_stopping=True, eta0=0.002, loss=hinge, max_iter=1500, penalty=l2; total time=   0.2s\n",
      "[CV 4/5] END alpha=0.001, early_stopping=True, eta0=0.002, loss=hinge, max_iter=1500, penalty=l2; total time=   0.2s\n",
      "[CV 5/5] END alpha=0.001, early_stopping=True, eta0=0.002, loss=hinge, max_iter=1500, penalty=l2; total time=   0.1s\n",
      "[CV 1/5] END alpha=0.001, early_stopping=True, eta0=0.002, loss=hinge, max_iter=1500, penalty=l1; total time=   0.2s\n",
      "[CV 2/5] END alpha=0.001, early_stopping=True, eta0=0.002, loss=hinge, max_iter=1500, penalty=l1; total time=   0.2s\n",
      "[CV 3/5] END alpha=0.001, early_stopping=True, eta0=0.002, loss=hinge, max_iter=1500, penalty=l1; total time=   0.2s\n",
      "[CV 4/5] END alpha=0.001, early_stopping=True, eta0=0.002, loss=hinge, max_iter=1500, penalty=l1; total time=   0.2s\n",
      "[CV 5/5] END alpha=0.001, early_stopping=True, eta0=0.002, loss=hinge, max_iter=1500, penalty=l1; total time=   0.2s\n",
      "[CV 1/5] END alpha=0.001, early_stopping=True, eta0=0.002, loss=hinge, max_iter=2000, penalty=l2; total time=   0.1s\n",
      "[CV 2/5] END alpha=0.001, early_stopping=True, eta0=0.002, loss=hinge, max_iter=2000, penalty=l2; total time=   0.2s\n",
      "[CV 3/5] END alpha=0.001, early_stopping=True, eta0=0.002, loss=hinge, max_iter=2000, penalty=l2; total time=   0.2s\n",
      "[CV 4/5] END alpha=0.001, early_stopping=True, eta0=0.002, loss=hinge, max_iter=2000, penalty=l2; total time=   0.2s\n",
      "[CV 5/5] END alpha=0.001, early_stopping=True, eta0=0.002, loss=hinge, max_iter=2000, penalty=l2; total time=   0.1s\n",
      "[CV 1/5] END alpha=0.001, early_stopping=True, eta0=0.002, loss=hinge, max_iter=2000, penalty=l1; total time=   0.2s\n",
      "[CV 2/5] END alpha=0.001, early_stopping=True, eta0=0.002, loss=hinge, max_iter=2000, penalty=l1; total time=   0.2s\n",
      "[CV 3/5] END alpha=0.001, early_stopping=True, eta0=0.002, loss=hinge, max_iter=2000, penalty=l1; total time=   0.2s\n",
      "[CV 4/5] END alpha=0.001, early_stopping=True, eta0=0.002, loss=hinge, max_iter=2000, penalty=l1; total time=   0.2s\n",
      "[CV 5/5] END alpha=0.001, early_stopping=True, eta0=0.002, loss=hinge, max_iter=2000, penalty=l1; total time=   0.2s\n",
      "[CV 1/5] END alpha=0.001, early_stopping=True, eta0=0.002, loss=log, max_iter=500, penalty=l2; total time=   0.2s\n",
      "[CV 2/5] END alpha=0.001, early_stopping=True, eta0=0.002, loss=log, max_iter=500, penalty=l2; total time=   0.2s\n",
      "[CV 3/5] END alpha=0.001, early_stopping=True, eta0=0.002, loss=log, max_iter=500, penalty=l2; total time=   0.2s\n",
      "[CV 4/5] END alpha=0.001, early_stopping=True, eta0=0.002, loss=log, max_iter=500, penalty=l2; total time=   0.2s\n",
      "[CV 5/5] END alpha=0.001, early_stopping=True, eta0=0.002, loss=log, max_iter=500, penalty=l2; total time=   0.2s\n",
      "[CV 1/5] END alpha=0.001, early_stopping=True, eta0=0.002, loss=log, max_iter=500, penalty=l1; total time=   0.2s\n",
      "[CV 2/5] END alpha=0.001, early_stopping=True, eta0=0.002, loss=log, max_iter=500, penalty=l1; total time=   0.3s\n",
      "[CV 3/5] END alpha=0.001, early_stopping=True, eta0=0.002, loss=log, max_iter=500, penalty=l1; total time=   0.2s\n",
      "[CV 4/5] END alpha=0.001, early_stopping=True, eta0=0.002, loss=log, max_iter=500, penalty=l1; total time=   0.2s\n",
      "[CV 5/5] END alpha=0.001, early_stopping=True, eta0=0.002, loss=log, max_iter=500, penalty=l1; total time=   0.2s\n",
      "[CV 1/5] END alpha=0.001, early_stopping=True, eta0=0.002, loss=log, max_iter=1500, penalty=l2; total time=   0.2s\n",
      "[CV 2/5] END alpha=0.001, early_stopping=True, eta0=0.002, loss=log, max_iter=1500, penalty=l2; total time=   0.2s\n",
      "[CV 3/5] END alpha=0.001, early_stopping=True, eta0=0.002, loss=log, max_iter=1500, penalty=l2; total time=   0.2s\n",
      "[CV 4/5] END alpha=0.001, early_stopping=True, eta0=0.002, loss=log, max_iter=1500, penalty=l2; total time=   0.2s\n",
      "[CV 5/5] END alpha=0.001, early_stopping=True, eta0=0.002, loss=log, max_iter=1500, penalty=l2; total time=   0.2s\n",
      "[CV 1/5] END alpha=0.001, early_stopping=True, eta0=0.002, loss=log, max_iter=1500, penalty=l1; total time=   0.2s\n",
      "[CV 2/5] END alpha=0.001, early_stopping=True, eta0=0.002, loss=log, max_iter=1500, penalty=l1; total time=   0.2s\n",
      "[CV 3/5] END alpha=0.001, early_stopping=True, eta0=0.002, loss=log, max_iter=1500, penalty=l1; total time=   0.2s\n",
      "[CV 4/5] END alpha=0.001, early_stopping=True, eta0=0.002, loss=log, max_iter=1500, penalty=l1; total time=   0.3s\n",
      "[CV 5/5] END alpha=0.001, early_stopping=True, eta0=0.002, loss=log, max_iter=1500, penalty=l1; total time=   0.3s\n",
      "[CV 1/5] END alpha=0.001, early_stopping=True, eta0=0.002, loss=log, max_iter=2000, penalty=l2; total time=   0.3s\n",
      "[CV 2/5] END alpha=0.001, early_stopping=True, eta0=0.002, loss=log, max_iter=2000, penalty=l2; total time=   0.6s\n",
      "[CV 3/5] END alpha=0.001, early_stopping=True, eta0=0.002, loss=log, max_iter=2000, penalty=l2; total time=   0.3s\n",
      "[CV 4/5] END alpha=0.001, early_stopping=True, eta0=0.002, loss=log, max_iter=2000, penalty=l2; total time=   0.3s\n",
      "[CV 5/5] END alpha=0.001, early_stopping=True, eta0=0.002, loss=log, max_iter=2000, penalty=l2; total time=   0.3s\n",
      "[CV 1/5] END alpha=0.001, early_stopping=True, eta0=0.002, loss=log, max_iter=2000, penalty=l1; total time=   0.4s\n",
      "[CV 2/5] END alpha=0.001, early_stopping=True, eta0=0.002, loss=log, max_iter=2000, penalty=l1; total time=   0.4s\n",
      "[CV 3/5] END alpha=0.001, early_stopping=True, eta0=0.002, loss=log, max_iter=2000, penalty=l1; total time=   0.4s\n",
      "[CV 4/5] END alpha=0.001, early_stopping=True, eta0=0.002, loss=log, max_iter=2000, penalty=l1; total time=   0.4s\n",
      "[CV 5/5] END alpha=0.001, early_stopping=True, eta0=0.002, loss=log, max_iter=2000, penalty=l1; total time=   0.7s\n",
      "[CV 1/5] END alpha=0.001, early_stopping=False, eta0=0.0, loss=hinge, max_iter=500, penalty=l2; total time=   0.2s\n",
      "[CV 2/5] END alpha=0.001, early_stopping=False, eta0=0.0, loss=hinge, max_iter=500, penalty=l2; total time=   0.2s\n",
      "[CV 3/5] END alpha=0.001, early_stopping=False, eta0=0.0, loss=hinge, max_iter=500, penalty=l2; total time=   0.2s\n",
      "[CV 4/5] END alpha=0.001, early_stopping=False, eta0=0.0, loss=hinge, max_iter=500, penalty=l2; total time=   0.2s\n",
      "[CV 5/5] END alpha=0.001, early_stopping=False, eta0=0.0, loss=hinge, max_iter=500, penalty=l2; total time=   0.2s\n",
      "[CV 1/5] END alpha=0.001, early_stopping=False, eta0=0.0, loss=hinge, max_iter=500, penalty=l1; total time=   0.6s\n",
      "[CV 2/5] END alpha=0.001, early_stopping=False, eta0=0.0, loss=hinge, max_iter=500, penalty=l1; total time=   0.2s\n",
      "[CV 3/5] END alpha=0.001, early_stopping=False, eta0=0.0, loss=hinge, max_iter=500, penalty=l1; total time=   0.2s\n",
      "[CV 4/5] END alpha=0.001, early_stopping=False, eta0=0.0, loss=hinge, max_iter=500, penalty=l1; total time=   0.2s\n",
      "[CV 5/5] END alpha=0.001, early_stopping=False, eta0=0.0, loss=hinge, max_iter=500, penalty=l1; total time=   0.2s\n",
      "[CV 1/5] END alpha=0.001, early_stopping=False, eta0=0.0, loss=hinge, max_iter=1500, penalty=l2; total time=   0.1s\n",
      "[CV 2/5] END alpha=0.001, early_stopping=False, eta0=0.0, loss=hinge, max_iter=1500, penalty=l2; total time=   0.1s\n",
      "[CV 3/5] END alpha=0.001, early_stopping=False, eta0=0.0, loss=hinge, max_iter=1500, penalty=l2; total time=   0.1s\n",
      "[CV 4/5] END alpha=0.001, early_stopping=False, eta0=0.0, loss=hinge, max_iter=1500, penalty=l2; total time=   0.2s\n",
      "[CV 5/5] END alpha=0.001, early_stopping=False, eta0=0.0, loss=hinge, max_iter=1500, penalty=l2; total time=   0.2s\n",
      "[CV 1/5] END alpha=0.001, early_stopping=False, eta0=0.0, loss=hinge, max_iter=1500, penalty=l1; total time=   0.3s\n",
      "[CV 2/5] END alpha=0.001, early_stopping=False, eta0=0.0, loss=hinge, max_iter=1500, penalty=l1; total time=   0.4s\n",
      "[CV 3/5] END alpha=0.001, early_stopping=False, eta0=0.0, loss=hinge, max_iter=1500, penalty=l1; total time=   0.3s\n",
      "[CV 4/5] END alpha=0.001, early_stopping=False, eta0=0.0, loss=hinge, max_iter=1500, penalty=l1; total time=   0.2s\n",
      "[CV 5/5] END alpha=0.001, early_stopping=False, eta0=0.0, loss=hinge, max_iter=1500, penalty=l1; total time=   0.2s\n",
      "[CV 1/5] END alpha=0.001, early_stopping=False, eta0=0.0, loss=hinge, max_iter=2000, penalty=l2; total time=   0.1s\n",
      "[CV 2/5] END alpha=0.001, early_stopping=False, eta0=0.0, loss=hinge, max_iter=2000, penalty=l2; total time=   0.1s\n",
      "[CV 3/5] END alpha=0.001, early_stopping=False, eta0=0.0, loss=hinge, max_iter=2000, penalty=l2; total time=   0.1s\n",
      "[CV 4/5] END alpha=0.001, early_stopping=False, eta0=0.0, loss=hinge, max_iter=2000, penalty=l2; total time=   0.1s\n",
      "[CV 5/5] END alpha=0.001, early_stopping=False, eta0=0.0, loss=hinge, max_iter=2000, penalty=l2; total time=   0.1s\n",
      "[CV 1/5] END alpha=0.001, early_stopping=False, eta0=0.0, loss=hinge, max_iter=2000, penalty=l1; total time=   0.1s\n",
      "[CV 2/5] END alpha=0.001, early_stopping=False, eta0=0.0, loss=hinge, max_iter=2000, penalty=l1; total time=   0.1s\n",
      "[CV 3/5] END alpha=0.001, early_stopping=False, eta0=0.0, loss=hinge, max_iter=2000, penalty=l1; total time=   0.2s\n",
      "[CV 4/5] END alpha=0.001, early_stopping=False, eta0=0.0, loss=hinge, max_iter=2000, penalty=l1; total time=   0.2s\n",
      "[CV 5/5] END alpha=0.001, early_stopping=False, eta0=0.0, loss=hinge, max_iter=2000, penalty=l1; total time=   0.2s\n",
      "[CV 1/5] END alpha=0.001, early_stopping=False, eta0=0.0, loss=log, max_iter=500, penalty=l2; total time=   0.4s\n",
      "[CV 2/5] END alpha=0.001, early_stopping=False, eta0=0.0, loss=log, max_iter=500, penalty=l2; total time=   0.2s\n",
      "[CV 3/5] END alpha=0.001, early_stopping=False, eta0=0.0, loss=log, max_iter=500, penalty=l2; total time=   0.2s\n",
      "[CV 4/5] END alpha=0.001, early_stopping=False, eta0=0.0, loss=log, max_iter=500, penalty=l2; total time=   0.2s\n",
      "[CV 5/5] END alpha=0.001, early_stopping=False, eta0=0.0, loss=log, max_iter=500, penalty=l2; total time=   0.3s\n",
      "[CV 1/5] END alpha=0.001, early_stopping=False, eta0=0.0, loss=log, max_iter=500, penalty=l1; total time=   0.2s\n",
      "[CV 2/5] END alpha=0.001, early_stopping=False, eta0=0.0, loss=log, max_iter=500, penalty=l1; total time=   0.3s\n",
      "[CV 3/5] END alpha=0.001, early_stopping=False, eta0=0.0, loss=log, max_iter=500, penalty=l1; total time=   0.3s\n",
      "[CV 4/5] END alpha=0.001, early_stopping=False, eta0=0.0, loss=log, max_iter=500, penalty=l1; total time=   0.7s\n",
      "[CV 5/5] END alpha=0.001, early_stopping=False, eta0=0.0, loss=log, max_iter=500, penalty=l1; total time=   0.6s\n",
      "[CV 1/5] END alpha=0.001, early_stopping=False, eta0=0.0, loss=log, max_iter=1500, penalty=l2; total time=   0.3s\n",
      "[CV 2/5] END alpha=0.001, early_stopping=False, eta0=0.0, loss=log, max_iter=1500, penalty=l2; total time=   0.2s\n",
      "[CV 3/5] END alpha=0.001, early_stopping=False, eta0=0.0, loss=log, max_iter=1500, penalty=l2; total time=   0.2s\n",
      "[CV 4/5] END alpha=0.001, early_stopping=False, eta0=0.0, loss=log, max_iter=1500, penalty=l2; total time=   0.2s\n",
      "[CV 5/5] END alpha=0.001, early_stopping=False, eta0=0.0, loss=log, max_iter=1500, penalty=l2; total time=   0.2s\n",
      "[CV 1/5] END alpha=0.001, early_stopping=False, eta0=0.0, loss=log, max_iter=1500, penalty=l1; total time=   0.2s\n",
      "[CV 2/5] END alpha=0.001, early_stopping=False, eta0=0.0, loss=log, max_iter=1500, penalty=l1; total time=   0.3s\n",
      "[CV 3/5] END alpha=0.001, early_stopping=False, eta0=0.0, loss=log, max_iter=1500, penalty=l1; total time=   0.2s\n",
      "[CV 4/5] END alpha=0.001, early_stopping=False, eta0=0.0, loss=log, max_iter=1500, penalty=l1; total time=   0.2s\n",
      "[CV 5/5] END alpha=0.001, early_stopping=False, eta0=0.0, loss=log, max_iter=1500, penalty=l1; total time=   0.3s\n",
      "[CV 1/5] END alpha=0.001, early_stopping=False, eta0=0.0, loss=log, max_iter=2000, penalty=l2; total time=   0.2s\n",
      "[CV 2/5] END alpha=0.001, early_stopping=False, eta0=0.0, loss=log, max_iter=2000, penalty=l2; total time=   0.2s\n",
      "[CV 3/5] END alpha=0.001, early_stopping=False, eta0=0.0, loss=log, max_iter=2000, penalty=l2; total time=   0.2s\n",
      "[CV 4/5] END alpha=0.001, early_stopping=False, eta0=0.0, loss=log, max_iter=2000, penalty=l2; total time=   0.2s\n",
      "[CV 5/5] END alpha=0.001, early_stopping=False, eta0=0.0, loss=log, max_iter=2000, penalty=l2; total time=   0.2s\n",
      "[CV 1/5] END alpha=0.001, early_stopping=False, eta0=0.0, loss=log, max_iter=2000, penalty=l1; total time=   0.3s\n",
      "[CV 2/5] END alpha=0.001, early_stopping=False, eta0=0.0, loss=log, max_iter=2000, penalty=l1; total time=   0.2s\n",
      "[CV 3/5] END alpha=0.001, early_stopping=False, eta0=0.0, loss=log, max_iter=2000, penalty=l1; total time=   0.2s\n",
      "[CV 4/5] END alpha=0.001, early_stopping=False, eta0=0.0, loss=log, max_iter=2000, penalty=l1; total time=   0.2s\n",
      "[CV 5/5] END alpha=0.001, early_stopping=False, eta0=0.0, loss=log, max_iter=2000, penalty=l1; total time=   0.2s\n",
      "[CV 1/5] END alpha=0.001, early_stopping=False, eta0=0.002, loss=hinge, max_iter=500, penalty=l2; total time=   0.1s\n",
      "[CV 2/5] END alpha=0.001, early_stopping=False, eta0=0.002, loss=hinge, max_iter=500, penalty=l2; total time=   0.1s\n",
      "[CV 3/5] END alpha=0.001, early_stopping=False, eta0=0.002, loss=hinge, max_iter=500, penalty=l2; total time=   0.2s\n",
      "[CV 4/5] END alpha=0.001, early_stopping=False, eta0=0.002, loss=hinge, max_iter=500, penalty=l2; total time=   0.1s\n",
      "[CV 5/5] END alpha=0.001, early_stopping=False, eta0=0.002, loss=hinge, max_iter=500, penalty=l2; total time=   0.1s\n",
      "[CV 1/5] END alpha=0.001, early_stopping=False, eta0=0.002, loss=hinge, max_iter=500, penalty=l1; total time=   0.2s\n",
      "[CV 2/5] END alpha=0.001, early_stopping=False, eta0=0.002, loss=hinge, max_iter=500, penalty=l1; total time=   0.2s\n",
      "[CV 3/5] END alpha=0.001, early_stopping=False, eta0=0.002, loss=hinge, max_iter=500, penalty=l1; total time=   0.2s\n",
      "[CV 4/5] END alpha=0.001, early_stopping=False, eta0=0.002, loss=hinge, max_iter=500, penalty=l1; total time=   0.2s\n",
      "[CV 5/5] END alpha=0.001, early_stopping=False, eta0=0.002, loss=hinge, max_iter=500, penalty=l1; total time=   0.1s\n",
      "[CV 1/5] END alpha=0.001, early_stopping=False, eta0=0.002, loss=hinge, max_iter=1500, penalty=l2; total time=   0.1s\n",
      "[CV 2/5] END alpha=0.001, early_stopping=False, eta0=0.002, loss=hinge, max_iter=1500, penalty=l2; total time=   0.1s\n",
      "[CV 3/5] END alpha=0.001, early_stopping=False, eta0=0.002, loss=hinge, max_iter=1500, penalty=l2; total time=   0.1s\n",
      "[CV 4/5] END alpha=0.001, early_stopping=False, eta0=0.002, loss=hinge, max_iter=1500, penalty=l2; total time=   0.1s\n",
      "[CV 5/5] END alpha=0.001, early_stopping=False, eta0=0.002, loss=hinge, max_iter=1500, penalty=l2; total time=   0.0s\n",
      "[CV 1/5] END alpha=0.001, early_stopping=False, eta0=0.002, loss=hinge, max_iter=1500, penalty=l1; total time=   0.1s\n",
      "[CV 2/5] END alpha=0.001, early_stopping=False, eta0=0.002, loss=hinge, max_iter=1500, penalty=l1; total time=   0.1s\n",
      "[CV 3/5] END alpha=0.001, early_stopping=False, eta0=0.002, loss=hinge, max_iter=1500, penalty=l1; total time=   0.1s\n",
      "[CV 4/5] END alpha=0.001, early_stopping=False, eta0=0.002, loss=hinge, max_iter=1500, penalty=l1; total time=   0.1s\n",
      "[CV 5/5] END alpha=0.001, early_stopping=False, eta0=0.002, loss=hinge, max_iter=1500, penalty=l1; total time=   0.1s\n",
      "[CV 1/5] END alpha=0.001, early_stopping=False, eta0=0.002, loss=hinge, max_iter=2000, penalty=l2; total time=   0.0s\n",
      "[CV 2/5] END alpha=0.001, early_stopping=False, eta0=0.002, loss=hinge, max_iter=2000, penalty=l2; total time=   0.1s\n",
      "[CV 3/5] END alpha=0.001, early_stopping=False, eta0=0.002, loss=hinge, max_iter=2000, penalty=l2; total time=   0.1s\n",
      "[CV 4/5] END alpha=0.001, early_stopping=False, eta0=0.002, loss=hinge, max_iter=2000, penalty=l2; total time=   0.1s\n",
      "[CV 5/5] END alpha=0.001, early_stopping=False, eta0=0.002, loss=hinge, max_iter=2000, penalty=l2; total time=   0.1s\n",
      "[CV 1/5] END alpha=0.001, early_stopping=False, eta0=0.002, loss=hinge, max_iter=2000, penalty=l1; total time=   0.2s\n",
      "[CV 2/5] END alpha=0.001, early_stopping=False, eta0=0.002, loss=hinge, max_iter=2000, penalty=l1; total time=   0.4s\n",
      "[CV 3/5] END alpha=0.001, early_stopping=False, eta0=0.002, loss=hinge, max_iter=2000, penalty=l1; total time=   0.2s\n",
      "[CV 4/5] END alpha=0.001, early_stopping=False, eta0=0.002, loss=hinge, max_iter=2000, penalty=l1; total time=   0.3s\n",
      "[CV 5/5] END alpha=0.001, early_stopping=False, eta0=0.002, loss=hinge, max_iter=2000, penalty=l1; total time=   0.2s\n",
      "[CV 1/5] END alpha=0.001, early_stopping=False, eta0=0.002, loss=log, max_iter=500, penalty=l2; total time=   0.2s\n",
      "[CV 2/5] END alpha=0.001, early_stopping=False, eta0=0.002, loss=log, max_iter=500, penalty=l2; total time=   0.3s\n",
      "[CV 3/5] END alpha=0.001, early_stopping=False, eta0=0.002, loss=log, max_iter=500, penalty=l2; total time=   0.1s\n",
      "[CV 4/5] END alpha=0.001, early_stopping=False, eta0=0.002, loss=log, max_iter=500, penalty=l2; total time=   0.1s\n",
      "[CV 5/5] END alpha=0.001, early_stopping=False, eta0=0.002, loss=log, max_iter=500, penalty=l2; total time=   0.1s\n",
      "[CV 1/5] END alpha=0.001, early_stopping=False, eta0=0.002, loss=log, max_iter=500, penalty=l1; total time=   0.1s\n",
      "[CV 2/5] END alpha=0.001, early_stopping=False, eta0=0.002, loss=log, max_iter=500, penalty=l1; total time=   0.2s\n",
      "[CV 3/5] END alpha=0.001, early_stopping=False, eta0=0.002, loss=log, max_iter=500, penalty=l1; total time=   0.2s\n",
      "[CV 4/5] END alpha=0.001, early_stopping=False, eta0=0.002, loss=log, max_iter=500, penalty=l1; total time=   0.2s\n",
      "[CV 5/5] END alpha=0.001, early_stopping=False, eta0=0.002, loss=log, max_iter=500, penalty=l1; total time=   0.2s\n",
      "[CV 1/5] END alpha=0.001, early_stopping=False, eta0=0.002, loss=log, max_iter=1500, penalty=l2; total time=   0.1s\n",
      "[CV 2/5] END alpha=0.001, early_stopping=False, eta0=0.002, loss=log, max_iter=1500, penalty=l2; total time=   0.1s\n",
      "[CV 3/5] END alpha=0.001, early_stopping=False, eta0=0.002, loss=log, max_iter=1500, penalty=l2; total time=   0.1s\n",
      "[CV 4/5] END alpha=0.001, early_stopping=False, eta0=0.002, loss=log, max_iter=1500, penalty=l2; total time=   0.2s\n",
      "[CV 5/5] END alpha=0.001, early_stopping=False, eta0=0.002, loss=log, max_iter=1500, penalty=l2; total time=   0.2s\n",
      "[CV 1/5] END alpha=0.001, early_stopping=False, eta0=0.002, loss=log, max_iter=1500, penalty=l1; total time=   0.3s\n",
      "[CV 2/5] END alpha=0.001, early_stopping=False, eta0=0.002, loss=log, max_iter=1500, penalty=l1; total time=   0.2s\n",
      "[CV 3/5] END alpha=0.001, early_stopping=False, eta0=0.002, loss=log, max_iter=1500, penalty=l1; total time=   0.2s\n",
      "[CV 4/5] END alpha=0.001, early_stopping=False, eta0=0.002, loss=log, max_iter=1500, penalty=l1; total time=   0.3s\n",
      "[CV 5/5] END alpha=0.001, early_stopping=False, eta0=0.002, loss=log, max_iter=1500, penalty=l1; total time=   0.4s\n",
      "[CV 1/5] END alpha=0.001, early_stopping=False, eta0=0.002, loss=log, max_iter=2000, penalty=l2; total time=   0.3s\n",
      "[CV 2/5] END alpha=0.001, early_stopping=False, eta0=0.002, loss=log, max_iter=2000, penalty=l2; total time=   0.2s\n",
      "[CV 3/5] END alpha=0.001, early_stopping=False, eta0=0.002, loss=log, max_iter=2000, penalty=l2; total time=   0.2s\n",
      "[CV 4/5] END alpha=0.001, early_stopping=False, eta0=0.002, loss=log, max_iter=2000, penalty=l2; total time=   0.2s\n",
      "[CV 5/5] END alpha=0.001, early_stopping=False, eta0=0.002, loss=log, max_iter=2000, penalty=l2; total time=   0.2s\n",
      "[CV 1/5] END alpha=0.001, early_stopping=False, eta0=0.002, loss=log, max_iter=2000, penalty=l1; total time=   0.1s\n",
      "[CV 2/5] END alpha=0.001, early_stopping=False, eta0=0.002, loss=log, max_iter=2000, penalty=l1; total time=   0.2s\n",
      "[CV 3/5] END alpha=0.001, early_stopping=False, eta0=0.002, loss=log, max_iter=2000, penalty=l1; total time=   0.2s\n",
      "[CV 4/5] END alpha=0.001, early_stopping=False, eta0=0.002, loss=log, max_iter=2000, penalty=l1; total time=   0.2s\n",
      "[CV 5/5] END alpha=0.001, early_stopping=False, eta0=0.002, loss=log, max_iter=2000, penalty=l1; total time=   0.1s\n"
     ]
    }
   ],
   "source": [
    "#Fit the gridsearch parameters.  \n",
    "search = clf1.fit(x_train, y_train_)"
   ]
  },
  {
   "cell_type": "code",
   "execution_count": 107,
   "metadata": {},
   "outputs": [],
   "source": [
    "#search"
   ]
  },
  {
   "cell_type": "markdown",
   "metadata": {},
   "source": [
    "## Best parameters.  \n",
    "Given the 'hinge' loss here it appears that Support Vector Machine is the best estimator for thos dataset."
   ]
  },
  {
   "cell_type": "code",
   "execution_count": 108,
   "metadata": {},
   "outputs": [
    {
     "data": {
      "text/plain": [
       "{'alpha': 1e-05,\n",
       " 'early_stopping': False,\n",
       " 'eta0': 0.002,\n",
       " 'loss': 'log',\n",
       " 'max_iter': 2000,\n",
       " 'penalty': 'l1'}"
      ]
     },
     "execution_count": 108,
     "metadata": {},
     "output_type": "execute_result"
    }
   ],
   "source": [
    "# We retrieve the best resulting parameters.  \n",
    "params1=search.best_params_\n",
    "params1"
   ]
  },
  {
   "cell_type": "code",
   "execution_count": 109,
   "metadata": {},
   "outputs": [
    {
     "name": "stdout",
     "output_type": "stream",
     "text": [
      "15.6 µs ± 2.17 µs per loop (mean ± std. dev. of 7 runs, 10000 loops each)\n"
     ]
    }
   ],
   "source": [
    "import timeit\n",
    "#%%time\n",
    "#we use the validation to track the performance.\n",
    "%timeit sgd = SGDClassifier(validation_fraction=0.15, class_weight='balanced', random_state=123)"
   ]
  },
  {
   "cell_type": "code",
   "execution_count": 125,
   "metadata": {},
   "outputs": [],
   "source": [
    "clf = SGDClassifier(class_weight='balanced', random_state=152)"
   ]
  },
  {
   "cell_type": "code",
   "execution_count": 127,
   "metadata": {},
   "outputs": [
    {
     "name": "stdout",
     "output_type": "stream",
     "text": [
      "              precision    recall  f1-score   support\n",
      "\n",
      "           0       1.00      1.00      1.00     11262\n",
      "           1       1.00      0.99      0.99      4514\n",
      "           2       1.00      1.00      1.00      3868\n",
      "\n",
      "    accuracy                           1.00     19644\n",
      "   macro avg       1.00      1.00      1.00     19644\n",
      "weighted avg       1.00      1.00      1.00     19644\n",
      "\n"
     ]
    }
   ],
   "source": [
    "from sklearn.metrics import classification_report\n",
    "clf_ = clf.set_params(**params1)\n",
    "clf_.fit(x_train, y_train_)\n",
    "\n",
    "#Predict using the previusly unseen test set.\n",
    "clf_pred = clf_.predict(x_test)\n",
    "print(classification_report(clf_pred, y_test_))"
   ]
  },
  {
   "cell_type": "markdown",
   "metadata": {},
   "source": [
    "# Compare the SGD method with SVC class method "
   ]
  },
  {
   "cell_type": "code",
   "execution_count": 111,
   "metadata": {},
   "outputs": [
    {
     "name": "stdout",
     "output_type": "stream",
     "text": [
      "140 ms ± 9.51 ms per loop (mean ± std. dev. of 7 runs, 1 loop each)\n"
     ]
    }
   ],
   "source": [
    "sgd_extra = SGDClassifier(loss='hinge', class_weight='balanced')\n",
    "%timeit sgd_extra.fit(x_train, y_train_)"
   ]
  },
  {
   "cell_type": "code",
   "execution_count": 112,
   "metadata": {},
   "outputs": [
    {
     "name": "stderr",
     "output_type": "stream",
     "text": [
      "C:\\Users\\olani\\anaconda3\\envs\\Machine Learning 1\\lib\\site-packages\\sklearn\\svm\\_base.py:986: ConvergenceWarning: Liblinear failed to converge, increase the number of iterations.\n",
      "  \"the number of iterations.\", ConvergenceWarning)\n",
      "C:\\Users\\olani\\anaconda3\\envs\\Machine Learning 1\\lib\\site-packages\\sklearn\\svm\\_base.py:986: ConvergenceWarning: Liblinear failed to converge, increase the number of iterations.\n",
      "  \"the number of iterations.\", ConvergenceWarning)\n",
      "C:\\Users\\olani\\anaconda3\\envs\\Machine Learning 1\\lib\\site-packages\\sklearn\\svm\\_base.py:986: ConvergenceWarning: Liblinear failed to converge, increase the number of iterations.\n",
      "  \"the number of iterations.\", ConvergenceWarning)\n",
      "C:\\Users\\olani\\anaconda3\\envs\\Machine Learning 1\\lib\\site-packages\\sklearn\\svm\\_base.py:986: ConvergenceWarning: Liblinear failed to converge, increase the number of iterations.\n",
      "  \"the number of iterations.\", ConvergenceWarning)\n",
      "C:\\Users\\olani\\anaconda3\\envs\\Machine Learning 1\\lib\\site-packages\\sklearn\\svm\\_base.py:986: ConvergenceWarning: Liblinear failed to converge, increase the number of iterations.\n",
      "  \"the number of iterations.\", ConvergenceWarning)\n",
      "C:\\Users\\olani\\anaconda3\\envs\\Machine Learning 1\\lib\\site-packages\\sklearn\\svm\\_base.py:986: ConvergenceWarning: Liblinear failed to converge, increase the number of iterations.\n",
      "  \"the number of iterations.\", ConvergenceWarning)\n",
      "C:\\Users\\olani\\anaconda3\\envs\\Machine Learning 1\\lib\\site-packages\\sklearn\\svm\\_base.py:986: ConvergenceWarning: Liblinear failed to converge, increase the number of iterations.\n",
      "  \"the number of iterations.\", ConvergenceWarning)\n"
     ]
    },
    {
     "name": "stdout",
     "output_type": "stream",
     "text": [
      "1.4 s ± 386 ms per loop (mean ± std. dev. of 7 runs, 1 loop each)\n"
     ]
    },
    {
     "name": "stderr",
     "output_type": "stream",
     "text": [
      "C:\\Users\\olani\\anaconda3\\envs\\Machine Learning 1\\lib\\site-packages\\sklearn\\svm\\_base.py:986: ConvergenceWarning: Liblinear failed to converge, increase the number of iterations.\n",
      "  \"the number of iterations.\", ConvergenceWarning)\n"
     ]
    }
   ],
   "source": [
    "from sklearn.svm import SVC, LinearSVC\n",
    "clf_svm = LinearSVC(loss='hinge')\n",
    "%timeit clf_svm.fit(x_train, y_train_)"
   ]
  },
  {
   "cell_type": "markdown",
   "metadata": {},
   "source": [
    "# Findings.  \n",
    "- The SVC algorithm is much much slower than the SGD algorithm. (1.33seconds versus 150 milliseconds)"
   ]
  },
  {
   "cell_type": "code",
   "execution_count": null,
   "metadata": {},
   "outputs": [],
   "source": []
  },
  {
   "cell_type": "markdown",
   "metadata": {},
   "source": [
    "## Evaluation metrics.  \n",
    "Given the 100% accuracy across all metrics and class, as seen in this classification report, I do not trust the result of this model. There could be some data leakage in the original dataset, but in this interest of time I will hand this work in as is.  \n",
    "Especially given that the key requirement here is to implement Support Vector Machine and out-of-coe methods.  \n",
    "-If we accept the result then we this model is perfect across all metrics.  \n"
   ]
  },
  {
   "cell_type": "markdown",
   "metadata": {},
   "source": []
  }
 ],
 "metadata": {
  "interpreter": {
   "hash": "762b0c7edad5e8c47d0e0ea3bceab293d2afeec0f61061190ac50d68b49e8527"
  },
  "kernelspec": {
   "display_name": "Python 3.7.10 64-bit ('Machine Learning 1': conda)",
   "name": "python3"
  },
  "language_info": {
   "codemirror_mode": {
    "name": "ipython",
    "version": 3
   },
   "file_extension": ".py",
   "mimetype": "text/x-python",
   "name": "python",
   "nbconvert_exporter": "python",
   "pygments_lexer": "ipython3",
   "version": "3.7.10"
  },
  "orig_nbformat": 4
 },
 "nbformat": 4,
 "nbformat_minor": 2
}
