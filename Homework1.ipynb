{
 "cells": [
  {
   "cell_type": "markdown",
   "id": "a2e8f4de",
   "metadata": {},
   "source": [
    "# Babatunde John Olanipekun.  "
   ]
  },
  {
   "cell_type": "markdown",
   "id": "691695fe",
   "metadata": {},
   "source": [
    "## About the dataset.  \n",
    "- Attibutes are chemical properties of elements of the periodic table.\n",
    "- We have the critical temperature as the response variable.    \n",
    "    - So this will be a **regression task.**    "
   ]
  },
  {
   "cell_type": "markdown",
   "id": "27a6b58a",
   "metadata": {},
   "source": [
    "## Objective.  \n",
    "Explore the difference between L1 (lasso penalty) and L2 (ridge penalty).  \n",
    "- Lasso: leads to sparsity because unimportant attributes are reduced to 0.  \n",
    "    - Therefore can be used for feature selection.  \n",
    "- Ridge: Leads shrinks the weights of unimportant attributes.  \n"
   ]
  },
  {
   "cell_type": "code",
   "execution_count": 1,
   "id": "471b806a",
   "metadata": {},
   "outputs": [],
   "source": [
    "import pandas as pd\n",
    "import os"
   ]
  },
  {
   "cell_type": "code",
   "execution_count": 2,
   "id": "7a1b5287",
   "metadata": {},
   "outputs": [
    {
     "data": {
      "text/plain": [
       "'C:\\\\Users\\\\olani\\\\OneDrive\\\\Documents\\\\Data Science\\\\SMU-Data Science\\\\Quantifying the world'"
      ]
     },
     "execution_count": 2,
     "metadata": {},
     "output_type": "execute_result"
    }
   ],
   "source": [
    "#Confirm the working directory\n",
    "os.getcwd()"
   ]
  },
  {
   "cell_type": "code",
   "execution_count": 3,
   "id": "ef1256c2",
   "metadata": {},
   "outputs": [],
   "source": [
    "path = r'.\\superconduct'"
   ]
  },
  {
   "cell_type": "code",
   "execution_count": 4,
   "id": "6f4f3445",
   "metadata": {},
   "outputs": [],
   "source": [
    "df = pd.read_csv(os.path.join(path, 'train.csv'))\n",
    "df2 = pd.read_csv(os.path.join(path,'unique_m.csv'))\n"
   ]
  },
  {
   "cell_type": "code",
   "execution_count": 5,
   "id": "dd1f8cf3",
   "metadata": {},
   "outputs": [
    {
     "name": "stdout",
     "output_type": "stream",
     "text": [
      "<class 'pandas.core.frame.DataFrame'>\n",
      "RangeIndex: 21263 entries, 0 to 21262\n",
      "Data columns (total 82 columns):\n",
      " #   Column                           Non-Null Count  Dtype  \n",
      "---  ------                           --------------  -----  \n",
      " 0   number_of_elements               21263 non-null  int64  \n",
      " 1   mean_atomic_mass                 21263 non-null  float64\n",
      " 2   wtd_mean_atomic_mass             21263 non-null  float64\n",
      " 3   gmean_atomic_mass                21263 non-null  float64\n",
      " 4   wtd_gmean_atomic_mass            21263 non-null  float64\n",
      " 5   entropy_atomic_mass              21263 non-null  float64\n",
      " 6   wtd_entropy_atomic_mass          21263 non-null  float64\n",
      " 7   range_atomic_mass                21263 non-null  float64\n",
      " 8   wtd_range_atomic_mass            21263 non-null  float64\n",
      " 9   std_atomic_mass                  21263 non-null  float64\n",
      " 10  wtd_std_atomic_mass              21263 non-null  float64\n",
      " 11  mean_fie                         21263 non-null  float64\n",
      " 12  wtd_mean_fie                     21263 non-null  float64\n",
      " 13  gmean_fie                        21263 non-null  float64\n",
      " 14  wtd_gmean_fie                    21263 non-null  float64\n",
      " 15  entropy_fie                      21263 non-null  float64\n",
      " 16  wtd_entropy_fie                  21263 non-null  float64\n",
      " 17  range_fie                        21263 non-null  float64\n",
      " 18  wtd_range_fie                    21263 non-null  float64\n",
      " 19  std_fie                          21263 non-null  float64\n",
      " 20  wtd_std_fie                      21263 non-null  float64\n",
      " 21  mean_atomic_radius               21263 non-null  float64\n",
      " 22  wtd_mean_atomic_radius           21263 non-null  float64\n",
      " 23  gmean_atomic_radius              21263 non-null  float64\n",
      " 24  wtd_gmean_atomic_radius          21263 non-null  float64\n",
      " 25  entropy_atomic_radius            21263 non-null  float64\n",
      " 26  wtd_entropy_atomic_radius        21263 non-null  float64\n",
      " 27  range_atomic_radius              21263 non-null  int64  \n",
      " 28  wtd_range_atomic_radius          21263 non-null  float64\n",
      " 29  std_atomic_radius                21263 non-null  float64\n",
      " 30  wtd_std_atomic_radius            21263 non-null  float64\n",
      " 31  mean_Density                     21263 non-null  float64\n",
      " 32  wtd_mean_Density                 21263 non-null  float64\n",
      " 33  gmean_Density                    21263 non-null  float64\n",
      " 34  wtd_gmean_Density                21263 non-null  float64\n",
      " 35  entropy_Density                  21263 non-null  float64\n",
      " 36  wtd_entropy_Density              21263 non-null  float64\n",
      " 37  range_Density                    21263 non-null  float64\n",
      " 38  wtd_range_Density                21263 non-null  float64\n",
      " 39  std_Density                      21263 non-null  float64\n",
      " 40  wtd_std_Density                  21263 non-null  float64\n",
      " 41  mean_ElectronAffinity            21263 non-null  float64\n",
      " 42  wtd_mean_ElectronAffinity        21263 non-null  float64\n",
      " 43  gmean_ElectronAffinity           21263 non-null  float64\n",
      " 44  wtd_gmean_ElectronAffinity       21263 non-null  float64\n",
      " 45  entropy_ElectronAffinity         21263 non-null  float64\n",
      " 46  wtd_entropy_ElectronAffinity     21263 non-null  float64\n",
      " 47  range_ElectronAffinity           21263 non-null  float64\n",
      " 48  wtd_range_ElectronAffinity       21263 non-null  float64\n",
      " 49  std_ElectronAffinity             21263 non-null  float64\n",
      " 50  wtd_std_ElectronAffinity         21263 non-null  float64\n",
      " 51  mean_FusionHeat                  21263 non-null  float64\n",
      " 52  wtd_mean_FusionHeat              21263 non-null  float64\n",
      " 53  gmean_FusionHeat                 21263 non-null  float64\n",
      " 54  wtd_gmean_FusionHeat             21263 non-null  float64\n",
      " 55  entropy_FusionHeat               21263 non-null  float64\n",
      " 56  wtd_entropy_FusionHeat           21263 non-null  float64\n",
      " 57  range_FusionHeat                 21263 non-null  float64\n",
      " 58  wtd_range_FusionHeat             21263 non-null  float64\n",
      " 59  std_FusionHeat                   21263 non-null  float64\n",
      " 60  wtd_std_FusionHeat               21263 non-null  float64\n",
      " 61  mean_ThermalConductivity         21263 non-null  float64\n",
      " 62  wtd_mean_ThermalConductivity     21263 non-null  float64\n",
      " 63  gmean_ThermalConductivity        21263 non-null  float64\n",
      " 64  wtd_gmean_ThermalConductivity    21263 non-null  float64\n",
      " 65  entropy_ThermalConductivity      21263 non-null  float64\n",
      " 66  wtd_entropy_ThermalConductivity  21263 non-null  float64\n",
      " 67  range_ThermalConductivity        21263 non-null  float64\n",
      " 68  wtd_range_ThermalConductivity    21263 non-null  float64\n",
      " 69  std_ThermalConductivity          21263 non-null  float64\n",
      " 70  wtd_std_ThermalConductivity      21263 non-null  float64\n",
      " 71  mean_Valence                     21263 non-null  float64\n",
      " 72  wtd_mean_Valence                 21263 non-null  float64\n",
      " 73  gmean_Valence                    21263 non-null  float64\n",
      " 74  wtd_gmean_Valence                21263 non-null  float64\n",
      " 75  entropy_Valence                  21263 non-null  float64\n",
      " 76  wtd_entropy_Valence              21263 non-null  float64\n",
      " 77  range_Valence                    21263 non-null  int64  \n",
      " 78  wtd_range_Valence                21263 non-null  float64\n",
      " 79  std_Valence                      21263 non-null  float64\n",
      " 80  wtd_std_Valence                  21263 non-null  float64\n",
      " 81  critical_temp                    21263 non-null  float64\n",
      "dtypes: float64(79), int64(3)\n",
      "memory usage: 13.3 MB\n"
     ]
    }
   ],
   "source": [
    "df.info()"
   ]
  },
  {
   "cell_type": "markdown",
   "id": "3254f090",
   "metadata": {},
   "source": [
    "## Datatypes are within expectations and they are all numeric. \n",
    "- Either ordinal or continuous data type.  "
   ]
  },
  {
   "cell_type": "code",
   "execution_count": 6,
   "id": "82260938",
   "metadata": {},
   "outputs": [
    {
     "data": {
      "text/html": [
       "<div>\n",
       "<style scoped>\n",
       "    .dataframe tbody tr th:only-of-type {\n",
       "        vertical-align: middle;\n",
       "    }\n",
       "\n",
       "    .dataframe tbody tr th {\n",
       "        vertical-align: top;\n",
       "    }\n",
       "\n",
       "    .dataframe thead th {\n",
       "        text-align: right;\n",
       "    }\n",
       "</style>\n",
       "<table border=\"1\" class=\"dataframe\">\n",
       "  <thead>\n",
       "    <tr style=\"text-align: right;\">\n",
       "      <th></th>\n",
       "      <th>number_of_elements</th>\n",
       "      <th>mean_atomic_mass</th>\n",
       "      <th>wtd_mean_atomic_mass</th>\n",
       "      <th>gmean_atomic_mass</th>\n",
       "      <th>wtd_gmean_atomic_mass</th>\n",
       "      <th>entropy_atomic_mass</th>\n",
       "      <th>wtd_entropy_atomic_mass</th>\n",
       "      <th>range_atomic_mass</th>\n",
       "      <th>wtd_range_atomic_mass</th>\n",
       "      <th>std_atomic_mass</th>\n",
       "      <th>...</th>\n",
       "      <th>wtd_mean_Valence</th>\n",
       "      <th>gmean_Valence</th>\n",
       "      <th>wtd_gmean_Valence</th>\n",
       "      <th>entropy_Valence</th>\n",
       "      <th>wtd_entropy_Valence</th>\n",
       "      <th>range_Valence</th>\n",
       "      <th>wtd_range_Valence</th>\n",
       "      <th>std_Valence</th>\n",
       "      <th>wtd_std_Valence</th>\n",
       "      <th>critical_temp</th>\n",
       "    </tr>\n",
       "  </thead>\n",
       "  <tbody>\n",
       "    <tr>\n",
       "      <th>0</th>\n",
       "      <td>4</td>\n",
       "      <td>88.944468</td>\n",
       "      <td>57.862692</td>\n",
       "      <td>66.361592</td>\n",
       "      <td>36.116612</td>\n",
       "      <td>1.181795</td>\n",
       "      <td>1.062396</td>\n",
       "      <td>122.90607</td>\n",
       "      <td>31.794921</td>\n",
       "      <td>51.968828</td>\n",
       "      <td>...</td>\n",
       "      <td>2.257143</td>\n",
       "      <td>2.213364</td>\n",
       "      <td>2.219783</td>\n",
       "      <td>1.368922</td>\n",
       "      <td>1.066221</td>\n",
       "      <td>1</td>\n",
       "      <td>1.085714</td>\n",
       "      <td>0.433013</td>\n",
       "      <td>0.437059</td>\n",
       "      <td>29.0</td>\n",
       "    </tr>\n",
       "    <tr>\n",
       "      <th>1</th>\n",
       "      <td>5</td>\n",
       "      <td>92.729214</td>\n",
       "      <td>58.518416</td>\n",
       "      <td>73.132787</td>\n",
       "      <td>36.396602</td>\n",
       "      <td>1.449309</td>\n",
       "      <td>1.057755</td>\n",
       "      <td>122.90607</td>\n",
       "      <td>36.161939</td>\n",
       "      <td>47.094633</td>\n",
       "      <td>...</td>\n",
       "      <td>2.257143</td>\n",
       "      <td>1.888175</td>\n",
       "      <td>2.210679</td>\n",
       "      <td>1.557113</td>\n",
       "      <td>1.047221</td>\n",
       "      <td>2</td>\n",
       "      <td>1.128571</td>\n",
       "      <td>0.632456</td>\n",
       "      <td>0.468606</td>\n",
       "      <td>26.0</td>\n",
       "    </tr>\n",
       "    <tr>\n",
       "      <th>2</th>\n",
       "      <td>4</td>\n",
       "      <td>88.944468</td>\n",
       "      <td>57.885242</td>\n",
       "      <td>66.361592</td>\n",
       "      <td>36.122509</td>\n",
       "      <td>1.181795</td>\n",
       "      <td>0.975980</td>\n",
       "      <td>122.90607</td>\n",
       "      <td>35.741099</td>\n",
       "      <td>51.968828</td>\n",
       "      <td>...</td>\n",
       "      <td>2.271429</td>\n",
       "      <td>2.213364</td>\n",
       "      <td>2.232679</td>\n",
       "      <td>1.368922</td>\n",
       "      <td>1.029175</td>\n",
       "      <td>1</td>\n",
       "      <td>1.114286</td>\n",
       "      <td>0.433013</td>\n",
       "      <td>0.444697</td>\n",
       "      <td>19.0</td>\n",
       "    </tr>\n",
       "    <tr>\n",
       "      <th>3</th>\n",
       "      <td>4</td>\n",
       "      <td>88.944468</td>\n",
       "      <td>57.873967</td>\n",
       "      <td>66.361592</td>\n",
       "      <td>36.119560</td>\n",
       "      <td>1.181795</td>\n",
       "      <td>1.022291</td>\n",
       "      <td>122.90607</td>\n",
       "      <td>33.768010</td>\n",
       "      <td>51.968828</td>\n",
       "      <td>...</td>\n",
       "      <td>2.264286</td>\n",
       "      <td>2.213364</td>\n",
       "      <td>2.226222</td>\n",
       "      <td>1.368922</td>\n",
       "      <td>1.048834</td>\n",
       "      <td>1</td>\n",
       "      <td>1.100000</td>\n",
       "      <td>0.433013</td>\n",
       "      <td>0.440952</td>\n",
       "      <td>22.0</td>\n",
       "    </tr>\n",
       "    <tr>\n",
       "      <th>4</th>\n",
       "      <td>4</td>\n",
       "      <td>88.944468</td>\n",
       "      <td>57.840143</td>\n",
       "      <td>66.361592</td>\n",
       "      <td>36.110716</td>\n",
       "      <td>1.181795</td>\n",
       "      <td>1.129224</td>\n",
       "      <td>122.90607</td>\n",
       "      <td>27.848743</td>\n",
       "      <td>51.968828</td>\n",
       "      <td>...</td>\n",
       "      <td>2.242857</td>\n",
       "      <td>2.213364</td>\n",
       "      <td>2.206963</td>\n",
       "      <td>1.368922</td>\n",
       "      <td>1.096052</td>\n",
       "      <td>1</td>\n",
       "      <td>1.057143</td>\n",
       "      <td>0.433013</td>\n",
       "      <td>0.428809</td>\n",
       "      <td>23.0</td>\n",
       "    </tr>\n",
       "  </tbody>\n",
       "</table>\n",
       "<p>5 rows × 82 columns</p>\n",
       "</div>"
      ],
      "text/plain": [
       "   number_of_elements  mean_atomic_mass  wtd_mean_atomic_mass  \\\n",
       "0                   4         88.944468             57.862692   \n",
       "1                   5         92.729214             58.518416   \n",
       "2                   4         88.944468             57.885242   \n",
       "3                   4         88.944468             57.873967   \n",
       "4                   4         88.944468             57.840143   \n",
       "\n",
       "   gmean_atomic_mass  wtd_gmean_atomic_mass  entropy_atomic_mass  \\\n",
       "0          66.361592              36.116612             1.181795   \n",
       "1          73.132787              36.396602             1.449309   \n",
       "2          66.361592              36.122509             1.181795   \n",
       "3          66.361592              36.119560             1.181795   \n",
       "4          66.361592              36.110716             1.181795   \n",
       "\n",
       "   wtd_entropy_atomic_mass  range_atomic_mass  wtd_range_atomic_mass  \\\n",
       "0                 1.062396          122.90607              31.794921   \n",
       "1                 1.057755          122.90607              36.161939   \n",
       "2                 0.975980          122.90607              35.741099   \n",
       "3                 1.022291          122.90607              33.768010   \n",
       "4                 1.129224          122.90607              27.848743   \n",
       "\n",
       "   std_atomic_mass  ...  wtd_mean_Valence  gmean_Valence  wtd_gmean_Valence  \\\n",
       "0        51.968828  ...          2.257143       2.213364           2.219783   \n",
       "1        47.094633  ...          2.257143       1.888175           2.210679   \n",
       "2        51.968828  ...          2.271429       2.213364           2.232679   \n",
       "3        51.968828  ...          2.264286       2.213364           2.226222   \n",
       "4        51.968828  ...          2.242857       2.213364           2.206963   \n",
       "\n",
       "   entropy_Valence  wtd_entropy_Valence  range_Valence  wtd_range_Valence  \\\n",
       "0         1.368922             1.066221              1           1.085714   \n",
       "1         1.557113             1.047221              2           1.128571   \n",
       "2         1.368922             1.029175              1           1.114286   \n",
       "3         1.368922             1.048834              1           1.100000   \n",
       "4         1.368922             1.096052              1           1.057143   \n",
       "\n",
       "   std_Valence  wtd_std_Valence  critical_temp  \n",
       "0     0.433013         0.437059           29.0  \n",
       "1     0.632456         0.468606           26.0  \n",
       "2     0.433013         0.444697           19.0  \n",
       "3     0.433013         0.440952           22.0  \n",
       "4     0.433013         0.428809           23.0  \n",
       "\n",
       "[5 rows x 82 columns]"
      ]
     },
     "execution_count": 6,
     "metadata": {},
     "output_type": "execute_result"
    }
   ],
   "source": [
    "df.head()"
   ]
  },
  {
   "cell_type": "code",
   "execution_count": 7,
   "id": "29de8954",
   "metadata": {},
   "outputs": [
    {
     "name": "stdout",
     "output_type": "stream",
     "text": [
      "<class 'pandas.core.frame.DataFrame'>\n",
      "RangeIndex: 21263 entries, 0 to 21262\n",
      "Columns: 82 entries, number_of_elements to critical_temp\n",
      "dtypes: float64(79), int64(3)\n",
      "memory usage: 13.3 MB\n"
     ]
    }
   ],
   "source": [
    "df.info(verbose=False)"
   ]
  },
  {
   "cell_type": "markdown",
   "id": "dc10292d",
   "metadata": {},
   "source": [
    "**21263 row and 82 columns**"
   ]
  },
  {
   "cell_type": "code",
   "execution_count": 8,
   "id": "0c0290dd",
   "metadata": {},
   "outputs": [
    {
     "data": {
      "text/html": [
       "<div>\n",
       "<style scoped>\n",
       "    .dataframe tbody tr th:only-of-type {\n",
       "        vertical-align: middle;\n",
       "    }\n",
       "\n",
       "    .dataframe tbody tr th {\n",
       "        vertical-align: top;\n",
       "    }\n",
       "\n",
       "    .dataframe thead th {\n",
       "        text-align: right;\n",
       "    }\n",
       "</style>\n",
       "<table border=\"1\" class=\"dataframe\">\n",
       "  <thead>\n",
       "    <tr style=\"text-align: right;\">\n",
       "      <th></th>\n",
       "      <th>H</th>\n",
       "      <th>He</th>\n",
       "      <th>Li</th>\n",
       "      <th>Be</th>\n",
       "      <th>B</th>\n",
       "      <th>C</th>\n",
       "      <th>N</th>\n",
       "      <th>O</th>\n",
       "      <th>F</th>\n",
       "      <th>Ne</th>\n",
       "      <th>...</th>\n",
       "      <th>Au</th>\n",
       "      <th>Hg</th>\n",
       "      <th>Tl</th>\n",
       "      <th>Pb</th>\n",
       "      <th>Bi</th>\n",
       "      <th>Po</th>\n",
       "      <th>At</th>\n",
       "      <th>Rn</th>\n",
       "      <th>critical_temp</th>\n",
       "      <th>material</th>\n",
       "    </tr>\n",
       "  </thead>\n",
       "  <tbody>\n",
       "    <tr>\n",
       "      <th>0</th>\n",
       "      <td>0.0</td>\n",
       "      <td>0</td>\n",
       "      <td>0.0</td>\n",
       "      <td>0.0</td>\n",
       "      <td>0.0</td>\n",
       "      <td>0.0</td>\n",
       "      <td>0.0</td>\n",
       "      <td>4.0</td>\n",
       "      <td>0.0</td>\n",
       "      <td>0</td>\n",
       "      <td>...</td>\n",
       "      <td>0.0</td>\n",
       "      <td>0.0</td>\n",
       "      <td>0.0</td>\n",
       "      <td>0.0</td>\n",
       "      <td>0.0</td>\n",
       "      <td>0</td>\n",
       "      <td>0</td>\n",
       "      <td>0</td>\n",
       "      <td>29.0</td>\n",
       "      <td>Ba0.2La1.8Cu1O4</td>\n",
       "    </tr>\n",
       "    <tr>\n",
       "      <th>1</th>\n",
       "      <td>0.0</td>\n",
       "      <td>0</td>\n",
       "      <td>0.0</td>\n",
       "      <td>0.0</td>\n",
       "      <td>0.0</td>\n",
       "      <td>0.0</td>\n",
       "      <td>0.0</td>\n",
       "      <td>4.0</td>\n",
       "      <td>0.0</td>\n",
       "      <td>0</td>\n",
       "      <td>...</td>\n",
       "      <td>0.0</td>\n",
       "      <td>0.0</td>\n",
       "      <td>0.0</td>\n",
       "      <td>0.0</td>\n",
       "      <td>0.0</td>\n",
       "      <td>0</td>\n",
       "      <td>0</td>\n",
       "      <td>0</td>\n",
       "      <td>26.0</td>\n",
       "      <td>Ba0.1La1.9Ag0.1Cu0.9O4</td>\n",
       "    </tr>\n",
       "    <tr>\n",
       "      <th>2</th>\n",
       "      <td>0.0</td>\n",
       "      <td>0</td>\n",
       "      <td>0.0</td>\n",
       "      <td>0.0</td>\n",
       "      <td>0.0</td>\n",
       "      <td>0.0</td>\n",
       "      <td>0.0</td>\n",
       "      <td>4.0</td>\n",
       "      <td>0.0</td>\n",
       "      <td>0</td>\n",
       "      <td>...</td>\n",
       "      <td>0.0</td>\n",
       "      <td>0.0</td>\n",
       "      <td>0.0</td>\n",
       "      <td>0.0</td>\n",
       "      <td>0.0</td>\n",
       "      <td>0</td>\n",
       "      <td>0</td>\n",
       "      <td>0</td>\n",
       "      <td>19.0</td>\n",
       "      <td>Ba0.1La1.9Cu1O4</td>\n",
       "    </tr>\n",
       "    <tr>\n",
       "      <th>3</th>\n",
       "      <td>0.0</td>\n",
       "      <td>0</td>\n",
       "      <td>0.0</td>\n",
       "      <td>0.0</td>\n",
       "      <td>0.0</td>\n",
       "      <td>0.0</td>\n",
       "      <td>0.0</td>\n",
       "      <td>4.0</td>\n",
       "      <td>0.0</td>\n",
       "      <td>0</td>\n",
       "      <td>...</td>\n",
       "      <td>0.0</td>\n",
       "      <td>0.0</td>\n",
       "      <td>0.0</td>\n",
       "      <td>0.0</td>\n",
       "      <td>0.0</td>\n",
       "      <td>0</td>\n",
       "      <td>0</td>\n",
       "      <td>0</td>\n",
       "      <td>22.0</td>\n",
       "      <td>Ba0.15La1.85Cu1O4</td>\n",
       "    </tr>\n",
       "    <tr>\n",
       "      <th>4</th>\n",
       "      <td>0.0</td>\n",
       "      <td>0</td>\n",
       "      <td>0.0</td>\n",
       "      <td>0.0</td>\n",
       "      <td>0.0</td>\n",
       "      <td>0.0</td>\n",
       "      <td>0.0</td>\n",
       "      <td>4.0</td>\n",
       "      <td>0.0</td>\n",
       "      <td>0</td>\n",
       "      <td>...</td>\n",
       "      <td>0.0</td>\n",
       "      <td>0.0</td>\n",
       "      <td>0.0</td>\n",
       "      <td>0.0</td>\n",
       "      <td>0.0</td>\n",
       "      <td>0</td>\n",
       "      <td>0</td>\n",
       "      <td>0</td>\n",
       "      <td>23.0</td>\n",
       "      <td>Ba0.3La1.7Cu1O4</td>\n",
       "    </tr>\n",
       "  </tbody>\n",
       "</table>\n",
       "<p>5 rows × 88 columns</p>\n",
       "</div>"
      ],
      "text/plain": [
       "     H  He   Li   Be    B    C    N    O    F  Ne  ...   Au   Hg   Tl   Pb  \\\n",
       "0  0.0   0  0.0  0.0  0.0  0.0  0.0  4.0  0.0   0  ...  0.0  0.0  0.0  0.0   \n",
       "1  0.0   0  0.0  0.0  0.0  0.0  0.0  4.0  0.0   0  ...  0.0  0.0  0.0  0.0   \n",
       "2  0.0   0  0.0  0.0  0.0  0.0  0.0  4.0  0.0   0  ...  0.0  0.0  0.0  0.0   \n",
       "3  0.0   0  0.0  0.0  0.0  0.0  0.0  4.0  0.0   0  ...  0.0  0.0  0.0  0.0   \n",
       "4  0.0   0  0.0  0.0  0.0  0.0  0.0  4.0  0.0   0  ...  0.0  0.0  0.0  0.0   \n",
       "\n",
       "    Bi  Po  At  Rn  critical_temp                material  \n",
       "0  0.0   0   0   0           29.0         Ba0.2La1.8Cu1O4  \n",
       "1  0.0   0   0   0           26.0  Ba0.1La1.9Ag0.1Cu0.9O4  \n",
       "2  0.0   0   0   0           19.0         Ba0.1La1.9Cu1O4  \n",
       "3  0.0   0   0   0           22.0       Ba0.15La1.85Cu1O4  \n",
       "4  0.0   0   0   0           23.0         Ba0.3La1.7Cu1O4  \n",
       "\n",
       "[5 rows x 88 columns]"
      ]
     },
     "execution_count": 8,
     "metadata": {},
     "output_type": "execute_result"
    }
   ],
   "source": [
    "df2.head()"
   ]
  },
  {
   "cell_type": "code",
   "execution_count": 9,
   "id": "a2a08741",
   "metadata": {},
   "outputs": [],
   "source": [
    "from sklearn import linear_model\n",
    "from sklearn.metrics import mean_squared_error, r2_score"
   ]
  },
  {
   "cell_type": "code",
   "execution_count": 10,
   "id": "56d09c41",
   "metadata": {},
   "outputs": [],
   "source": [
    "regr = linear_model.LinearRegression()"
   ]
  },
  {
   "cell_type": "markdown",
   "id": "55b8c273",
   "metadata": {},
   "source": [
    "## check for duplicated rows."
   ]
  },
  {
   "cell_type": "code",
   "execution_count": 11,
   "id": "1b81131a",
   "metadata": {},
   "outputs": [
    {
     "data": {
      "text/html": [
       "<div>\n",
       "<style scoped>\n",
       "    .dataframe tbody tr th:only-of-type {\n",
       "        vertical-align: middle;\n",
       "    }\n",
       "\n",
       "    .dataframe tbody tr th {\n",
       "        vertical-align: top;\n",
       "    }\n",
       "\n",
       "    .dataframe thead th {\n",
       "        text-align: right;\n",
       "    }\n",
       "</style>\n",
       "<table border=\"1\" class=\"dataframe\">\n",
       "  <thead>\n",
       "    <tr style=\"text-align: right;\">\n",
       "      <th></th>\n",
       "      <th>number_of_elements</th>\n",
       "      <th>mean_atomic_mass</th>\n",
       "      <th>wtd_mean_atomic_mass</th>\n",
       "      <th>gmean_atomic_mass</th>\n",
       "      <th>wtd_gmean_atomic_mass</th>\n",
       "      <th>entropy_atomic_mass</th>\n",
       "      <th>wtd_entropy_atomic_mass</th>\n",
       "      <th>range_atomic_mass</th>\n",
       "      <th>wtd_range_atomic_mass</th>\n",
       "      <th>std_atomic_mass</th>\n",
       "      <th>...</th>\n",
       "      <th>wtd_mean_Valence</th>\n",
       "      <th>gmean_Valence</th>\n",
       "      <th>wtd_gmean_Valence</th>\n",
       "      <th>entropy_Valence</th>\n",
       "      <th>wtd_entropy_Valence</th>\n",
       "      <th>range_Valence</th>\n",
       "      <th>wtd_range_Valence</th>\n",
       "      <th>std_Valence</th>\n",
       "      <th>wtd_std_Valence</th>\n",
       "      <th>critical_temp</th>\n",
       "    </tr>\n",
       "  </thead>\n",
       "  <tbody>\n",
       "    <tr>\n",
       "      <th>8503</th>\n",
       "      <td>4</td>\n",
       "      <td>76.444563</td>\n",
       "      <td>51.381751</td>\n",
       "      <td>59.356672</td>\n",
       "      <td>35.040763</td>\n",
       "      <td>1.199541</td>\n",
       "      <td>1.291294</td>\n",
       "      <td>121.327600</td>\n",
       "      <td>14.343486</td>\n",
       "      <td>43.823354</td>\n",
       "      <td>...</td>\n",
       "      <td>2.07722</td>\n",
       "      <td>2.213364</td>\n",
       "      <td>2.063611</td>\n",
       "      <td>1.368922</td>\n",
       "      <td>1.203843</td>\n",
       "      <td>1</td>\n",
       "      <td>0.841699</td>\n",
       "      <td>0.433013</td>\n",
       "      <td>0.266940</td>\n",
       "      <td>93.00</td>\n",
       "    </tr>\n",
       "    <tr>\n",
       "      <th>12598</th>\n",
       "      <td>2</td>\n",
       "      <td>39.513500</td>\n",
       "      <td>45.227500</td>\n",
       "      <td>37.824826</td>\n",
       "      <td>43.895938</td>\n",
       "      <td>0.650720</td>\n",
       "      <td>0.431701</td>\n",
       "      <td>22.856000</td>\n",
       "      <td>31.184750</td>\n",
       "      <td>11.428000</td>\n",
       "      <td>...</td>\n",
       "      <td>4.75000</td>\n",
       "      <td>4.472136</td>\n",
       "      <td>4.728708</td>\n",
       "      <td>0.686962</td>\n",
       "      <td>0.514653</td>\n",
       "      <td>1</td>\n",
       "      <td>2.750000</td>\n",
       "      <td>0.500000</td>\n",
       "      <td>0.433013</td>\n",
       "      <td>17.00</td>\n",
       "    </tr>\n",
       "    <tr>\n",
       "      <th>12736</th>\n",
       "      <td>2</td>\n",
       "      <td>105.962750</td>\n",
       "      <td>121.538200</td>\n",
       "      <td>71.855677</td>\n",
       "      <td>86.707541</td>\n",
       "      <td>0.391159</td>\n",
       "      <td>0.308132</td>\n",
       "      <td>155.754500</td>\n",
       "      <td>99.069800</td>\n",
       "      <td>77.877250</td>\n",
       "      <td>...</td>\n",
       "      <td>5.20000</td>\n",
       "      <td>4.898979</td>\n",
       "      <td>5.101698</td>\n",
       "      <td>0.673012</td>\n",
       "      <td>0.617242</td>\n",
       "      <td>2</td>\n",
       "      <td>2.000000</td>\n",
       "      <td>1.000000</td>\n",
       "      <td>0.979796</td>\n",
       "      <td>2.84</td>\n",
       "    </tr>\n",
       "    <tr>\n",
       "      <th>12798</th>\n",
       "      <td>2</td>\n",
       "      <td>141.926690</td>\n",
       "      <td>149.730928</td>\n",
       "      <td>136.457070</td>\n",
       "      <td>144.380165</td>\n",
       "      <td>0.654860</td>\n",
       "      <td>0.588079</td>\n",
       "      <td>78.042380</td>\n",
       "      <td>67.406528</td>\n",
       "      <td>39.021190</td>\n",
       "      <td>...</td>\n",
       "      <td>5.40000</td>\n",
       "      <td>5.477226</td>\n",
       "      <td>5.378269</td>\n",
       "      <td>0.689009</td>\n",
       "      <td>0.686962</td>\n",
       "      <td>1</td>\n",
       "      <td>0.600000</td>\n",
       "      <td>0.500000</td>\n",
       "      <td>0.489898</td>\n",
       "      <td>2.35</td>\n",
       "    </tr>\n",
       "    <tr>\n",
       "      <th>12829</th>\n",
       "      <td>2</td>\n",
       "      <td>141.568190</td>\n",
       "      <td>141.568190</td>\n",
       "      <td>132.942020</td>\n",
       "      <td>132.942020</td>\n",
       "      <td>0.632849</td>\n",
       "      <td>0.632849</td>\n",
       "      <td>97.323620</td>\n",
       "      <td>48.661810</td>\n",
       "      <td>48.661810</td>\n",
       "      <td>...</td>\n",
       "      <td>5.50000</td>\n",
       "      <td>5.477226</td>\n",
       "      <td>5.477226</td>\n",
       "      <td>0.689009</td>\n",
       "      <td>0.689009</td>\n",
       "      <td>1</td>\n",
       "      <td>0.500000</td>\n",
       "      <td>0.500000</td>\n",
       "      <td>0.500000</td>\n",
       "      <td>2.86</td>\n",
       "    </tr>\n",
       "    <tr>\n",
       "      <th>...</th>\n",
       "      <td>...</td>\n",
       "      <td>...</td>\n",
       "      <td>...</td>\n",
       "      <td>...</td>\n",
       "      <td>...</td>\n",
       "      <td>...</td>\n",
       "      <td>...</td>\n",
       "      <td>...</td>\n",
       "      <td>...</td>\n",
       "      <td>...</td>\n",
       "      <td>...</td>\n",
       "      <td>...</td>\n",
       "      <td>...</td>\n",
       "      <td>...</td>\n",
       "      <td>...</td>\n",
       "      <td>...</td>\n",
       "      <td>...</td>\n",
       "      <td>...</td>\n",
       "      <td>...</td>\n",
       "      <td>...</td>\n",
       "      <td>...</td>\n",
       "    </tr>\n",
       "    <tr>\n",
       "      <th>16715</th>\n",
       "      <td>2</td>\n",
       "      <td>60.332250</td>\n",
       "      <td>55.636875</td>\n",
       "      <td>59.596931</td>\n",
       "      <td>55.099520</td>\n",
       "      <td>0.680984</td>\n",
       "      <td>0.621712</td>\n",
       "      <td>18.781500</td>\n",
       "      <td>20.775375</td>\n",
       "      <td>9.390750</td>\n",
       "      <td>...</td>\n",
       "      <td>4.50000</td>\n",
       "      <td>3.872983</td>\n",
       "      <td>4.400559</td>\n",
       "      <td>0.661563</td>\n",
       "      <td>0.450561</td>\n",
       "      <td>2</td>\n",
       "      <td>3.000000</td>\n",
       "      <td>1.000000</td>\n",
       "      <td>0.866025</td>\n",
       "      <td>14.50</td>\n",
       "    </tr>\n",
       "    <tr>\n",
       "      <th>16734</th>\n",
       "      <td>2</td>\n",
       "      <td>141.568190</td>\n",
       "      <td>131.835828</td>\n",
       "      <td>132.942020</td>\n",
       "      <td>123.748210</td>\n",
       "      <td>0.632849</td>\n",
       "      <td>0.681188</td>\n",
       "      <td>97.323620</td>\n",
       "      <td>20.348172</td>\n",
       "      <td>48.661810</td>\n",
       "      <td>...</td>\n",
       "      <td>5.40000</td>\n",
       "      <td>5.477226</td>\n",
       "      <td>5.378269</td>\n",
       "      <td>0.689009</td>\n",
       "      <td>0.686962</td>\n",
       "      <td>1</td>\n",
       "      <td>0.600000</td>\n",
       "      <td>0.500000</td>\n",
       "      <td>0.489898</td>\n",
       "      <td>1.78</td>\n",
       "    </tr>\n",
       "    <tr>\n",
       "      <th>20068</th>\n",
       "      <td>2</td>\n",
       "      <td>114.090000</td>\n",
       "      <td>119.228900</td>\n",
       "      <td>113.831890</td>\n",
       "      <td>119.084493</td>\n",
       "      <td>0.690886</td>\n",
       "      <td>0.417951</td>\n",
       "      <td>15.340000</td>\n",
       "      <td>84.110300</td>\n",
       "      <td>7.670000</td>\n",
       "      <td>...</td>\n",
       "      <td>4.83500</td>\n",
       "      <td>4.472136</td>\n",
       "      <td>4.819254</td>\n",
       "      <td>0.686962</td>\n",
       "      <td>0.398567</td>\n",
       "      <td>1</td>\n",
       "      <td>3.515000</td>\n",
       "      <td>0.500000</td>\n",
       "      <td>0.371181</td>\n",
       "      <td>4.90</td>\n",
       "    </tr>\n",
       "    <tr>\n",
       "      <th>20069</th>\n",
       "      <td>2</td>\n",
       "      <td>118.289000</td>\n",
       "      <td>120.024500</td>\n",
       "      <td>118.238064</td>\n",
       "      <td>119.986110</td>\n",
       "      <td>0.692717</td>\n",
       "      <td>0.550104</td>\n",
       "      <td>6.942000</td>\n",
       "      <td>62.615500</td>\n",
       "      <td>3.471000</td>\n",
       "      <td>...</td>\n",
       "      <td>4.50000</td>\n",
       "      <td>3.872983</td>\n",
       "      <td>4.400559</td>\n",
       "      <td>0.661563</td>\n",
       "      <td>0.450561</td>\n",
       "      <td>2</td>\n",
       "      <td>3.000000</td>\n",
       "      <td>1.000000</td>\n",
       "      <td>0.866025</td>\n",
       "      <td>4.10</td>\n",
       "    </tr>\n",
       "    <tr>\n",
       "      <th>20072</th>\n",
       "      <td>3</td>\n",
       "      <td>143.662190</td>\n",
       "      <td>135.668337</td>\n",
       "      <td>138.810446</td>\n",
       "      <td>133.122606</td>\n",
       "      <td>1.063590</td>\n",
       "      <td>0.901505</td>\n",
       "      <td>90.546569</td>\n",
       "      <td>67.443480</td>\n",
       "      <td>38.670969</td>\n",
       "      <td>...</td>\n",
       "      <td>5.50100</td>\n",
       "      <td>4.932424</td>\n",
       "      <td>5.441227</td>\n",
       "      <td>1.085189</td>\n",
       "      <td>0.772828</td>\n",
       "      <td>2</td>\n",
       "      <td>3.338000</td>\n",
       "      <td>0.816497</td>\n",
       "      <td>0.762889</td>\n",
       "      <td>4.60</td>\n",
       "    </tr>\n",
       "  </tbody>\n",
       "</table>\n",
       "<p>66 rows × 82 columns</p>\n",
       "</div>"
      ],
      "text/plain": [
       "       number_of_elements  mean_atomic_mass  wtd_mean_atomic_mass  \\\n",
       "8503                    4         76.444563             51.381751   \n",
       "12598                   2         39.513500             45.227500   \n",
       "12736                   2        105.962750            121.538200   \n",
       "12798                   2        141.926690            149.730928   \n",
       "12829                   2        141.568190            141.568190   \n",
       "...                   ...               ...                   ...   \n",
       "16715                   2         60.332250             55.636875   \n",
       "16734                   2        141.568190            131.835828   \n",
       "20068                   2        114.090000            119.228900   \n",
       "20069                   2        118.289000            120.024500   \n",
       "20072                   3        143.662190            135.668337   \n",
       "\n",
       "       gmean_atomic_mass  wtd_gmean_atomic_mass  entropy_atomic_mass  \\\n",
       "8503           59.356672              35.040763             1.199541   \n",
       "12598          37.824826              43.895938             0.650720   \n",
       "12736          71.855677              86.707541             0.391159   \n",
       "12798         136.457070             144.380165             0.654860   \n",
       "12829         132.942020             132.942020             0.632849   \n",
       "...                  ...                    ...                  ...   \n",
       "16715          59.596931              55.099520             0.680984   \n",
       "16734         132.942020             123.748210             0.632849   \n",
       "20068         113.831890             119.084493             0.690886   \n",
       "20069         118.238064             119.986110             0.692717   \n",
       "20072         138.810446             133.122606             1.063590   \n",
       "\n",
       "       wtd_entropy_atomic_mass  range_atomic_mass  wtd_range_atomic_mass  \\\n",
       "8503                  1.291294         121.327600              14.343486   \n",
       "12598                 0.431701          22.856000              31.184750   \n",
       "12736                 0.308132         155.754500              99.069800   \n",
       "12798                 0.588079          78.042380              67.406528   \n",
       "12829                 0.632849          97.323620              48.661810   \n",
       "...                        ...                ...                    ...   \n",
       "16715                 0.621712          18.781500              20.775375   \n",
       "16734                 0.681188          97.323620              20.348172   \n",
       "20068                 0.417951          15.340000              84.110300   \n",
       "20069                 0.550104           6.942000              62.615500   \n",
       "20072                 0.901505          90.546569              67.443480   \n",
       "\n",
       "       std_atomic_mass  ...  wtd_mean_Valence  gmean_Valence  \\\n",
       "8503         43.823354  ...           2.07722       2.213364   \n",
       "12598        11.428000  ...           4.75000       4.472136   \n",
       "12736        77.877250  ...           5.20000       4.898979   \n",
       "12798        39.021190  ...           5.40000       5.477226   \n",
       "12829        48.661810  ...           5.50000       5.477226   \n",
       "...                ...  ...               ...            ...   \n",
       "16715         9.390750  ...           4.50000       3.872983   \n",
       "16734        48.661810  ...           5.40000       5.477226   \n",
       "20068         7.670000  ...           4.83500       4.472136   \n",
       "20069         3.471000  ...           4.50000       3.872983   \n",
       "20072        38.670969  ...           5.50100       4.932424   \n",
       "\n",
       "       wtd_gmean_Valence  entropy_Valence  wtd_entropy_Valence  range_Valence  \\\n",
       "8503            2.063611         1.368922             1.203843              1   \n",
       "12598           4.728708         0.686962             0.514653              1   \n",
       "12736           5.101698         0.673012             0.617242              2   \n",
       "12798           5.378269         0.689009             0.686962              1   \n",
       "12829           5.477226         0.689009             0.689009              1   \n",
       "...                  ...              ...                  ...            ...   \n",
       "16715           4.400559         0.661563             0.450561              2   \n",
       "16734           5.378269         0.689009             0.686962              1   \n",
       "20068           4.819254         0.686962             0.398567              1   \n",
       "20069           4.400559         0.661563             0.450561              2   \n",
       "20072           5.441227         1.085189             0.772828              2   \n",
       "\n",
       "       wtd_range_Valence  std_Valence  wtd_std_Valence  critical_temp  \n",
       "8503            0.841699     0.433013         0.266940          93.00  \n",
       "12598           2.750000     0.500000         0.433013          17.00  \n",
       "12736           2.000000     1.000000         0.979796           2.84  \n",
       "12798           0.600000     0.500000         0.489898           2.35  \n",
       "12829           0.500000     0.500000         0.500000           2.86  \n",
       "...                  ...          ...              ...            ...  \n",
       "16715           3.000000     1.000000         0.866025          14.50  \n",
       "16734           0.600000     0.500000         0.489898           1.78  \n",
       "20068           3.515000     0.500000         0.371181           4.90  \n",
       "20069           3.000000     1.000000         0.866025           4.10  \n",
       "20072           3.338000     0.816497         0.762889           4.60  \n",
       "\n",
       "[66 rows x 82 columns]"
      ]
     },
     "execution_count": 11,
     "metadata": {},
     "output_type": "execute_result"
    }
   ],
   "source": [
    "duplicate = df[df.duplicated()]\n",
    "duplicate"
   ]
  },
  {
   "cell_type": "markdown",
   "id": "acfc9f2f",
   "metadata": {},
   "source": [
    "66 rows are duplicates and will be dropped as they won't contribute anything to the learning.   "
   ]
  },
  {
   "cell_type": "code",
   "execution_count": 12,
   "id": "6b1b5d4c",
   "metadata": {},
   "outputs": [
    {
     "name": "stdout",
     "output_type": "stream",
     "text": [
      "<class 'pandas.core.frame.DataFrame'>\n",
      "Int64Index: 21197 entries, 0 to 21262\n",
      "Columns: 82 entries, number_of_elements to critical_temp\n",
      "dtypes: float64(79), int64(3)\n",
      "memory usage: 13.4 MB\n"
     ]
    }
   ],
   "source": [
    "import copy\n",
    "df_ = copy.deepcopy(df) # sanity check\n",
    "df_.drop_duplicates(inplace=True)\n",
    "df_.info(verbose=False)"
   ]
  },
  {
   "cell_type": "markdown",
   "id": "cef08d58",
   "metadata": {},
   "source": [
    "## Missing values:\n",
    "\n",
    "Check for missing values. "
   ]
  },
  {
   "cell_type": "code",
   "execution_count": 13,
   "id": "18fd1221",
   "metadata": {},
   "outputs": [
    {
     "data": {
      "text/plain": [
       "wtd_std_fie                   0\n",
       "mean_atomic_radius            0\n",
       "wtd_mean_atomic_radius        0\n",
       "gmean_atomic_radius           0\n",
       "wtd_gmean_atomic_radius       0\n",
       "entropy_atomic_radius         0\n",
       "wtd_entropy_atomic_radius     0\n",
       "range_atomic_radius           0\n",
       "wtd_range_atomic_radius       0\n",
       "std_atomic_radius             0\n",
       "wtd_std_atomic_radius         0\n",
       "mean_Density                  0\n",
       "wtd_mean_Density              0\n",
       "gmean_Density                 0\n",
       "wtd_gmean_Density             0\n",
       "entropy_Density               0\n",
       "wtd_entropy_Density           0\n",
       "range_Density                 0\n",
       "wtd_range_Density             0\n",
       "std_Density                   0\n",
       "wtd_std_Density               0\n",
       "mean_ElectronAffinity         0\n",
       "wtd_mean_ElectronAffinity     0\n",
       "gmean_ElectronAffinity        0\n",
       "wtd_gmean_ElectronAffinity    0\n",
       "dtype: int64"
      ]
     },
     "execution_count": 13,
     "metadata": {},
     "output_type": "execute_result"
    }
   ],
   "source": [
    "df.isnull().sum()[20:45]"
   ]
  },
  {
   "cell_type": "code",
   "execution_count": 14,
   "id": "60e97288",
   "metadata": {},
   "outputs": [
    {
     "data": {
      "text/plain": [
       "(21197,)"
      ]
     },
     "execution_count": 14,
     "metadata": {},
     "output_type": "execute_result"
    }
   ],
   "source": [
    "#Remove the target response from the predictor attributes. \n",
    "#Ensure the shape is the same as that of the main dataset.  \n",
    "y = df_.critical_temp\n",
    "y.shape"
   ]
  },
  {
   "cell_type": "code",
   "execution_count": 15,
   "id": "cc332dd4",
   "metadata": {},
   "outputs": [],
   "source": [
    "#Drop the encoded variables. \n",
    "df_.drop(columns=['critical_temp'], inplace=True)"
   ]
  },
  {
   "cell_type": "code",
   "execution_count": 16,
   "id": "184cbd70",
   "metadata": {},
   "outputs": [],
   "source": [
    "from sklearn.model_selection import train_test_split\n",
    "train, test, y_train, y_test = train_test_split(df_, y, test_size=0.15,random_state=42)\n"
   ]
  },
  {
   "cell_type": "code",
   "execution_count": 17,
   "id": "e60bea3f",
   "metadata": {},
   "outputs": [],
   "source": [
    "from sklearn.model_selection import train_test_split\n",
    "from sklearn.model_selection import cross_val_score\n",
    "import numpy as np\n",
    "from sklearn.preprocessing import StandardScaler\n",
    "from sklearn import linear_model\n",
    "import matplotlib.pyplot as plt\n",
    "%matplotlib inline\n"
   ]
  },
  {
   "cell_type": "code",
   "execution_count": 18,
   "id": "843e3f29",
   "metadata": {},
   "outputs": [],
   "source": [
    "scaler = StandardScaler()\n",
    "X_train =  scaler.fit_transform(train)\n",
    "X_test = scaler.transform(test)"
   ]
  },
  {
   "cell_type": "markdown",
   "id": "c5a99665",
   "metadata": {},
   "source": [
    "## The feature names\n",
    "- Feature names are lost after applying the standard scaler.  \n",
    "- For better explainability, we retrieve them back."
   ]
  },
  {
   "cell_type": "code",
   "execution_count": 19,
   "id": "8ca8eef7",
   "metadata": {},
   "outputs": [],
   "source": [
    "train_scaled_features = pd.DataFrame(X_train, index=train.index, columns=train.columns)\n",
    "test_scaled_features = pd.DataFrame(X_test, index=test.index, columns=test.columns)"
   ]
  },
  {
   "cell_type": "markdown",
   "id": "4f636a96",
   "metadata": {},
   "source": [
    "## Fitting approach:  \n",
    "- Define some estimators.  \n",
    "- Cross validate with k = 10 folds to obtain the rmse scores for each.  \n",
    "- Fit the train on the model that produces the lowest rmse score. \n",
    "    -  minimizing rmse is equivalent to maximizing negative-rmse as shown in the corss_val_score () method.\n"
   ]
  },
  {
   "cell_type": "code",
   "execution_count": 20,
   "id": "b9a35e59",
   "metadata": {},
   "outputs": [],
   "source": [
    "lin_reg = linear_model.LinearRegression()\n",
    "ridge = linear_model.Ridge(alpha=1.0, random_state=123)\n",
    "ridge_low = linear_model.Ridge(alpha=0.5, random_state=123)\n",
    "ridge_lowest = linear_model.Ridge(alpha=0.1, random_state=123)\n",
    "lasso = linear_model.Lasso(alpha=1.0, random_state=123)\n",
    "lasso_low = linear_model.Lasso(alpha=0.5, random_state=123)\n",
    "lasso_lowest = linear_model.Lasso(alpha=0.01, random_state=123)\n",
    "clf_list = [lin_reg,ridge,ridge_low, ridge_lowest,lasso, lasso_low, lasso_lowest]"
   ]
  },
  {
   "cell_type": "code",
   "execution_count": 21,
   "id": "4e947365",
   "metadata": {},
   "outputs": [
    {
     "data": {
      "image/png": "[encoded data removed]",
      "text/plain": [
       "<Figure size 432x288 with 1 Axes>"
      ]
     },
     "metadata": {
      "needs_background": "light"
     },
     "output_type": "display_data"
    },
    {
     "data": {
      "image/png": "[encoded data removed]",
      "text/plain": [
       "<Figure size 432x288 with 1 Axes>"
      ]
     },
     "metadata": {
      "needs_background": "light"
     },
     "output_type": "display_data"
    },
    {
     "data": {
      "image/png": "[encoded data removed]",
      "text/plain": [
       "<Figure size 432x288 with 1 Axes>"
      ]
     },
     "metadata": {
      "needs_background": "light"
     },
     "output_type": "display_data"
    },
    {
     "data": {
      "image/png": "[encoded data removed]",
      "text/plain": [
       "<Figure size 432x288 with 1 Axes>"
      ]
     },
     "metadata": {
      "needs_background": "light"
     },
     "output_type": "display_data"
    },
    {
     "data": {
      "image/png": "[encoded data removed]",
      "text/plain": [
       "<Figure size 432x288 with 1 Axes>"
      ]
     },
     "metadata": {
      "needs_background": "light"
     },
     "output_type": "display_data"
    },
    {
     "data": {
      "image/png": "[encoded data removed]",
      "text/plain": [
       "<Figure size 432x288 with 1 Axes>"
      ]
     },
     "metadata": {
      "needs_background": "light"
     },
     "output_type": "display_data"
    },
    {
     "data": {
      "image/png": "[encoded data removed]",
      "text/plain": [
       "<Figure size 432x288 with 1 Axes>"
      ]
     },
     "metadata": {
      "needs_background": "light"
     },
     "output_type": "display_data"
    }
   ],
   "source": [
    "list_scores = []\n",
    "for clf in clf_list:\n",
    "    scores = cross_val_score(clf, train_scaled_features, y_train,scoring='neg_root_mean_squared_error', cv=10, n_jobs=-1)\n",
    "    list_scores.append(scores)    \n",
    "    plt.boxplot(scores, showmeans=True)\n",
    "    plt.title(clf)\n",
    "    plt.show()    "
   ]
  },
  {
   "cell_type": "markdown",
   "id": "5f6d5bfb",
   "metadata": {},
   "source": [
    "## Verdict:  \n",
    "- Looking at the boxplot we can say that the lowest the stronger the regularization the better the model.\n",
    "    - i.e. the rmse is lower. \n",
    "- Lasso showed this observation better.  \n",
    "- There is no significant difference in the result of the strongly regularized ridge or lasso models so we go with lasso.  "
   ]
  },
  {
   "cell_type": "code",
   "execution_count": 22,
   "id": "1e7d0ca9",
   "metadata": {},
   "outputs": [
    {
     "name": "stderr",
     "output_type": "stream",
     "text": [
      "C:\\Users\\olani\\anaconda3\\envs\\Machine Learning 1\\lib\\site-packages\\sklearn\\linear_model\\_coordinate_descent.py:532: ConvergenceWarning: Objective did not converge. You might want to increase the number of iterations. Duality gap: 1435261.061702971, tolerance: 2122.319516997967\n",
      "  positive)\n"
     ]
    }
   ],
   "source": [
    "\n",
    "clf_reg = lasso_lowest.fit(train_scaled_features, y_train)\n",
    "clf_pred = clf_reg.predict(test_scaled_features)"
   ]
  },
  {
   "cell_type": "code",
   "execution_count": 23,
   "id": "d894d351",
   "metadata": {},
   "outputs": [
    {
     "data": {
      "text/plain": [
       "count    21197.000000\n",
       "mean        34.494532\n",
       "std         34.276465\n",
       "min          0.000210\n",
       "25%          5.380000\n",
       "50%         20.000000\n",
       "75%         63.000000\n",
       "max        185.000000\n",
       "Name: critical_temp, dtype: float64"
      ]
     },
     "execution_count": 23,
     "metadata": {},
     "output_type": "execute_result"
    }
   ],
   "source": [
    "## see the response variable distribution.  \n",
    "y.describe()"
   ]
  },
  {
   "cell_type": "code",
   "execution_count": 24,
   "id": "93ee9a57",
   "metadata": {},
   "outputs": [
    {
     "data": {
      "image/png": "[encoded data removed]",
      "text/plain": [
       "<Figure size 432x288 with 1 Axes>"
      ]
     },
     "metadata": {
      "needs_background": "light"
     },
     "output_type": "display_data"
    }
   ],
   "source": [
    "#We plot the predicted critical temperatures.  \n",
    "plt.boxplot(clf_pred, showmeans=True)\n",
    "plt.title(lasso_lowest)\n",
    "plt.show()   "
   ]
  },
  {
   "cell_type": "markdown",
   "id": "7fc88b96",
   "metadata": {},
   "source": [
    "## Evaluate on root mean squared error"
   ]
  },
  {
   "cell_type": "code",
   "execution_count": 25,
   "id": "a8eeb594",
   "metadata": {},
   "outputs": [
    {
     "data": {
      "text/plain": [
       "17.8143519092022"
      ]
     },
     "execution_count": 25,
     "metadata": {},
     "output_type": "execute_result"
    }
   ],
   "source": [
    "from sklearn.metrics import mean_squared_error\n",
    "reg_rmse = np.sqrt(mean_squared_error(y_test, clf_pred))\n",
    "reg_rmse\n"
   ]
  },
  {
   "cell_type": "markdown",
   "id": "6cd809b9",
   "metadata": {},
   "source": [
    "## Comments.  \n",
    "- Predicting the critical temperature yielded an rmse of 17.8 degrees. \n",
    "- This is not a great score since the range of actual values is between 0.000 and 185 with a mean of 34.4.  \n",
    "- That means we will be off the real value by almost 18 degrees which is a lot. \n",
    "- This means that our models were under-fitting the dataset.  "
   ]
  },
  {
   "cell_type": "code",
   "execution_count": null,
   "id": "b80211d6",
   "metadata": {},
   "outputs": [],
   "source": []
  },
  {
   "cell_type": "code",
   "execution_count": null,
   "id": "7897e82d",
   "metadata": {},
   "outputs": [],
   "source": []
  }
 ],
 "metadata": {
  "kernelspec": {
   "display_name": "Python 3",
   "language": "python",
   "name": "python3"
  },
  "language_info": {
   "codemirror_mode": {
    "name": "ipython",
    "version": 3
   },
   "file_extension": ".py",
   "mimetype": "text/x-python",
   "name": "python",
   "nbconvert_exporter": "python",
   "pygments_lexer": "ipython3",
   "version": "3.7.10"
  }
 },
 "nbformat": 4,
 "nbformat_minor": 5
}
